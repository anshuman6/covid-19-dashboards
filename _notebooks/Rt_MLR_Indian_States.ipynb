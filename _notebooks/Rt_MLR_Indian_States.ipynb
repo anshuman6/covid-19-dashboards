{
 "cells": [
  {
   "cell_type": "markdown",
   "metadata": {
    "papermill": {
     "duration": 0.014833,
     "end_time": "2020-05-29T01:22:42.418201",
     "exception": false,
     "start_time": "2020-05-29T01:22:42.403368",
     "status": "completed"
    },
    "tags": []
   },
   "source": [
    "# \"Linear Regression for R_t (difference) for Indian States\"\n",
    "> \"Linear Regression for R_t (difference) for Indian States\"\n",
    "\n",
    "- toc: true\n",
    "- branch: master\n",
    "- badges: true\n",
    "- comments: true\n",
    "- author: Ashutosh Sanzgiri\n",
    "- categories: [covid]"
   ]
  },
  {
   "cell_type": "markdown",
   "metadata": {
    "papermill": {
     "duration": 0.012779,
     "end_time": "2020-05-29T01:22:42.443280",
     "exception": false,
     "start_time": "2020-05-29T01:22:42.430501",
     "status": "completed"
    },
    "tags": []
   },
   "source": [
    "We run a linear regression for the difference in R_t for 15 states in India over a period from April 2nd and May 9th. The endogenous variable is the difference in Rt. The exogenous variables are difference in Covid19 testing rates, the Human Development Index for the state, the Governance Index for the state and the per Capita Health Care Expenditure in the state."
   ]
  },
  {
   "cell_type": "code",
   "execution_count": 1,
   "metadata": {
    "execution": {
     "iopub.execute_input": "2020-05-29T01:22:42.471077Z",
     "iopub.status.busy": "2020-05-29T01:22:42.470518Z",
     "iopub.status.idle": "2020-05-29T01:22:42.473033Z",
     "shell.execute_reply": "2020-05-29T01:22:42.472508Z"
    },
    "papermill": {
     "duration": 0.018236,
     "end_time": "2020-05-29T01:22:42.473135",
     "exception": false,
     "start_time": "2020-05-29T01:22:42.454899",
     "status": "completed"
    },
    "tags": []
   },
   "outputs": [],
   "source": [
    "#!pip install statsmodels"
   ]
  },
  {
   "cell_type": "code",
   "execution_count": 2,
   "metadata": {
    "execution": {
     "iopub.execute_input": "2020-05-29T01:22:42.500513Z",
     "iopub.status.busy": "2020-05-29T01:22:42.500000Z",
     "iopub.status.idle": "2020-05-29T01:22:43.229765Z",
     "shell.execute_reply": "2020-05-29T01:22:43.229116Z"
    },
    "papermill": {
     "duration": 0.745241,
     "end_time": "2020-05-29T01:22:43.229899",
     "exception": false,
     "start_time": "2020-05-29T01:22:42.484658",
     "status": "completed"
    },
    "tags": []
   },
   "outputs": [],
   "source": [
    "import pandas as pd\n",
    "import statsmodels.api as sm"
   ]
  },
  {
   "cell_type": "markdown",
   "metadata": {
    "papermill": {
     "duration": 0.012084,
     "end_time": "2020-05-29T01:22:43.254893",
     "exception": false,
     "start_time": "2020-05-29T01:22:43.242809",
     "status": "completed"
    },
    "tags": []
   },
   "source": [
    "#### Load india_state_data worksheet"
   ]
  },
  {
   "cell_type": "code",
   "execution_count": 3,
   "metadata": {
    "execution": {
     "iopub.execute_input": "2020-05-29T01:22:43.283633Z",
     "iopub.status.busy": "2020-05-29T01:22:43.283031Z",
     "iopub.status.idle": "2020-05-29T01:22:43.289486Z",
     "shell.execute_reply": "2020-05-29T01:22:43.289936Z"
    },
    "papermill": {
     "duration": 0.023312,
     "end_time": "2020-05-29T01:22:43.290039",
     "exception": false,
     "start_time": "2020-05-29T01:22:43.266727",
     "status": "completed"
    },
    "tags": []
   },
   "outputs": [],
   "source": [
    "ind_data = pd.read_csv('india_state_data.csv')"
   ]
  },
  {
   "cell_type": "code",
   "execution_count": 4,
   "metadata": {
    "execution": {
     "iopub.execute_input": "2020-05-29T01:22:43.327600Z",
     "iopub.status.busy": "2020-05-29T01:22:43.327048Z",
     "iopub.status.idle": "2020-05-29T01:22:43.330617Z",
     "shell.execute_reply": "2020-05-29T01:22:43.331099Z"
    },
    "papermill": {
     "duration": 0.023203,
     "end_time": "2020-05-29T01:22:43.331232",
     "exception": false,
     "start_time": "2020-05-29T01:22:43.308029",
     "status": "completed"
    },
    "tags": []
   },
   "outputs": [],
   "source": [
    "ind_data = ind_data.rename(columns={'diff': 'rt_diff', 'testing2ndapr':'test1', 'test 9may': 'test2'})\n",
    "ind_data['test_diff'] = ind_data['test2'] - ind_data['test1']"
   ]
  },
  {
   "cell_type": "code",
   "execution_count": 5,
   "metadata": {
    "execution": {
     "iopub.execute_input": "2020-05-29T01:22:43.366755Z",
     "iopub.status.busy": "2020-05-29T01:22:43.366205Z",
     "iopub.status.idle": "2020-05-29T01:22:43.382549Z",
     "shell.execute_reply": "2020-05-29T01:22:43.382098Z"
    },
    "papermill": {
     "duration": 0.038408,
     "end_time": "2020-05-29T01:22:43.382643",
     "exception": false,
     "start_time": "2020-05-29T01:22:43.344235",
     "status": "completed"
    },
    "tags": []
   },
   "outputs": [
    {
     "data": {
      "text/html": [
       "<div>\n",
       "<style scoped>\n",
       "    .dataframe tbody tr th:only-of-type {\n",
       "        vertical-align: middle;\n",
       "    }\n",
       "\n",
       "    .dataframe tbody tr th {\n",
       "        vertical-align: top;\n",
       "    }\n",
       "\n",
       "    .dataframe thead th {\n",
       "        text-align: right;\n",
       "    }\n",
       "</style>\n",
       "<table border=\"1\" class=\"dataframe\">\n",
       "  <thead>\n",
       "    <tr style=\"text-align: right;\">\n",
       "      <th></th>\n",
       "      <th>States</th>\n",
       "      <th>Rt2ndapril</th>\n",
       "      <th>Rt9may</th>\n",
       "      <th>rt_diff</th>\n",
       "      <th>test1</th>\n",
       "      <th>test2</th>\n",
       "      <th>test diff</th>\n",
       "      <th>log(test diff)</th>\n",
       "      <th>hdi</th>\n",
       "      <th>governance</th>\n",
       "      <th>pche</th>\n",
       "      <th>interaction</th>\n",
       "      <th>test_diff</th>\n",
       "    </tr>\n",
       "  </thead>\n",
       "  <tbody>\n",
       "    <tr>\n",
       "      <th>0</th>\n",
       "      <td>AP</td>\n",
       "      <td>2.18</td>\n",
       "      <td>0.98</td>\n",
       "      <td>1.20</td>\n",
       "      <td>21</td>\n",
       "      <td>3121</td>\n",
       "      <td>3100</td>\n",
       "      <td>8.039</td>\n",
       "      <td>0.650</td>\n",
       "      <td>5.05</td>\n",
       "      <td>1013</td>\n",
       "      <td>5.225349</td>\n",
       "      <td>3100</td>\n",
       "    </tr>\n",
       "    <tr>\n",
       "      <th>1</th>\n",
       "      <td>BR</td>\n",
       "      <td>1.72</td>\n",
       "      <td>1.10</td>\n",
       "      <td>0.62</td>\n",
       "      <td>25</td>\n",
       "      <td>286</td>\n",
       "      <td>261</td>\n",
       "      <td>5.565</td>\n",
       "      <td>0.576</td>\n",
       "      <td>4.40</td>\n",
       "      <td>491</td>\n",
       "      <td>3.205440</td>\n",
       "      <td>261</td>\n",
       "    </tr>\n",
       "    <tr>\n",
       "      <th>2</th>\n",
       "      <td>DL</td>\n",
       "      <td>2.05</td>\n",
       "      <td>1.12</td>\n",
       "      <td>0.93</td>\n",
       "      <td>143</td>\n",
       "      <td>4591</td>\n",
       "      <td>4448</td>\n",
       "      <td>8.400</td>\n",
       "      <td>0.746</td>\n",
       "      <td>5.62</td>\n",
       "      <td>1992</td>\n",
       "      <td>6.266400</td>\n",
       "      <td>4448</td>\n",
       "    </tr>\n",
       "    <tr>\n",
       "      <th>3</th>\n",
       "      <td>GJ</td>\n",
       "      <td>1.35</td>\n",
       "      <td>1.06</td>\n",
       "      <td>0.29</td>\n",
       "      <td>66</td>\n",
       "      <td>1716</td>\n",
       "      <td>1650</td>\n",
       "      <td>7.409</td>\n",
       "      <td>0.672</td>\n",
       "      <td>5.04</td>\n",
       "      <td>1189</td>\n",
       "      <td>4.978848</td>\n",
       "      <td>1650</td>\n",
       "    </tr>\n",
       "    <tr>\n",
       "      <th>4</th>\n",
       "      <td>HR</td>\n",
       "      <td>1.96</td>\n",
       "      <td>1.15</td>\n",
       "      <td>0.81</td>\n",
       "      <td>48</td>\n",
       "      <td>1945</td>\n",
       "      <td>1897</td>\n",
       "      <td>7.548</td>\n",
       "      <td>0.708</td>\n",
       "      <td>5.00</td>\n",
       "      <td>1119</td>\n",
       "      <td>5.343984</td>\n",
       "      <td>1897</td>\n",
       "    </tr>\n",
       "  </tbody>\n",
       "</table>\n",
       "</div>"
      ],
      "text/plain": [
       "  States  Rt2ndapril  Rt9may  rt_diff  test1  test2  test diff  \\\n",
       "0     AP        2.18    0.98     1.20     21   3121       3100   \n",
       "1     BR        1.72    1.10     0.62     25    286        261   \n",
       "2     DL        2.05    1.12     0.93    143   4591       4448   \n",
       "3     GJ        1.35    1.06     0.29     66   1716       1650   \n",
       "4     HR        1.96    1.15     0.81     48   1945       1897   \n",
       "\n",
       "   log(test diff)    hdi  governance  pche  interaction  test_diff  \n",
       "0           8.039  0.650        5.05  1013     5.225349       3100  \n",
       "1           5.565  0.576        4.40   491     3.205440        261  \n",
       "2           8.400  0.746        5.62  1992     6.266400       4448  \n",
       "3           7.409  0.672        5.04  1189     4.978848       1650  \n",
       "4           7.548  0.708        5.00  1119     5.343984       1897  "
      ]
     },
     "execution_count": 5,
     "metadata": {},
     "output_type": "execute_result"
    }
   ],
   "source": [
    "ind_data.head()"
   ]
  },
  {
   "cell_type": "code",
   "execution_count": 6,
   "metadata": {
    "execution": {
     "iopub.execute_input": "2020-05-29T01:22:43.420700Z",
     "iopub.status.busy": "2020-05-29T01:22:43.419948Z",
     "iopub.status.idle": "2020-05-29T01:22:43.423335Z",
     "shell.execute_reply": "2020-05-29T01:22:43.423942Z"
    },
    "papermill": {
     "duration": 0.023622,
     "end_time": "2020-05-29T01:22:43.424054",
     "exception": false,
     "start_time": "2020-05-29T01:22:43.400432",
     "status": "completed"
    },
    "tags": []
   },
   "outputs": [
    {
     "data": {
      "text/plain": [
       "Index(['rt_diff', 'test_diff', 'hdi', 'governance', 'pche'], dtype='object')"
      ]
     },
     "execution_count": 6,
     "metadata": {},
     "output_type": "execute_result"
    }
   ],
   "source": [
    "ind_data2 = ind_data[['rt_diff', 'test_diff', 'hdi', 'governance', 'pche']].copy()\n",
    "ind_data2.columns"
   ]
  },
  {
   "cell_type": "code",
   "execution_count": 7,
   "metadata": {
    "execution": {
     "iopub.execute_input": "2020-05-29T01:22:43.459650Z",
     "iopub.status.busy": "2020-05-29T01:22:43.459155Z",
     "iopub.status.idle": "2020-05-29T01:22:43.461669Z",
     "shell.execute_reply": "2020-05-29T01:22:43.462059Z"
    },
    "papermill": {
     "duration": 0.02422,
     "end_time": "2020-05-29T01:22:43.462161",
     "exception": false,
     "start_time": "2020-05-29T01:22:43.437941",
     "status": "completed"
    },
    "tags": []
   },
   "outputs": [
    {
     "data": {
      "text/html": [
       "<div>\n",
       "<style scoped>\n",
       "    .dataframe tbody tr th:only-of-type {\n",
       "        vertical-align: middle;\n",
       "    }\n",
       "\n",
       "    .dataframe tbody tr th {\n",
       "        vertical-align: top;\n",
       "    }\n",
       "\n",
       "    .dataframe thead th {\n",
       "        text-align: right;\n",
       "    }\n",
       "</style>\n",
       "<table border=\"1\" class=\"dataframe\">\n",
       "  <thead>\n",
       "    <tr style=\"text-align: right;\">\n",
       "      <th></th>\n",
       "      <th>rt_diff</th>\n",
       "      <th>test_diff</th>\n",
       "      <th>hdi</th>\n",
       "      <th>governance</th>\n",
       "      <th>pche</th>\n",
       "    </tr>\n",
       "  </thead>\n",
       "  <tbody>\n",
       "    <tr>\n",
       "      <th>0</th>\n",
       "      <td>1.20</td>\n",
       "      <td>3100</td>\n",
       "      <td>0.650</td>\n",
       "      <td>5.05</td>\n",
       "      <td>1013</td>\n",
       "    </tr>\n",
       "    <tr>\n",
       "      <th>1</th>\n",
       "      <td>0.62</td>\n",
       "      <td>261</td>\n",
       "      <td>0.576</td>\n",
       "      <td>4.40</td>\n",
       "      <td>491</td>\n",
       "    </tr>\n",
       "    <tr>\n",
       "      <th>2</th>\n",
       "      <td>0.93</td>\n",
       "      <td>4448</td>\n",
       "      <td>0.746</td>\n",
       "      <td>5.62</td>\n",
       "      <td>1992</td>\n",
       "    </tr>\n",
       "    <tr>\n",
       "      <th>3</th>\n",
       "      <td>0.29</td>\n",
       "      <td>1650</td>\n",
       "      <td>0.672</td>\n",
       "      <td>5.04</td>\n",
       "      <td>1189</td>\n",
       "    </tr>\n",
       "    <tr>\n",
       "      <th>4</th>\n",
       "      <td>0.81</td>\n",
       "      <td>1897</td>\n",
       "      <td>0.708</td>\n",
       "      <td>5.00</td>\n",
       "      <td>1119</td>\n",
       "    </tr>\n",
       "  </tbody>\n",
       "</table>\n",
       "</div>"
      ],
      "text/plain": [
       "   rt_diff  test_diff    hdi  governance  pche\n",
       "0     1.20       3100  0.650        5.05  1013\n",
       "1     0.62        261  0.576        4.40   491\n",
       "2     0.93       4448  0.746        5.62  1992\n",
       "3     0.29       1650  0.672        5.04  1189\n",
       "4     0.81       1897  0.708        5.00  1119"
      ]
     },
     "execution_count": 7,
     "metadata": {},
     "output_type": "execute_result"
    }
   ],
   "source": [
    "ind_data2.head()"
   ]
  },
  {
   "cell_type": "markdown",
   "metadata": {
    "papermill": {
     "duration": 0.013533,
     "end_time": "2020-05-29T01:22:43.488638",
     "exception": false,
     "start_time": "2020-05-29T01:22:43.475105",
     "status": "completed"
    },
    "tags": []
   },
   "source": [
    "### MinMax Normalization of all columns"
   ]
  },
  {
   "cell_type": "code",
   "execution_count": 8,
   "metadata": {
    "execution": {
     "iopub.execute_input": "2020-05-29T01:22:43.523302Z",
     "iopub.status.busy": "2020-05-29T01:22:43.522710Z",
     "iopub.status.idle": "2020-05-29T01:22:43.524370Z",
     "shell.execute_reply": "2020-05-29T01:22:43.524954Z"
    },
    "papermill": {
     "duration": 0.023499,
     "end_time": "2020-05-29T01:22:43.525068",
     "exception": false,
     "start_time": "2020-05-29T01:22:43.501569",
     "status": "completed"
    },
    "tags": []
   },
   "outputs": [],
   "source": [
    "for c in ind_data2.columns.values:\n",
    "    mmin = ind_data2[c].min()\n",
    "    mmax = ind_data2[c].max()\n",
    "    ind_data2[c] = (ind_data2[c] - mmin) / (mmax-mmin)"
   ]
  },
  {
   "cell_type": "code",
   "execution_count": 9,
   "metadata": {
    "execution": {
     "iopub.execute_input": "2020-05-29T01:22:43.559194Z",
     "iopub.status.busy": "2020-05-29T01:22:43.558609Z",
     "iopub.status.idle": "2020-05-29T01:22:43.560092Z",
     "shell.execute_reply": "2020-05-29T01:22:43.560522Z"
    },
    "papermill": {
     "duration": 0.021633,
     "end_time": "2020-05-29T01:22:43.560629",
     "exception": false,
     "start_time": "2020-05-29T01:22:43.538996",
     "status": "completed"
    },
    "tags": []
   },
   "outputs": [],
   "source": [
    "y = ind_data2.rt_diff.values\n",
    "X = ind_data2[['test_diff', 'hdi', 'governance', 'pche']]"
   ]
  },
  {
   "cell_type": "code",
   "execution_count": 10,
   "metadata": {
    "execution": {
     "iopub.execute_input": "2020-05-29T01:22:43.590852Z",
     "iopub.status.busy": "2020-05-29T01:22:43.590338Z",
     "iopub.status.idle": "2020-05-29T01:22:43.602663Z",
     "shell.execute_reply": "2020-05-29T01:22:43.603191Z"
    },
    "papermill": {
     "duration": 0.029828,
     "end_time": "2020-05-29T01:22:43.603292",
     "exception": false,
     "start_time": "2020-05-29T01:22:43.573464",
     "status": "completed"
    },
    "tags": []
   },
   "outputs": [
    {
     "name": "stdout",
     "output_type": "stream",
     "text": [
      "                                 OLS Regression Results                                \n",
      "=======================================================================================\n",
      "Dep. Variable:                      y   R-squared (uncentered):                   0.732\n",
      "Model:                            OLS   Adj. R-squared (uncentered):              0.634\n",
      "Method:                 Least Squares   F-statistic:                              7.505\n",
      "Date:                Fri, 29 May 2020   Prob (F-statistic):                     0.00361\n",
      "Time:                        01:22:43   Log-Likelihood:                        -0.89814\n",
      "No. Observations:                  15   AIC:                                      9.796\n",
      "Df Residuals:                      11   BIC:                                      12.63\n",
      "Df Model:                           4                                                  \n",
      "Covariance Type:            nonrobust                                                  \n",
      "==============================================================================\n",
      "                 coef    std err          t      P>|t|      [0.025      0.975]\n",
      "------------------------------------------------------------------------------\n",
      "test_diff      0.5534      0.555      0.998      0.340      -0.668       1.774\n",
      "hdi           -0.4396      0.520     -0.846      0.416      -1.583       0.704\n",
      "governance     0.7055      0.369      1.912      0.082      -0.107       1.518\n",
      "pche          -0.0758      0.668     -0.114      0.912      -1.545       1.394\n",
      "==============================================================================\n",
      "Omnibus:                        0.302   Durbin-Watson:                   1.605\n",
      "Prob(Omnibus):                  0.860   Jarque-Bera (JB):                0.434\n",
      "Skew:                          -0.249   Prob(JB):                        0.805\n",
      "Kurtosis:                       2.332   Cond. No.                         12.2\n",
      "==============================================================================\n",
      "\n",
      "Warnings:\n",
      "[1] Standard Errors assume that the covariance matrix of the errors is correctly specified.\n"
     ]
    },
    {
     "name": "stderr",
     "output_type": "stream",
     "text": [
      "/opt/hostedtoolcache/Python/3.6.10/x64/lib/python3.6/site-packages/scipy/stats/stats.py:1535: UserWarning: kurtosistest only valid for n>=20 ... continuing anyway, n=15\n",
      "  \"anyway, n=%i\" % int(n))\n"
     ]
    }
   ],
   "source": [
    "model = sm.OLS(y, X)\n",
    "results = model.fit()\n",
    "print(results.summary())"
   ]
  },
  {
   "cell_type": "markdown",
   "metadata": {
    "papermill": {
     "duration": 0.013592,
     "end_time": "2020-05-29T01:22:43.632829",
     "exception": false,
     "start_time": "2020-05-29T01:22:43.619237",
     "status": "completed"
    },
    "tags": []
   },
   "source": [
    "### Add Interaction Term"
   ]
  },
  {
   "cell_type": "code",
   "execution_count": 11,
   "metadata": {
    "execution": {
     "iopub.execute_input": "2020-05-29T01:22:43.665034Z",
     "iopub.status.busy": "2020-05-29T01:22:43.664491Z",
     "iopub.status.idle": "2020-05-29T01:22:43.667335Z",
     "shell.execute_reply": "2020-05-29T01:22:43.666617Z"
    },
    "papermill": {
     "duration": 0.020406,
     "end_time": "2020-05-29T01:22:43.667451",
     "exception": false,
     "start_time": "2020-05-29T01:22:43.647045",
     "status": "completed"
    },
    "tags": []
   },
   "outputs": [],
   "source": [
    "ind_data2['xterm'] = ind_data2['test_diff']*ind_data2['hdi']"
   ]
  },
  {
   "cell_type": "code",
   "execution_count": 12,
   "metadata": {
    "execution": {
     "iopub.execute_input": "2020-05-29T01:22:43.703855Z",
     "iopub.status.busy": "2020-05-29T01:22:43.703341Z",
     "iopub.status.idle": "2020-05-29T01:22:43.705767Z",
     "shell.execute_reply": "2020-05-29T01:22:43.705322Z"
    },
    "papermill": {
     "duration": 0.021827,
     "end_time": "2020-05-29T01:22:43.705858",
     "exception": false,
     "start_time": "2020-05-29T01:22:43.684031",
     "status": "completed"
    },
    "tags": []
   },
   "outputs": [],
   "source": [
    "X = ind_data2[['test_diff', 'hdi', 'governance', 'pche', 'xterm']]"
   ]
  },
  {
   "cell_type": "code",
   "execution_count": 13,
   "metadata": {
    "execution": {
     "iopub.execute_input": "2020-05-29T01:22:43.755826Z",
     "iopub.status.busy": "2020-05-29T01:22:43.755045Z",
     "iopub.status.idle": "2020-05-29T01:22:43.757983Z",
     "shell.execute_reply": "2020-05-29T01:22:43.758535Z"
    },
    "papermill": {
     "duration": 0.037817,
     "end_time": "2020-05-29T01:22:43.758714",
     "exception": false,
     "start_time": "2020-05-29T01:22:43.720897",
     "status": "completed"
    },
    "tags": []
   },
   "outputs": [
    {
     "name": "stdout",
     "output_type": "stream",
     "text": [
      "                                 OLS Regression Results                                \n",
      "=======================================================================================\n",
      "Dep. Variable:                      y   R-squared (uncentered):                   0.760\n",
      "Model:                            OLS   Adj. R-squared (uncentered):              0.640\n",
      "Method:                 Least Squares   F-statistic:                              6.340\n",
      "Date:                Fri, 29 May 2020   Prob (F-statistic):                     0.00666\n",
      "Time:                        01:22:43   Log-Likelihood:                       -0.060217\n",
      "No. Observations:                  15   AIC:                                      10.12\n",
      "Df Residuals:                      10   BIC:                                      13.66\n",
      "Df Model:                           5                                                  \n",
      "Covariance Type:            nonrobust                                                  \n",
      "==============================================================================\n",
      "                 coef    std err          t      P>|t|      [0.025      0.975]\n",
      "------------------------------------------------------------------------------\n",
      "test_diff      1.2916      0.874      1.478      0.170      -0.656       3.239\n",
      "hdi           -0.2276      0.551     -0.413      0.688      -1.455       1.000\n",
      "governance     0.5859      0.382      1.533      0.156      -0.266       1.437\n",
      "pche          -0.2638      0.684     -0.385      0.708      -1.789       1.261\n",
      "xterm         -1.0424      0.959     -1.087      0.302      -3.179       1.094\n",
      "==============================================================================\n",
      "Omnibus:                        0.960   Durbin-Watson:                   1.801\n",
      "Prob(Omnibus):                  0.619   Jarque-Bera (JB):                0.446\n",
      "Skew:                          -0.415   Prob(JB):                        0.800\n",
      "Kurtosis:                       2.848   Cond. No.                         17.8\n",
      "==============================================================================\n",
      "\n",
      "Warnings:\n",
      "[1] Standard Errors assume that the covariance matrix of the errors is correctly specified.\n"
     ]
    }
   ],
   "source": [
    "model2 = sm.OLS(y, X)\n",
    "results2 = model2.fit()\n",
    "print(results2.summary())"
   ]
  },
  {
   "cell_type": "markdown",
   "metadata": {
    "papermill": {
     "duration": 0.014329,
     "end_time": "2020-05-29T01:22:43.787497",
     "exception": false,
     "start_time": "2020-05-29T01:22:43.773168",
     "status": "completed"
    },
    "tags": []
   },
   "source": [
    "### Misc Analysis"
   ]
  },
  {
   "cell_type": "code",
   "execution_count": 14,
   "metadata": {
    "execution": {
     "iopub.execute_input": "2020-05-29T01:22:43.821383Z",
     "iopub.status.busy": "2020-05-29T01:22:43.820189Z",
     "iopub.status.idle": "2020-05-29T01:22:43.824766Z",
     "shell.execute_reply": "2020-05-29T01:22:43.824198Z"
    },
    "papermill": {
     "duration": 0.022448,
     "end_time": "2020-05-29T01:22:43.824893",
     "exception": false,
     "start_time": "2020-05-29T01:22:43.802445",
     "status": "completed"
    },
    "tags": []
   },
   "outputs": [
    {
     "data": {
      "text/plain": [
       "(1.5688969386714713, 0.3882351817214336)"
      ]
     },
     "execution_count": 14,
     "metadata": {},
     "output_type": "execute_result"
    }
   ],
   "source": [
    "sm.stats.linear_rainbow(results)"
   ]
  },
  {
   "cell_type": "code",
   "execution_count": 15,
   "metadata": {
    "execution": {
     "iopub.execute_input": "2020-05-29T01:22:43.860633Z",
     "iopub.status.busy": "2020-05-29T01:22:43.860127Z",
     "iopub.status.idle": "2020-05-29T01:22:44.384832Z",
     "shell.execute_reply": "2020-05-29T01:22:44.385271Z"
    },
    "papermill": {
     "duration": 0.546458,
     "end_time": "2020-05-29T01:22:44.385393",
     "exception": false,
     "start_time": "2020-05-29T01:22:43.838935",
     "status": "completed"
    },
    "tags": []
   },
   "outputs": [
    {
     "name": "stderr",
     "output_type": "stream",
     "text": [
      "findfont: Font family ['sans-serif'] not found. Falling back to DejaVu Sans.\n"
     ]
    },
    {
     "name": "stderr",
     "output_type": "stream",
     "text": [
      "findfont: Font family ['sans-serif'] not found. Falling back to DejaVu Sans.\n"
     ]
    },
    {
     "name": "stderr",
     "output_type": "stream",
     "text": [
      "findfont: Font family ['sans-serif'] not found. Falling back to DejaVu Sans.\n"
     ]
    },
    {
     "data": {
      "image/png": "[encoded data removed]",
      "text/plain": [
       "<Figure size 432x288 with 1 Axes>"
      ]
     },
     "execution_count": 15,
     "metadata": {},
     "output_type": "execute_result"
    },
    {
     "data": {
      "image/png": "[encoded data removed]",
      "text/plain": [
       "<Figure size 432x288 with 1 Axes>"
      ]
     },
     "metadata": {
      "needs_background": "light"
     },
     "output_type": "display_data"
    }
   ],
   "source": [
    "sm.graphics.plot_partregress('rt_diff', 'test_diff', ['hdi', 'governance', 'pche'], data=ind_data2, obs_labels=False)"
   ]
  },
  {
   "cell_type": "code",
   "execution_count": 16,
   "metadata": {
    "execution": {
     "iopub.execute_input": "2020-05-29T01:22:44.430874Z",
     "iopub.status.busy": "2020-05-29T01:22:44.429594Z",
     "iopub.status.idle": "2020-05-29T01:22:44.433489Z",
     "shell.execute_reply": "2020-05-29T01:22:44.434265Z"
    },
    "papermill": {
     "duration": 0.029668,
     "end_time": "2020-05-29T01:22:44.434449",
     "exception": false,
     "start_time": "2020-05-29T01:22:44.404781",
     "status": "completed"
    },
    "tags": []
   },
   "outputs": [
    {
     "name": "stdout",
     "output_type": "stream",
     "text": [
      "[ 1.29155843 -0.22758562  0.58588266 -0.2638172  -1.04244082]\n"
     ]
    }
   ],
   "source": [
    "model = sm.OLS(y, X)\n",
    "results = model.fit_regularized(L1_wt=0.0)\n",
    "print(results.params)"
   ]
  }
 ],
 "metadata": {
  "kernelspec": {
   "display_name": "Python 3",
   "language": "python",
   "name": "python3"
  },
  "language_info": {
   "codemirror_mode": {
    "name": "ipython",
    "version": 3
   },
   "file_extension": ".py",
   "mimetype": "text/x-python",
   "name": "python",
   "nbconvert_exporter": "python",
   "pygments_lexer": "ipython3",
   "version": "3.6.10"
  },
  "papermill": {
   "duration": 2.980362,
   "end_time": "2020-05-29T01:22:44.560796",
   "environment_variables": {},
   "exception": null,
   "input_path": "Rt_MLR_Indian_States.ipynb",
   "output_path": "Rt_MLR_Indian_States.ipynb",
   "parameters": {},
   "start_time": "2020-05-29T01:22:41.580434",
   "version": "2.1.1"
  }
 },
 "nbformat": 4,
 "nbformat_minor": 4
}