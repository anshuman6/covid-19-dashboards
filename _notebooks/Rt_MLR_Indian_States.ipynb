{
 "cells": [
  {
   "cell_type": "code",
   "execution_count": 54,
   "metadata": {},
   "outputs": [],
   "source": [
    "#!pip install statsmodels"
   ]
  },
  {
   "cell_type": "code",
   "execution_count": 55,
   "metadata": {},
   "outputs": [],
   "source": [
    "import pandas as pd\n",
    "import statsmodels.api as sm"
   ]
  },
  {
   "cell_type": "markdown",
   "metadata": {},
   "source": [
    "#### Load india_state_data worksheet"
   ]
  },
  {
   "cell_type": "code",
   "execution_count": 56,
   "metadata": {},
   "outputs": [],
   "source": [
    "ind_data = pd.read_csv('india_state_data.csv')"
   ]
  },
  {
   "cell_type": "code",
   "execution_count": 57,
   "metadata": {},
   "outputs": [],
   "source": [
    "ind_data = ind_data.rename(columns={'diff': 'rt_diff', 'testing2ndapr':'test1', 'test 9may': 'test2'})\n",
    "ind_data['test_diff'] = ind_data['test2'] - ind_data['test1']"
   ]
  },
  {
   "cell_type": "code",
   "execution_count": 58,
   "metadata": {},
   "outputs": [
    {
     "data": {
      "text/html": [
       "<div>\n",
       "<style scoped>\n",
       "    .dataframe tbody tr th:only-of-type {\n",
       "        vertical-align: middle;\n",
       "    }\n",
       "\n",
       "    .dataframe tbody tr th {\n",
       "        vertical-align: top;\n",
       "    }\n",
       "\n",
       "    .dataframe thead th {\n",
       "        text-align: right;\n",
       "    }\n",
       "</style>\n",
       "<table border=\"1\" class=\"dataframe\">\n",
       "  <thead>\n",
       "    <tr style=\"text-align: right;\">\n",
       "      <th></th>\n",
       "      <th>States</th>\n",
       "      <th>Rt2ndapril</th>\n",
       "      <th>Rt9may</th>\n",
       "      <th>rt_diff</th>\n",
       "      <th>test1</th>\n",
       "      <th>test2</th>\n",
       "      <th>test diff</th>\n",
       "      <th>log(test diff)</th>\n",
       "      <th>hdi</th>\n",
       "      <th>governance</th>\n",
       "      <th>pche</th>\n",
       "      <th>interaction</th>\n",
       "      <th>test_diff</th>\n",
       "    </tr>\n",
       "  </thead>\n",
       "  <tbody>\n",
       "    <tr>\n",
       "      <th>0</th>\n",
       "      <td>AP</td>\n",
       "      <td>2.18</td>\n",
       "      <td>0.98</td>\n",
       "      <td>1.20</td>\n",
       "      <td>21</td>\n",
       "      <td>3121</td>\n",
       "      <td>3100</td>\n",
       "      <td>8.039</td>\n",
       "      <td>0.650</td>\n",
       "      <td>5.05</td>\n",
       "      <td>1013</td>\n",
       "      <td>5.225349</td>\n",
       "      <td>3100</td>\n",
       "    </tr>\n",
       "    <tr>\n",
       "      <th>1</th>\n",
       "      <td>BR</td>\n",
       "      <td>1.72</td>\n",
       "      <td>1.10</td>\n",
       "      <td>0.62</td>\n",
       "      <td>25</td>\n",
       "      <td>286</td>\n",
       "      <td>261</td>\n",
       "      <td>5.565</td>\n",
       "      <td>0.576</td>\n",
       "      <td>4.40</td>\n",
       "      <td>491</td>\n",
       "      <td>3.205440</td>\n",
       "      <td>261</td>\n",
       "    </tr>\n",
       "    <tr>\n",
       "      <th>2</th>\n",
       "      <td>DL</td>\n",
       "      <td>2.05</td>\n",
       "      <td>1.12</td>\n",
       "      <td>0.93</td>\n",
       "      <td>143</td>\n",
       "      <td>4591</td>\n",
       "      <td>4448</td>\n",
       "      <td>8.400</td>\n",
       "      <td>0.746</td>\n",
       "      <td>5.62</td>\n",
       "      <td>1992</td>\n",
       "      <td>6.266400</td>\n",
       "      <td>4448</td>\n",
       "    </tr>\n",
       "    <tr>\n",
       "      <th>3</th>\n",
       "      <td>GJ</td>\n",
       "      <td>1.35</td>\n",
       "      <td>1.06</td>\n",
       "      <td>0.29</td>\n",
       "      <td>66</td>\n",
       "      <td>1716</td>\n",
       "      <td>1650</td>\n",
       "      <td>7.409</td>\n",
       "      <td>0.672</td>\n",
       "      <td>5.04</td>\n",
       "      <td>1189</td>\n",
       "      <td>4.978848</td>\n",
       "      <td>1650</td>\n",
       "    </tr>\n",
       "    <tr>\n",
       "      <th>4</th>\n",
       "      <td>HR</td>\n",
       "      <td>1.96</td>\n",
       "      <td>1.15</td>\n",
       "      <td>0.81</td>\n",
       "      <td>48</td>\n",
       "      <td>1945</td>\n",
       "      <td>1897</td>\n",
       "      <td>7.548</td>\n",
       "      <td>0.708</td>\n",
       "      <td>5.00</td>\n",
       "      <td>1119</td>\n",
       "      <td>5.343984</td>\n",
       "      <td>1897</td>\n",
       "    </tr>\n",
       "  </tbody>\n",
       "</table>\n",
       "</div>"
      ],
      "text/plain": [
       "  States  Rt2ndapril  Rt9may  rt_diff  test1  test2  test diff  \\\n",
       "0     AP        2.18    0.98     1.20     21   3121       3100   \n",
       "1     BR        1.72    1.10     0.62     25    286        261   \n",
       "2     DL        2.05    1.12     0.93    143   4591       4448   \n",
       "3     GJ        1.35    1.06     0.29     66   1716       1650   \n",
       "4     HR        1.96    1.15     0.81     48   1945       1897   \n",
       "\n",
       "   log(test diff)    hdi  governance  pche  interaction  test_diff  \n",
       "0           8.039  0.650        5.05  1013     5.225349       3100  \n",
       "1           5.565  0.576        4.40   491     3.205440        261  \n",
       "2           8.400  0.746        5.62  1992     6.266400       4448  \n",
       "3           7.409  0.672        5.04  1189     4.978848       1650  \n",
       "4           7.548  0.708        5.00  1119     5.343984       1897  "
      ]
     },
     "execution_count": 58,
     "metadata": {},
     "output_type": "execute_result"
    }
   ],
   "source": [
    "ind_data.head()"
   ]
  },
  {
   "cell_type": "code",
   "execution_count": 59,
   "metadata": {},
   "outputs": [
    {
     "data": {
      "text/plain": [
       "Index(['rt_diff', 'test_diff', 'hdi', 'governance', 'pche'], dtype='object')"
      ]
     },
     "execution_count": 59,
     "metadata": {},
     "output_type": "execute_result"
    }
   ],
   "source": [
    "ind_data2 = ind_data[['rt_diff', 'test_diff', 'hdi', 'governance', 'pche']].copy()\n",
    "ind_data2.columns"
   ]
  },
  {
   "cell_type": "code",
   "execution_count": 60,
   "metadata": {},
   "outputs": [
    {
     "data": {
      "text/html": [
       "<div>\n",
       "<style scoped>\n",
       "    .dataframe tbody tr th:only-of-type {\n",
       "        vertical-align: middle;\n",
       "    }\n",
       "\n",
       "    .dataframe tbody tr th {\n",
       "        vertical-align: top;\n",
       "    }\n",
       "\n",
       "    .dataframe thead th {\n",
       "        text-align: right;\n",
       "    }\n",
       "</style>\n",
       "<table border=\"1\" class=\"dataframe\">\n",
       "  <thead>\n",
       "    <tr style=\"text-align: right;\">\n",
       "      <th></th>\n",
       "      <th>rt_diff</th>\n",
       "      <th>test_diff</th>\n",
       "      <th>hdi</th>\n",
       "      <th>governance</th>\n",
       "      <th>pche</th>\n",
       "    </tr>\n",
       "  </thead>\n",
       "  <tbody>\n",
       "    <tr>\n",
       "      <th>0</th>\n",
       "      <td>1.20</td>\n",
       "      <td>3100</td>\n",
       "      <td>0.650</td>\n",
       "      <td>5.05</td>\n",
       "      <td>1013</td>\n",
       "    </tr>\n",
       "    <tr>\n",
       "      <th>1</th>\n",
       "      <td>0.62</td>\n",
       "      <td>261</td>\n",
       "      <td>0.576</td>\n",
       "      <td>4.40</td>\n",
       "      <td>491</td>\n",
       "    </tr>\n",
       "    <tr>\n",
       "      <th>2</th>\n",
       "      <td>0.93</td>\n",
       "      <td>4448</td>\n",
       "      <td>0.746</td>\n",
       "      <td>5.62</td>\n",
       "      <td>1992</td>\n",
       "    </tr>\n",
       "    <tr>\n",
       "      <th>3</th>\n",
       "      <td>0.29</td>\n",
       "      <td>1650</td>\n",
       "      <td>0.672</td>\n",
       "      <td>5.04</td>\n",
       "      <td>1189</td>\n",
       "    </tr>\n",
       "    <tr>\n",
       "      <th>4</th>\n",
       "      <td>0.81</td>\n",
       "      <td>1897</td>\n",
       "      <td>0.708</td>\n",
       "      <td>5.00</td>\n",
       "      <td>1119</td>\n",
       "    </tr>\n",
       "  </tbody>\n",
       "</table>\n",
       "</div>"
      ],
      "text/plain": [
       "   rt_diff  test_diff    hdi  governance  pche\n",
       "0     1.20       3100  0.650        5.05  1013\n",
       "1     0.62        261  0.576        4.40   491\n",
       "2     0.93       4448  0.746        5.62  1992\n",
       "3     0.29       1650  0.672        5.04  1189\n",
       "4     0.81       1897  0.708        5.00  1119"
      ]
     },
     "execution_count": 60,
     "metadata": {},
     "output_type": "execute_result"
    }
   ],
   "source": [
    "ind_data2.head()"
   ]
  },
  {
   "cell_type": "markdown",
   "metadata": {},
   "source": [
    "### MinMax Normalization of all columns"
   ]
  },
  {
   "cell_type": "code",
   "execution_count": 61,
   "metadata": {},
   "outputs": [],
   "source": [
    "for c in ind_data2.columns.values:\n",
    "    mmin = ind_data2[c].min()\n",
    "    mmax = ind_data2[c].max()\n",
    "    ind_data2[c] = (ind_data2[c] - mmin) / (mmax-mmin)"
   ]
  },
  {
   "cell_type": "code",
   "execution_count": 62,
   "metadata": {},
   "outputs": [],
   "source": [
    "y = ind_data2.rt_diff.values\n",
    "X = ind_data2[['test_diff', 'hdi', 'governance', 'pche']]"
   ]
  },
  {
   "cell_type": "code",
   "execution_count": 63,
   "metadata": {},
   "outputs": [
    {
     "name": "stdout",
     "output_type": "stream",
     "text": [
      "                                 OLS Regression Results                                \n",
      "=======================================================================================\n",
      "Dep. Variable:                      y   R-squared (uncentered):                   0.732\n",
      "Model:                            OLS   Adj. R-squared (uncentered):              0.634\n",
      "Method:                 Least Squares   F-statistic:                              7.505\n",
      "Date:                Mon, 11 May 2020   Prob (F-statistic):                     0.00361\n",
      "Time:                        06:51:52   Log-Likelihood:                        -0.89814\n",
      "No. Observations:                  15   AIC:                                      9.796\n",
      "Df Residuals:                      11   BIC:                                      12.63\n",
      "Df Model:                           4                                                  \n",
      "Covariance Type:            nonrobust                                                  \n",
      "==============================================================================\n",
      "                 coef    std err          t      P>|t|      [0.025      0.975]\n",
      "------------------------------------------------------------------------------\n",
      "test_diff      0.5534      0.555      0.998      0.340      -0.668       1.774\n",
      "hdi           -0.4396      0.520     -0.846      0.416      -1.583       0.704\n",
      "governance     0.7055      0.369      1.912      0.082      -0.107       1.518\n",
      "pche          -0.0758      0.668     -0.114      0.912      -1.545       1.394\n",
      "==============================================================================\n",
      "Omnibus:                        0.302   Durbin-Watson:                   1.605\n",
      "Prob(Omnibus):                  0.860   Jarque-Bera (JB):                0.434\n",
      "Skew:                          -0.249   Prob(JB):                        0.805\n",
      "Kurtosis:                       2.332   Cond. No.                         12.2\n",
      "==============================================================================\n",
      "\n",
      "Warnings:\n",
      "[1] Standard Errors assume that the covariance matrix of the errors is correctly specified.\n"
     ]
    }
   ],
   "source": [
    "model = sm.OLS(y, X)\n",
    "results = model.fit()\n",
    "print(results.summary())"
   ]
  },
  {
   "cell_type": "markdown",
   "metadata": {},
   "source": [
    "### Add Interaction Term"
   ]
  },
  {
   "cell_type": "code",
   "execution_count": 64,
   "metadata": {},
   "outputs": [],
   "source": [
    "ind_data2['xterm'] = ind_data2['test_diff']*ind_data2['hdi']"
   ]
  },
  {
   "cell_type": "code",
   "execution_count": 67,
   "metadata": {},
   "outputs": [],
   "source": [
    "X = ind_data2[['test_diff', 'hdi', 'governance', 'pche', 'xterm']]"
   ]
  },
  {
   "cell_type": "code",
   "execution_count": 68,
   "metadata": {},
   "outputs": [
    {
     "name": "stdout",
     "output_type": "stream",
     "text": [
      "                                 OLS Regression Results                                \n",
      "=======================================================================================\n",
      "Dep. Variable:                      y   R-squared (uncentered):                   0.760\n",
      "Model:                            OLS   Adj. R-squared (uncentered):              0.640\n",
      "Method:                 Least Squares   F-statistic:                              6.340\n",
      "Date:                Mon, 11 May 2020   Prob (F-statistic):                     0.00666\n",
      "Time:                        06:54:08   Log-Likelihood:                       -0.060217\n",
      "No. Observations:                  15   AIC:                                      10.12\n",
      "Df Residuals:                      10   BIC:                                      13.66\n",
      "Df Model:                           5                                                  \n",
      "Covariance Type:            nonrobust                                                  \n",
      "==============================================================================\n",
      "                 coef    std err          t      P>|t|      [0.025      0.975]\n",
      "------------------------------------------------------------------------------\n",
      "test_diff      1.2916      0.874      1.478      0.170      -0.656       3.239\n",
      "hdi           -0.2276      0.551     -0.413      0.688      -1.455       1.000\n",
      "governance     0.5859      0.382      1.533      0.156      -0.266       1.437\n",
      "pche          -0.2638      0.684     -0.385      0.708      -1.789       1.261\n",
      "xterm         -1.0424      0.959     -1.087      0.302      -3.179       1.094\n",
      "==============================================================================\n",
      "Omnibus:                        0.960   Durbin-Watson:                   1.801\n",
      "Prob(Omnibus):                  0.619   Jarque-Bera (JB):                0.446\n",
      "Skew:                          -0.415   Prob(JB):                        0.800\n",
      "Kurtosis:                       2.848   Cond. No.                         17.8\n",
      "==============================================================================\n",
      "\n",
      "Warnings:\n",
      "[1] Standard Errors assume that the covariance matrix of the errors is correctly specified.\n"
     ]
    }
   ],
   "source": [
    "model2 = sm.OLS(y, X)\n",
    "results2 = model2.fit()\n",
    "print(results2.summary())"
   ]
  },
  {
   "cell_type": "markdown",
   "metadata": {},
   "source": [
    "### Misc Analysis"
   ]
  },
  {
   "cell_type": "code",
   "execution_count": 69,
   "metadata": {},
   "outputs": [
    {
     "data": {
      "text/plain": [
       "(1.5688969386714713, 0.3882351817214336)"
      ]
     },
     "execution_count": 69,
     "metadata": {},
     "output_type": "execute_result"
    }
   ],
   "source": [
    "sm.stats.linear_rainbow(results)"
   ]
  },
  {
   "cell_type": "code",
   "execution_count": 70,
   "metadata": {},
   "outputs": [
    {
     "data": {
      "image/png": "[encoded data removed]",
      "text/plain": [
       "<Figure size 432x288 with 1 Axes>"
      ]
     },
     "execution_count": 70,
     "metadata": {},
     "output_type": "execute_result"
    },
    {
     "data": {
      "image/png": "[encoded data removed]",
      "text/plain": [
       "<Figure size 432x288 with 1 Axes>"
      ]
     },
     "metadata": {
      "needs_background": "light"
     },
     "output_type": "display_data"
    }
   ],
   "source": [
    "sm.graphics.plot_partregress('rt_diff', 'test_diff', ['hdi', 'governance', 'pche'], data=ind_data2, obs_labels=False)"
   ]
  },
  {
   "cell_type": "code",
   "execution_count": 71,
   "metadata": {},
   "outputs": [
    {
     "name": "stdout",
     "output_type": "stream",
     "text": [
      "[ 1.29155843 -0.22758562  0.58588266 -0.2638172  -1.04244082]\n"
     ]
    }
   ],
   "source": [
    "model = sm.OLS(y, X)\n",
    "results = model.fit_regularized(L1_wt=0.0)\n",
    "print(results.params)"
   ]
  }
 ],
 "metadata": {
  "kernelspec": {
   "display_name": "Python 3",
   "language": "python",
   "name": "python3"
  },
  "language_info": {
   "codemirror_mode": {
    "name": "ipython",
    "version": 3
   },
   "file_extension": ".py",
   "mimetype": "text/x-python",
   "name": "python",
   "nbconvert_exporter": "python",
   "pygments_lexer": "ipython3",
   "version": "3.7.4"
  }
 },
 "nbformat": 4,
 "nbformat_minor": 4
}
