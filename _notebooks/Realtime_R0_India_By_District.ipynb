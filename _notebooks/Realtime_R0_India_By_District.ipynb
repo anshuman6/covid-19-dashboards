{
 "cells": [
  {
   "cell_type": "markdown",
   "metadata": {
    "papermill": {
     "duration": 0.038656,
     "end_time": "2020-05-20T01:00:27.573391",
     "exception": false,
     "start_time": "2020-05-20T01:00:27.534735",
     "status": "completed"
    },
    "tags": []
   },
   "source": [
    "# \"Realtime R_0 for India by District\"\n",
    "> \"Notebook with district level estimates for India\"\n",
    "\n",
    "- toc: true\n",
    "- branch: master\n",
    "- badges: true\n",
    "- comments: true\n",
    "- use_math: true\n",
    "- author: Ashutosh Sanzgiri"
   ]
  },
  {
   "cell_type": "markdown",
   "metadata": {},
   "source": [
    "Updated with latest changes to https://github.com/k-sys/covid-19/blob/master/Realtime%20R0.ipynb"
   ]
  },
  {
   "cell_type": "code",
   "execution_count": 78,
   "metadata": {
    "execution": {
     "iopub.execute_input": "2020-05-20T01:00:27.645490Z",
     "iopub.status.busy": "2020-05-20T01:00:27.644803Z",
     "iopub.status.idle": "2020-05-20T01:00:27.648560Z",
     "shell.execute_reply": "2020-05-20T01:00:27.649058Z"
    },
    "papermill": {
     "duration": 0.046738,
     "end_time": "2020-05-20T01:00:27.649204",
     "exception": false,
     "start_time": "2020-05-20T01:00:27.602466",
     "status": "completed"
    },
    "tags": []
   },
   "outputs": [
    {
     "data": {
      "text/html": [
       "<style>.container { width:100% !important; }</style>"
      ],
      "text/plain": [
       "<IPython.core.display.HTML object>"
      ]
     },
     "metadata": {},
     "output_type": "display_data"
    }
   ],
   "source": [
    "from IPython.core.display import display, HTML\n",
    "display(HTML(\"<style>.container { width:100% !important; }</style>\"))"
   ]
  },
  {
   "cell_type": "markdown",
   "metadata": {
    "colab_type": "text",
    "id": "z2wec3k6y3cA",
    "papermill": {
     "duration": 0.029747,
     "end_time": "2020-05-20T01:00:27.705977",
     "exception": false,
     "start_time": "2020-05-20T01:00:27.676230",
     "status": "completed"
    },
    "tags": []
   },
   "source": [
    "# Estimating COVID-19's $R_t$ in Real-Time\n",
    "Kevin Systrom - April 17\n",
    "\n",
    "In any epidemic, $R_t$ is the measure known as the effective reproduction number. It's the number of people who become infected per infectious person at time $t$. The most well-known version of this number is the basic reproduction number: $R_0$ when $t=0$. However, $R_0$ is a single measure that does not adapt with changes in behavior and restrictions.\n",
    "\n",
    "As a pandemic evolves, increasing restrictions (or potential releasing of restrictions) changes $R_t$. Knowing the current $R_t$ is essential. When $R\\gg1$, the pandemic will spread through a large part of the population. If $R_t<1$, the pandemic will slow quickly before it has a chance to infect many people. The lower the $R_t$: the more manageable the situation. In general, any $R_t<1$ means things are under control.\n",
    "\n",
    "The value of $R_t$ helps us in two ways. (1) It helps us understand how effective our measures have been controlling an outbreak and (2) it gives us vital information about whether we should increase or reduce restrictions based on our competing goals of economic prosperity and human safety. [Well-respected epidemiologists argue](https://www.nytimes.com/2020/04/06/opinion/coronavirus-end-social-distancing.html) that tracking $R_t$ is the only way to manage through this crisis.\n",
    "\n",
    "Yet, today, we don't yet use $R_t$ in this way. In fact, the only real-time measure I've seen has been for [Hong Kong](https://covid19.sph.hku.hk/dashboard). More importantly, it is not useful to understand $R_t$ at a national level. Instead, to manage this crisis effectively, we need a local (state, county and/or city) granularity of $R_t$.\n",
    "\n",
    "What follows is a solution to this problem at the US State level. It's a modified version of a solution created by [Bettencourt & Ribeiro 2008](https://journals.plos.org/plosone/article?id=10.1371/journal.pone.0002185) to estimate real-time $R_t$ using a Bayesian approach. While this paper estimates a static $R$ value, here we introduce a process model with Gaussian noise to estimate a time-varying $R_t$.\n",
    "\n",
    "If you have questions, comments, or improvments feel free to get in touch: [hello@systrom.com](mailto:hello@systrom.com). And if it's not entirely clear, I'm not an epidemiologist. At the same time, data is data, and statistics are statistics and this is based on work by well-known epidemiologists so you can calibrate your beliefs as you wish. In the meantime, I hope you can learn something new as I did by reading through this example. Feel free to take this work and apply it elsewhere – internationally or to counties in the United States.\n",
    "\n",
    "Additionally, a huge thanks to [Frank Dellaert](http://www.twitter.com/fdellaert/) who suggested the addition of the process and to [Adam Lerer](http://www.twitter.com/adamlerer/) who implemented the changes. Not only did I learn something new, it made the model much more responsive."
   ]
  },
  {
   "cell_type": "code",
   "execution_count": 79,
   "metadata": {
    "colab": {},
    "colab_type": "code",
    "execution": {
     "iopub.execute_input": "2020-05-20T01:00:27.785232Z",
     "iopub.status.busy": "2020-05-20T01:00:27.784527Z",
     "iopub.status.idle": "2020-05-20T01:00:31.640929Z",
     "shell.execute_reply": "2020-05-20T01:00:31.641395Z"
    },
    "id": "0tPlf9eay3cB",
    "papermill": {
     "duration": 3.905944,
     "end_time": "2020-05-20T01:00:31.641530",
     "exception": false,
     "start_time": "2020-05-20T01:00:27.735586",
     "status": "completed"
    },
    "tags": []
   },
   "outputs": [],
   "source": [
    "import pandas as pd\n",
    "import numpy as np\n",
    "\n",
    "from matplotlib import pyplot as plt\n",
    "from matplotlib.dates import date2num, num2date\n",
    "from matplotlib import dates as mdates\n",
    "from matplotlib import ticker\n",
    "from matplotlib.colors import ListedColormap\n",
    "from matplotlib.patches import Patch\n",
    "\n",
    "from scipy import stats as sps\n",
    "from scipy.interpolate import interp1d\n",
    "\n",
    "from IPython.display import clear_output\n",
    "\n",
    "FILTERED_REGIONS = []\n",
    "FILTERED_REGION_CODES = []\n",
    "\n",
    "%config InlineBackend.figure_format = 'retina'"
   ]
  },
  {
   "cell_type": "markdown",
   "metadata": {
    "colab_type": "text",
    "id": "SIwNy-TGy3cF",
    "papermill": {
     "duration": 0.033286,
     "end_time": "2020-05-20T01:00:31.709182",
     "exception": false,
     "start_time": "2020-05-20T01:00:31.675896",
     "status": "completed"
    },
    "tags": []
   },
   "source": [
    "## Bettencourt & Ribeiro's Approach\n",
    "\n",
    "Every day, we learn how many more people have COVID-19. This new case count gives us a clue about the current value of $R_t$. We also, figure that the value of $R_t$ today is related to the value of $R_{t-1}$ (yesterday's value) and every previous value of $R_{t-m}$ for that matter.\n",
    "\n",
    "With these insights, the authors use [Bayes' rule](https://en.wikipedia.org/wiki/Bayes%27_theorem) to update their beliefs about the true value of $R_t$ based on how many new cases have been reported each day.\n",
    "\n",
    "This is Bayes' Theorem as we'll use it:\n",
    "\n",
    "$$ P(R_t|k)=\\frac{P(k|R_t)\\cdot P(R_t)}{P(k)} $$\n",
    "\n",
    "This says that, having seen $k$ new cases, we believe the distribution of $R_t$ is equal to:\n",
    "\n",
    "- The __likelihood__ of seeing $k$ new cases given $R_t$ times ...\n",
    "- The __prior__ beliefs of the value of $P(R_t)$ without the data ...\n",
    "- divided by the probability of seeing this many cases in general.\n",
    "\n",
    "This is for a single day. To make it iterative: every day that passes, we use yesterday's prior $P(R_{t-1})$ to estimate today's prior $P(R_t)$. We will assume the distribution of $R_t$ to be a Gaussian centered around $R_{t-1}$, so $P(R_t|R_{t-1})=\\mathcal{N}(R_{t-1}, \\sigma)$, where $\\sigma$ is a hyperparameter (see below on how we estimate $\\sigma$). So on day one:\n",
    "\n",
    "$$ P(R_1|k_1) \\propto P(R_1)\\cdot \\mathcal{L}(R_1|k_1)$$\n",
    "\n",
    "On day two:\n",
    "\n",
    "$$ P(R_2|k_1,k_2) \\propto P(R_2)\\cdot \\mathcal{L}(R_2|k_2) = \\sum_{R_1} {P(R_1|k_1)\\cdot P(R_2|R_1)\\cdot\\mathcal{L}(R_2|k_2) }$$\n",
    "\n",
    "etc.\n",
    "\n",
    "### Choosing a Likelihood Function $P\\left(k_t|R_t\\right)$\n",
    "\n",
    "A likelihood function function says how likely we are to see $k$ new cases, given a value of $R_t$.\n",
    "\n",
    "Any time you need to model 'arrivals' over some time period of time, statisticians like to use the [Poisson Distribution](https://en.wikipedia.org/wiki/Poisson_distribution). Given an average arrival rate of $\\lambda$ new cases per day, the probability of seeing $k$ new cases is distributed according to the Poisson distribution:\n",
    "\n",
    "$$P(k|\\lambda) = \\frac{\\lambda^k e^{-\\lambda}}{k!}$$"
   ]
  },
  {
   "cell_type": "code",
   "execution_count": 80,
   "metadata": {
    "colab": {
     "base_uri": "https://localhost:8080/",
     "height": 34
    },
    "colab_type": "code",
    "execution": {
     "iopub.execute_input": "2020-05-20T01:00:31.779735Z",
     "iopub.status.busy": "2020-05-20T01:00:31.779089Z",
     "iopub.status.idle": "2020-05-20T01:00:31.781260Z",
     "shell.execute_reply": "2020-05-20T01:00:31.781874Z"
    },
    "id": "JgWXPRJAy3cG",
    "outputId": "f2b7274f-755e-413b-a67b-3b66b7406a69",
    "papermill": {
     "duration": 0.040498,
     "end_time": "2020-05-20T01:00:31.782006",
     "exception": false,
     "start_time": "2020-05-20T01:00:31.741508",
     "status": "completed"
    },
    "tags": []
   },
   "outputs": [
    {
     "name": "stdout",
     "output_type": "stream",
     "text": [
      "(70, 4)\n"
     ]
    }
   ],
   "source": [
    "# Column vector of k\n",
    "k = np.arange(0, 70)[:, None]\n",
    "\n",
    "# Different values of Lambda\n",
    "lambdas = [10, 20, 30, 40]\n",
    "\n",
    "# Evaluated the Probability Mass Function (remember: poisson is discrete)\n",
    "y = sps.poisson.pmf(k, lambdas)\n",
    "\n",
    "# Show the resulting shape\n",
    "print(y.shape)"
   ]
  },
  {
   "cell_type": "markdown",
   "metadata": {
    "colab_type": "text",
    "id": "mBau_lFvy3cK",
    "papermill": {
     "duration": 0.034464,
     "end_time": "2020-05-20T01:00:31.858177",
     "exception": false,
     "start_time": "2020-05-20T01:00:31.823713",
     "status": "completed"
    },
    "tags": []
   },
   "source": [
    "> __Note__: this was a terse expression which makes it tricky. All I did was to make $k$ a column. By giving it a column for $k$ and a 'row' for lambda it will evaluate the pmf over both and produce an array that has $k$ rows and lambda columns. This is an efficient way of producing many distributions all at once, and __you will see it used again below__!"
   ]
  },
  {
   "cell_type": "code",
   "execution_count": 81,
   "metadata": {
    "colab": {
     "base_uri": "https://localhost:8080/",
     "height": 295
    },
    "colab_type": "code",
    "execution": {
     "iopub.execute_input": "2020-05-20T01:00:31.944889Z",
     "iopub.status.busy": "2020-05-20T01:00:31.944146Z",
     "iopub.status.idle": "2020-05-20T01:00:32.383259Z",
     "shell.execute_reply": "2020-05-20T01:00:32.383725Z"
    },
    "id": "F0e7LKiwy3cL",
    "outputId": "d5b438e5-7625-4b62-f275-7c4091cc9b94",
    "papermill": {
     "duration": 0.486291,
     "end_time": "2020-05-20T01:00:32.383854",
     "exception": false,
     "start_time": "2020-05-20T01:00:31.897563",
     "status": "completed"
    },
    "tags": []
   },
   "outputs": [
    {
     "data": {
      "image/png": "[encoded data removed]",
      "text/plain": [
       "<Figure size 432x288 with 1 Axes>"
      ]
     },
     "metadata": {
      "image/png": {
       "height": 294,
       "width": 375
      },
      "needs_background": "light"
     },
     "output_type": "display_data"
    }
   ],
   "source": [
    "fig, ax = plt.subplots()\n",
    "\n",
    "ax.set(title='Poisson Distribution of Cases\\n $p(k|\\lambda)$')\n",
    "\n",
    "plt.plot(k, y,\n",
    "         marker='o',\n",
    "         markersize=3,\n",
    "         lw=0)\n",
    "\n",
    "plt.legend(title=\"$\\lambda$\", labels=lambdas);"
   ]
  },
  {
   "cell_type": "markdown",
   "metadata": {
    "colab_type": "text",
    "id": "V4_7FLBoy3cO",
    "papermill": {
     "duration": 0.031538,
     "end_time": "2020-05-20T01:00:32.448284",
     "exception": false,
     "start_time": "2020-05-20T01:00:32.416746",
     "status": "completed"
    },
    "tags": []
   },
   "source": [
    "The Poisson distribution says that if you think you're going to have $\\lambda$ cases per day, you'll probably get that many, plus or minus some variation based on chance.\n",
    "\n",
    "But in our case, we know there have been $k$ cases and we need to know what value of $\\lambda$ is most likely. In order to do this, we fix $k$ in place while varying $\\lambda$. __This is called the likelihood function.__\n",
    "\n",
    "For example, imagine we observe $k=20$ new cases, and we want to know how likely each $\\lambda$ is:"
   ]
  },
  {
   "cell_type": "code",
   "execution_count": 82,
   "metadata": {
    "colab": {
     "base_uri": "https://localhost:8080/",
     "height": 295
    },
    "colab_type": "code",
    "execution": {
     "iopub.execute_input": "2020-05-20T01:00:32.517294Z",
     "iopub.status.busy": "2020-05-20T01:00:32.516719Z",
     "iopub.status.idle": "2020-05-20T01:00:32.776525Z",
     "shell.execute_reply": "2020-05-20T01:00:32.777046Z"
    },
    "id": "jboc_CPny3cP",
    "outputId": "be868f85-c044-4036-ae8d-abb6c27f0c5e",
    "papermill": {
     "duration": 0.297676,
     "end_time": "2020-05-20T01:00:32.777202",
     "exception": false,
     "start_time": "2020-05-20T01:00:32.479526",
     "status": "completed"
    },
    "tags": []
   },
   "outputs": [
    {
     "data": {
      "image/png": "[encoded data removed]",
      "text/plain": [
       "<Figure size 432x288 with 1 Axes>"
      ]
     },
     "metadata": {
      "image/png": {
       "height": 292,
       "width": 375
      },
      "needs_background": "light"
     },
     "output_type": "display_data"
    }
   ],
   "source": [
    "k = 20\n",
    "\n",
    "lam = np.linspace(1, 45, 90)\n",
    "\n",
    "likelihood = pd.Series(data=sps.poisson.pmf(k, lam),\n",
    "                       index=pd.Index(lam, name='$\\lambda$'),\n",
    "                       name='lambda')\n",
    "\n",
    "likelihood.plot(title=r'Likelihood $P\\left(k_t=20|\\lambda\\right)$');"
   ]
  },
  {
   "cell_type": "markdown",
   "metadata": {
    "colab_type": "text",
    "id": "UQqhI54gy3cS",
    "papermill": {
     "duration": 0.036603,
     "end_time": "2020-05-20T01:00:32.853219",
     "exception": false,
     "start_time": "2020-05-20T01:00:32.816616",
     "status": "completed"
    },
    "tags": []
   },
   "source": [
    "This says that if we see 20 cases, the most likely value of $\\lambda$ is (not surprisingly) 20. But we're not certain: it's possible lambda was 21 or 17 and saw 20 new cases by chance alone. It also says that it's unlikely $\\lambda$ was 40 and we saw 20.\n",
    "\n",
    "Great. We have $P\\left(\\lambda_t|k_t\\right)$ which is parameterized by $\\lambda$ but we were looking for $P\\left(k_t|R_t\\right)$ which is parameterized by $R_t$. We need to know the relationship between $\\lambda$ and $R_t$"
   ]
  },
  {
   "cell_type": "markdown",
   "metadata": {
    "colab_type": "text",
    "id": "W4FTQYnky3cS",
    "papermill": {
     "duration": 0.03369,
     "end_time": "2020-05-20T01:00:32.922455",
     "exception": false,
     "start_time": "2020-05-20T01:00:32.888765",
     "status": "completed"
    },
    "tags": []
   },
   "source": [
    "### Connecting $\\lambda$ and $R_t$\n",
    "\n",
    "__The key insight to making this work is to realize there's a connection between $R_t$ and $\\lambda$__. [The derivation](https://journals.plos.org/plosone/article?id=10.1371/journal.pone.0002185) is beyond the scope of this notebook, but here it is:\n",
    "\n",
    "$$ \\lambda = k_{t-1}e^{\\gamma(R_t-1)}$$\n",
    "\n",
    "where $\\gamma$ is the reciprocal of the serial interval ([about 7 days for COVID19](https://wwwnc.cdc.gov/eid/article/26/7/20-0282_article)). Since we know every new case count on the previous day, we can now reformulate the likelihood function as a Poisson parameterized by fixing $k$ and varying $R_t$.\n",
    "\n",
    "$$ \\lambda = k_{t-1}e^{\\gamma(R_t-1)}$$\n",
    "\n",
    "$$P\\left(k|R_t\\right) = \\frac{\\lambda^k e^{-\\lambda}}{k!}$$\n",
    "\n",
    "### Evaluating the Likelihood Function\n",
    "\n",
    "To continue our example, let's imagine a sample of new case counts $k$. What is the likelihood of different values of $R_t$ on each of those days?"
   ]
  },
  {
   "cell_type": "code",
   "execution_count": 83,
   "metadata": {
    "colab": {
     "base_uri": "https://localhost:8080/",
     "height": 296
    },
    "colab_type": "code",
    "execution": {
     "iopub.execute_input": "2020-05-20T01:00:32.999905Z",
     "iopub.status.busy": "2020-05-20T01:00:32.999281Z",
     "iopub.status.idle": "2020-05-20T01:00:33.286258Z",
     "shell.execute_reply": "2020-05-20T01:00:33.286821Z"
    },
    "id": "5iFsj_h0y3cT",
    "outputId": "d4a7b8a1-9c45-457a-9d8f-78b2280646c1",
    "papermill": {
     "duration": 0.329497,
     "end_time": "2020-05-20T01:00:33.286947",
     "exception": false,
     "start_time": "2020-05-20T01:00:32.957450",
     "status": "completed"
    },
    "tags": []
   },
   "outputs": [
    {
     "data": {
      "image/png": "[encoded data removed]",
      "text/plain": [
       "<Figure size 432x180 with 1 Axes>"
      ]
     },
     "metadata": {
      "image/png": {
       "height": 208,
       "width": 386
      },
      "needs_background": "light"
     },
     "output_type": "display_data"
    }
   ],
   "source": [
    "k = np.array([20, 40, 55, 90])\n",
    "\n",
    "# We create an array for every possible value of Rt\n",
    "R_T_MAX = 12\n",
    "r_t_range = np.linspace(0, R_T_MAX, R_T_MAX*100+1)\n",
    "\n",
    "# Gamma is 1/serial interval\n",
    "# https://wwwnc.cdc.gov/eid/article/26/7/20-0282_article\n",
    "# https://www.nejm.org/doi/full/10.1056/NEJMoa2001316\n",
    "GAMMA = 1/7\n",
    "\n",
    "# Map Rt into lambda so we can substitute it into the equation below\n",
    "# Note that we have N-1 lambdas because on the first day of an outbreak\n",
    "# you do not know what to expect.\n",
    "lam = k[:-1] * np.exp(GAMMA * (r_t_range[:, None] - 1))\n",
    "\n",
    "# Evaluate the likelihood on each day and normalize sum of each day to 1.0\n",
    "likelihood_r_t = sps.poisson.pmf(k[1:], lam)\n",
    "likelihood_r_t /= np.sum(likelihood_r_t, axis=0)\n",
    "\n",
    "# Plot it\n",
    "ax = pd.DataFrame(\n",
    "    data = likelihood_r_t,\n",
    "    index = r_t_range\n",
    ").plot(\n",
    "    title='Likelihood of $R_t$ given $k$',\n",
    "    xlim=(0,10),\n",
    "    figsize=(6, 2.5)\n",
    ")\n",
    "\n",
    "ax.legend(labels=k[1:], title='New Cases')\n",
    "ax.set_xlabel('$R_t$');"
   ]
  },
  {
   "cell_type": "markdown",
   "metadata": {
    "colab_type": "text",
    "id": "XeVvhVX0y3cW",
    "papermill": {
     "duration": 0.03464,
     "end_time": "2020-05-20T01:00:33.356379",
     "exception": false,
     "start_time": "2020-05-20T01:00:33.321739",
     "status": "completed"
    },
    "tags": []
   },
   "source": [
    "You can see that each day we have a independent guesses for $R_t$. The goal is to combine the information we have about previous days with the current day. To do this, we use Bayes' theorem.\n",
    "\n",
    "### Performing the Bayesian Update\n",
    "\n",
    "To perform the Bayesian update, we need to multiply the likelihood by the prior (which is just the previous day's likelihood without our Gaussian update) to get the posteriors. Let's do that using the cumulative product of each successive day:"
   ]
  },
  {
   "cell_type": "code",
   "execution_count": 84,
   "metadata": {
    "colab": {
     "base_uri": "https://localhost:8080/",
     "height": 296
    },
    "colab_type": "code",
    "execution": {
     "iopub.execute_input": "2020-05-20T01:00:33.439948Z",
     "iopub.status.busy": "2020-05-20T01:00:33.439340Z",
     "iopub.status.idle": "2020-05-20T01:00:33.749790Z",
     "shell.execute_reply": "2020-05-20T01:00:33.750220Z"
    },
    "id": "q2_6SiOPy3cX",
    "outputId": "ae776eea-15ba-4279-caad-9fd6880dcee6",
    "papermill": {
     "duration": 0.351343,
     "end_time": "2020-05-20T01:00:33.750368",
     "exception": false,
     "start_time": "2020-05-20T01:00:33.399025",
     "status": "completed"
    },
    "tags": []
   },
   "outputs": [
    {
     "data": {
      "image/png": "[encoded data removed]",
      "text/plain": [
       "<Figure size 432x180 with 1 Axes>"
      ]
     },
     "metadata": {
      "image/png": {
       "height": 208,
       "width": 386
      },
      "needs_background": "light"
     },
     "output_type": "display_data"
    }
   ],
   "source": [
    "posteriors = likelihood_r_t.cumprod(axis=1)\n",
    "posteriors = posteriors / np.sum(posteriors, axis=0)\n",
    "\n",
    "columns = pd.Index(range(1, posteriors.shape[1]+1), name='Day')\n",
    "posteriors = pd.DataFrame(\n",
    "    data = posteriors,\n",
    "    index = r_t_range,\n",
    "    columns = columns)\n",
    "\n",
    "ax = posteriors.plot(\n",
    "    title='Posterior $P(R_t|k)$',\n",
    "    xlim=(0,10),\n",
    "    figsize=(6,2.5)\n",
    ")\n",
    "ax.legend(title='Day')\n",
    "ax.set_xlabel('$R_t$');"
   ]
  },
  {
   "cell_type": "markdown",
   "metadata": {
    "colab_type": "text",
    "id": "aM3vsEiEy3cb",
    "papermill": {
     "duration": 0.304474,
     "end_time": "2020-05-20T01:00:34.092027",
     "exception": false,
     "start_time": "2020-05-20T01:00:33.787553",
     "status": "completed"
    },
    "tags": []
   },
   "source": [
    "Notice how on Day 1, our posterior matches Day 1's likelihood from above? That's because we have no information other than that day. However, when we update the prior using Day 2's information, you can see the curve has moved left, but not nearly as left as the likelihood for Day 2 from above. This is because Bayesian updating uses information from both days and effectively averages the two. Since Day 3's likelihood is in between the other two, you see a small shift to the right, but more importantly: a narrower distribution. We're becoming __more__ confident in our believes of the true value of $R_t$.\n",
    "\n",
    "From these posteriors, we can answer important questions such as \"What is the most likely value of $R_t$ each day?\""
   ]
  },
  {
   "cell_type": "code",
   "execution_count": 85,
   "metadata": {
    "colab": {
     "base_uri": "https://localhost:8080/",
     "height": 102
    },
    "colab_type": "code",
    "execution": {
     "iopub.execute_input": "2020-05-20T01:00:34.173445Z",
     "iopub.status.busy": "2020-05-20T01:00:34.172796Z",
     "iopub.status.idle": "2020-05-20T01:00:34.175449Z",
     "shell.execute_reply": "2020-05-20T01:00:34.176269Z"
    },
    "id": "kLNSvAEqy3cb",
    "outputId": "dd8add4f-683a-43b5-fed4-8fa13ffd29f6",
    "papermill": {
     "duration": 0.046662,
     "end_time": "2020-05-20T01:00:34.176439",
     "exception": false,
     "start_time": "2020-05-20T01:00:34.129777",
     "status": "completed"
    },
    "tags": []
   },
   "outputs": [
    {
     "data": {
      "text/plain": [
       "Day\n",
       "1    5.85\n",
       "2    4.22\n",
       "3    4.33\n",
       "dtype: float64"
      ]
     },
     "execution_count": 85,
     "metadata": {},
     "output_type": "execute_result"
    }
   ],
   "source": [
    "most_likely_values = posteriors.idxmax(axis=0)\n",
    "most_likely_values"
   ]
  },
  {
   "cell_type": "markdown",
   "metadata": {
    "colab_type": "text",
    "id": "2fvcKxyzy3ce",
    "papermill": {
     "duration": 0.034404,
     "end_time": "2020-05-20T01:00:34.250811",
     "exception": false,
     "start_time": "2020-05-20T01:00:34.216407",
     "status": "completed"
    },
    "tags": []
   },
   "source": [
    "We can also obtain the [highest density intervals](https://www.sciencedirect.com/topics/mathematics/highest-density-interval) for $R_t$:"
   ]
  },
  {
   "cell_type": "code",
   "execution_count": 86,
   "metadata": {},
   "outputs": [
    {
     "data": {
      "text/html": [
       "<div>\n",
       "<style scoped>\n",
       "    .dataframe tbody tr th:only-of-type {\n",
       "        vertical-align: middle;\n",
       "    }\n",
       "\n",
       "    .dataframe tbody tr th {\n",
       "        vertical-align: top;\n",
       "    }\n",
       "\n",
       "    .dataframe thead th {\n",
       "        text-align: right;\n",
       "    }\n",
       "</style>\n",
       "<table border=\"1\" class=\"dataframe\">\n",
       "  <thead>\n",
       "    <tr style=\"text-align: right;\">\n",
       "      <th></th>\n",
       "      <th>Low_90</th>\n",
       "      <th>High_90</th>\n",
       "    </tr>\n",
       "    <tr>\n",
       "      <th>Day</th>\n",
       "      <th></th>\n",
       "      <th></th>\n",
       "    </tr>\n",
       "  </thead>\n",
       "  <tbody>\n",
       "    <tr>\n",
       "      <th>1</th>\n",
       "      <td>3.89</td>\n",
       "      <td>7.55</td>\n",
       "    </tr>\n",
       "    <tr>\n",
       "      <th>2</th>\n",
       "      <td>2.96</td>\n",
       "      <td>5.33</td>\n",
       "    </tr>\n",
       "    <tr>\n",
       "      <th>3</th>\n",
       "      <td>3.42</td>\n",
       "      <td>5.12</td>\n",
       "    </tr>\n",
       "  </tbody>\n",
       "</table>\n",
       "</div>"
      ],
      "text/plain": [
       "     Low_90  High_90\n",
       "Day                 \n",
       "1      3.89     7.55\n",
       "2      2.96     5.33\n",
       "3      3.42     5.12"
      ]
     },
     "execution_count": 86,
     "metadata": {},
     "output_type": "execute_result"
    }
   ],
   "source": [
    "def highest_density_interval(pmf, p=.9, debug=False):\n",
    "    # If we pass a DataFrame, just call this recursively on the columns\n",
    "    if(isinstance(pmf, pd.DataFrame)):\n",
    "        return pd.DataFrame([highest_density_interval(pmf[col], p=p) for col in pmf],\n",
    "                            index=pmf.columns)\n",
    "    \n",
    "    cumsum = np.cumsum(pmf.values)\n",
    "    \n",
    "    # N x N matrix of total probability mass for each low, high\n",
    "    total_p = cumsum - cumsum[:, None]\n",
    "    \n",
    "    # Return all indices with total_p > p\n",
    "    lows, highs = (total_p > p).nonzero()\n",
    "    \n",
    "    # Find the smallest range (highest density)\n",
    "    best = (highs - lows).argmin()\n",
    "    \n",
    "    low = pmf.index[lows[best]]\n",
    "    high = pmf.index[highs[best]]\n",
    "    \n",
    "    return pd.Series([low, high],\n",
    "                     index=[f'Low_{p*100:.0f}',\n",
    "                            f'High_{p*100:.0f}'])\n",
    "\n",
    "hdi = highest_density_interval(posteriors, debug=True)\n",
    "hdi.tail()"
   ]
  },
  {
   "cell_type": "markdown",
   "metadata": {
    "colab_type": "text",
    "id": "7koOlyBNy3ci",
    "papermill": {
     "duration": 0.038648,
     "end_time": "2020-05-20T01:00:34.930649",
     "exception": false,
     "start_time": "2020-05-20T01:00:34.892001",
     "status": "completed"
    },
    "tags": []
   },
   "source": [
    "Finally, we can plot both the most likely values for $R_t$ and the HDIs over time. This is the most useful representation as it shows how our beliefs change with every day."
   ]
  },
  {
   "cell_type": "code",
   "execution_count": 87,
   "metadata": {
    "colab": {
     "base_uri": "https://localhost:8080/",
     "height": 295
    },
    "colab_type": "code",
    "execution": {
     "iopub.execute_input": "2020-05-20T01:00:35.030489Z",
     "iopub.status.busy": "2020-05-20T01:00:35.029877Z",
     "iopub.status.idle": "2020-05-20T01:00:35.279302Z",
     "shell.execute_reply": "2020-05-20T01:00:35.278797Z"
    },
    "id": "tulWaY7vy3cj",
    "outputId": "f2f919b2-5166-454c-f377-36759d0126a0",
    "papermill": {
     "duration": 0.31243,
     "end_time": "2020-05-20T01:00:35.279420",
     "exception": false,
     "start_time": "2020-05-20T01:00:34.966990",
     "status": "completed"
    },
    "tags": []
   },
   "outputs": [
    {
     "data": {
      "image/png": "[encoded data removed]",
      "text/plain": [
       "<Figure size 432x288 with 1 Axes>"
      ]
     },
     "metadata": {
      "image/png": {
       "height": 291,
       "width": 361
      },
      "needs_background": "light"
     },
     "output_type": "display_data"
    }
   ],
   "source": [
    "ax = most_likely_values.plot(marker='o',\n",
    "                             label='Most Likely',\n",
    "                             title=f'$R_t$ by day',\n",
    "                             c='k',\n",
    "                             markersize=4)\n",
    "\n",
    "ax.fill_between(hdi.index,\n",
    "                hdi['Low_90'],\n",
    "                hdi['High_90'],\n",
    "                color='k',\n",
    "                alpha=.1,\n",
    "                lw=0,\n",
    "                label='HDI')\n",
    "\n",
    "ax.legend();"
   ]
  },
  {
   "cell_type": "markdown",
   "metadata": {
    "colab_type": "text",
    "id": "V69mdL2Iy3cm",
    "papermill": {
     "duration": 0.038485,
     "end_time": "2020-05-20T01:00:35.358457",
     "exception": false,
     "start_time": "2020-05-20T01:00:35.319972",
     "status": "completed"
    },
    "tags": []
   },
   "source": [
    "We can see that the most likely value of $R_t$ changes with time and the highest-density interval narrows as we become more sure of the true value of $R_t$ over time. Note that since we only had four days of history, I did not apply the process to this sample. Next, however, we'll turn to a real-world application where this process is necessary."
   ]
  },
  {
   "cell_type": "markdown",
   "metadata": {
    "colab_type": "text",
    "id": "5Ift5X-3y3cm",
    "papermill": {
     "duration": 0.037122,
     "end_time": "2020-05-20T01:00:35.432505",
     "exception": false,
     "start_time": "2020-05-20T01:00:35.395383",
     "status": "completed"
    },
    "tags": []
   },
   "source": [
    "# Real-World Application to India Data\n",
    "\n",
    "### Setup\n",
    "\n",
    "Daily district-level data from India is available in json format here: https://api.covid19india.org/districts_daily.json. There are 780 districts, 38 states. Data only goes back to ~ April 21."
   ]
  },
  {
   "cell_type": "code",
   "execution_count": 88,
   "metadata": {},
   "outputs": [],
   "source": [
    "df = pd.read_json(\"https://api.covid19india.org/districts_daily.json\", orient='records').reset_index()"
   ]
  },
  {
   "cell_type": "markdown",
   "metadata": {},
   "source": [
    "Convert data into a format we can consume for this analysis"
   ]
  },
  {
   "cell_type": "code",
   "execution_count": 89,
   "metadata": {},
   "outputs": [],
   "source": [
    "dft = pd.DataFrame()\n",
    "for i in range(len(df)):\n",
    "    state = df['index'].iloc[i]\n",
    "    x = df.districtsDaily.iloc[i]\n",
    "    for k in x.keys():\n",
    "        dfk = pd.DataFrame.from_dict(x[k])\n",
    "        dfk['district'] = k\n",
    "        dfk['state'] = state\n",
    "        dft = dft.append(dfk)\n",
    "        \n",
    "cols = ['state', 'district', 'date', 'confirmed', 'active', 'recovered', 'deceased', 'notes']\n",
    "dft = dft[cols]\n",
    "dft['date'] = pd.to_datetime(dft['date'])"
   ]
  },
  {
   "cell_type": "markdown",
   "metadata": {},
   "source": [
    "These groupings are primarily to filter the data. We want to exclude districts with max confirmed cases < 100 and states with max confirmed cases < 150"
   ]
  },
  {
   "cell_type": "code",
   "execution_count": 90,
   "metadata": {},
   "outputs": [],
   "source": [
    "MAX_CASES_BY_STATE = 150\n",
    "MAX_CASES_BY_DISTRICT = 100"
   ]
  },
  {
   "cell_type": "code",
   "execution_count": 91,
   "metadata": {},
   "outputs": [],
   "source": [
    "dftg = dft.groupby(['state', 'district'])['confirmed'].max().reset_index()\n",
    "dftgs = dft.groupby(['state'])['confirmed'].max().reset_index()"
   ]
  },
  {
   "cell_type": "code",
   "execution_count": 92,
   "metadata": {},
   "outputs": [
    {
     "data": {
      "text/plain": [
       "24"
      ]
     },
     "execution_count": 92,
     "metadata": {},
     "output_type": "execute_result"
    }
   ],
   "source": [
    "state_list = dftgs[dftgs.confirmed > 150]['state'].tolist()\n",
    "len(state_list)"
   ]
  },
  {
   "cell_type": "code",
   "execution_count": 93,
   "metadata": {},
   "outputs": [
    {
     "data": {
      "text/plain": [
       "283"
      ]
     },
     "execution_count": 93,
     "metadata": {},
     "output_type": "execute_result"
    }
   ],
   "source": [
    "dftg2 = dftg[(dftg.confirmed > 100) & (dftg.state.isin(state_list))]\n",
    "len(dftg2)"
   ]
  },
  {
   "cell_type": "markdown",
   "metadata": {},
   "source": [
    "There are 24 states and 283 districts meeting this criteria. Subsequent analysis will select one of these states."
   ]
  },
  {
   "cell_type": "code",
   "execution_count": 94,
   "metadata": {},
   "outputs": [
    {
     "data": {
      "text/plain": [
       "['Andhra Pradesh',\n",
       " 'Assam',\n",
       " 'Bihar',\n",
       " 'Chandigarh',\n",
       " 'Delhi',\n",
       " 'Goa',\n",
       " 'Gujarat',\n",
       " 'Haryana',\n",
       " 'Jammu and Kashmir',\n",
       " 'Jharkhand',\n",
       " 'Karnataka',\n",
       " 'Kerala',\n",
       " 'Madhya Pradesh',\n",
       " 'Maharashtra',\n",
       " 'Odisha',\n",
       " 'Punjab',\n",
       " 'Rajasthan',\n",
       " 'State Unassigned',\n",
       " 'Tamil Nadu',\n",
       " 'Telangana',\n",
       " 'Tripura',\n",
       " 'Uttar Pradesh',\n",
       " 'Uttarakhand',\n",
       " 'West Bengal']"
      ]
     },
     "execution_count": 94,
     "metadata": {},
     "output_type": "execute_result"
    }
   ],
   "source": [
    "state_list"
   ]
  },
  {
   "cell_type": "code",
   "execution_count": 95,
   "metadata": {},
   "outputs": [],
   "source": [
    "state = 'Maharashtra'"
   ]
  },
  {
   "cell_type": "code",
   "execution_count": 96,
   "metadata": {},
   "outputs": [
    {
     "data": {
      "text/plain": [
       "array(['Ahmednagar', 'Akola', 'Amravati', 'Aurangabad', 'Dhule',\n",
       "       'Hingoli', 'Jalgaon', 'Jalna', 'Kolhapur', 'Latur', 'Mumbai',\n",
       "       'Nagpur', 'Nanded', 'Nashik', 'Osmanabad', 'Palghar', 'Pune',\n",
       "       'Raigad', 'Ratnagiri', 'Sangli', 'Satara', 'Sindhudurg', 'Solapur',\n",
       "       'Thane', 'Unknown', 'Yavatmal'], dtype=object)"
      ]
     },
     "execution_count": 96,
     "metadata": {},
     "output_type": "execute_result"
    }
   ],
   "source": [
    "district_list = dftg2[dftg2.state == 'Maharashtra']['district'].unique()\n",
    "district_list"
   ]
  },
  {
   "cell_type": "code",
   "execution_count": 97,
   "metadata": {},
   "outputs": [],
   "source": [
    "dfa = dft[(dft.state == state) & (dft.district.isin(district_list))][['date','district', 'confirmed']]"
   ]
  },
  {
   "cell_type": "code",
   "execution_count": 98,
   "metadata": {},
   "outputs": [],
   "source": [
    "dfa = dfa[dfa.district != 'Unknown']"
   ]
  },
  {
   "cell_type": "code",
   "execution_count": 99,
   "metadata": {},
   "outputs": [
    {
     "data": {
      "text/html": [
       "<div>\n",
       "<style scoped>\n",
       "    .dataframe tbody tr th:only-of-type {\n",
       "        vertical-align: middle;\n",
       "    }\n",
       "\n",
       "    .dataframe tbody tr th {\n",
       "        vertical-align: top;\n",
       "    }\n",
       "\n",
       "    .dataframe thead th {\n",
       "        text-align: right;\n",
       "    }\n",
       "</style>\n",
       "<table border=\"1\" class=\"dataframe\">\n",
       "  <thead>\n",
       "    <tr style=\"text-align: right;\">\n",
       "      <th></th>\n",
       "      <th>date</th>\n",
       "      <th>district</th>\n",
       "      <th>confirmed</th>\n",
       "    </tr>\n",
       "  </thead>\n",
       "  <tbody>\n",
       "    <tr>\n",
       "      <th>0</th>\n",
       "      <td>2020-04-21</td>\n",
       "      <td>Akola</td>\n",
       "      <td>15</td>\n",
       "    </tr>\n",
       "    <tr>\n",
       "      <th>1</th>\n",
       "      <td>2020-04-22</td>\n",
       "      <td>Akola</td>\n",
       "      <td>16</td>\n",
       "    </tr>\n",
       "    <tr>\n",
       "      <th>2</th>\n",
       "      <td>2020-04-23</td>\n",
       "      <td>Akola</td>\n",
       "      <td>21</td>\n",
       "    </tr>\n",
       "    <tr>\n",
       "      <th>3</th>\n",
       "      <td>2020-04-24</td>\n",
       "      <td>Akola</td>\n",
       "      <td>20</td>\n",
       "    </tr>\n",
       "    <tr>\n",
       "      <th>4</th>\n",
       "      <td>2020-04-25</td>\n",
       "      <td>Akola</td>\n",
       "      <td>23</td>\n",
       "    </tr>\n",
       "  </tbody>\n",
       "</table>\n",
       "</div>"
      ],
      "text/plain": [
       "        date district  confirmed\n",
       "0 2020-04-21    Akola         15\n",
       "1 2020-04-22    Akola         16\n",
       "2 2020-04-23    Akola         21\n",
       "3 2020-04-24    Akola         20\n",
       "4 2020-04-25    Akola         23"
      ]
     },
     "execution_count": 99,
     "metadata": {},
     "output_type": "execute_result"
    }
   ],
   "source": [
    "dfa.head()"
   ]
  },
  {
   "cell_type": "code",
   "execution_count": 100,
   "metadata": {},
   "outputs": [],
   "source": [
    "districts = dfa.set_index(['district', 'date']).squeeze()"
   ]
  },
  {
   "cell_type": "code",
   "execution_count": 101,
   "metadata": {},
   "outputs": [
    {
     "data": {
      "text/plain": [
       "district  date      \n",
       "Akola     2020-04-21      15\n",
       "          2020-04-22      16\n",
       "          2020-04-23      21\n",
       "          2020-04-24      20\n",
       "          2020-04-25      23\n",
       "                        ... \n",
       "Raigad    2020-06-04    1293\n",
       "          2020-06-05    1362\n",
       "          2020-06-06    1411\n",
       "          2020-06-07    1441\n",
       "          2020-06-08    1441\n",
       "Name: confirmed, Length: 1201, dtype: int64"
      ]
     },
     "execution_count": 101,
     "metadata": {},
     "output_type": "execute_result"
    }
   ],
   "source": [
    "districts"
   ]
  },
  {
   "cell_type": "markdown",
   "metadata": {
    "colab_type": "text",
    "id": "FPHHx53Iy3ct",
    "papermill": {
     "duration": 0.041652,
     "end_time": "2020-05-20T01:00:36.345262",
     "exception": false,
     "start_time": "2020-05-20T01:00:36.303610",
     "status": "completed"
    },
    "tags": []
   },
   "source": [
    "### Running the Algorithm\n",
    "\n",
    "#### Choosing the Gaussian $\\sigma$ for $P(R_t|R_{t-1})$\n",
    "\n",
    "> Note: you can safely skip this section if you trust that we chose the right value of $\\sigma$ for the process below. Otherwise, read on.\n",
    "\n",
    "The original approach simply selects yesterday's posterior as today's prior. While intuitive, doing so doesn't allow for our belief that the value of $R_t$ has likely changed from yesterday. To allow for that change, we apply Gaussian noise to the prior distribution with some standard deviation $\\sigma$. The higher $\\sigma$ the more noise and the more we will expect the value of $R_t$ to drift each day. Interestingly, applying noise on noise iteratively means that there will be a natural decay of distant posteriors. This approach has a similar effect of windowing, but is more robust and doesn't arbitrarily forget posteriors after a certain time like my previous approach. Specifically, windowing computed a fixed $R_t$ at each time $t$ that explained the surrounding $w$ days of cases, while the new approach computes a series of $R_t$ values that explains all the cases, assuming that $R_t$ fluctuates by about $\\sigma$ each day.\n",
    "\n",
    "However, there's still an arbitrary choice: what should $\\sigma$ be? Adam Lerer pointed out that we can use the process of maximum likelihood to inform our choice. Here's how it works:\n",
    "\n",
    "Maximum likelihood says that we'd like to choose a $\\sigma$ that maximizes the likelihood of seeing our data $k$: $P(k|\\sigma)$. Since $\\sigma$ is a fixed value, let's leave it out of the notation, so we're trying to maximize $P(k)$ over all choices of $\\sigma$.\n",
    "\n",
    "Since $P(k)=P(k_0,k_1,\\ldots,k_t)=P(k_0)P(k_1)\\ldots P(k_t)$ we need to define $P(k_t)$. It turns out this is the denominator of Bayes rule:\n",
    "\n",
    "$$P(R_t|k_t) = \\frac{P(k_t|R_t)P(R_t)}{P(k_t)}$$\n",
    "\n",
    "To calculate it, we notice that the numerator is actually just the joint distribution of $k$ and $R$:\n",
    "\n",
    "$$ P(k_t,R_t) =  P(k_t|R_t)P(R_t) $$\n",
    "\n",
    "We can marginalize the distribution over $R_t$ to get $P(k_t)$:\n",
    "\n",
    "$$ P(k_t) = \\sum_{R_{t}}{P(k_t|R_t)P(R_t)} $$\n",
    "\n",
    "So, if we sum the distribution of the numerator over all values of $R_t$, we get $P(k_t)$. And since we're calculating that anyway as we're calculating the posterior, we'll just keep track of it separately.\n",
    "\n",
    "Since we're looking for the value of $\\sigma$ that maximizes $P(k)$ overall, we actually want to maximize: \n",
    "\n",
    "$$\\prod_{t,i}{p(k_{ti})}$$\n",
    "\n",
    "where $t$ are all times and $i$ is each state.\n",
    "\n",
    "Since we're multiplying lots of tiny probabilities together, it can be easier (and less error-prone) to take the $\\log$ of the values and add them together. Remember that $\\log{ab}=\\log{a}+\\log{b}$. And since logarithms are monotonically increasing, maximizing the sum of the $\\log$ of the probabilities is the same as maximizing the product of the non-logarithmic probabilities for any choice of $\\sigma$.\n",
    "\n",
    "### Function for Calculating the Posteriors\n",
    "\n",
    "To calculate the posteriors we follow these steps:\n",
    "1. Calculate $\\lambda$ - the expected arrival rate for every day's poisson process\n",
    "2. Calculate each day's likelihood distribution over all possible values of $R_t$\n",
    "3. Calculate the process matrix based on the value of $\\sigma$ we discussed above\n",
    "4. Calculate our initial prior because our first day does not have a previous day from which to take the posterior\n",
    "  - Based on [info from the cdc](https://wwwnc.cdc.gov/eid/article/26/7/20-0282_article) we will choose a Gamma with mean 7.\n",
    "5. Loop from day 1 to the end, doing the following:\n",
    "  - Calculate the prior by applying the Gaussian to yesterday's prior.\n",
    "  - Apply Bayes' rule by multiplying this prior and the likelihood we calculated in step 2.\n",
    "  - Divide by the probability of the data (also Bayes' rule)"
   ]
  },
  {
   "cell_type": "code",
   "execution_count": 102,
   "metadata": {},
   "outputs": [],
   "source": [
    "def prepare_cases(cases, cutoff=25):\n",
    "    new_cases = cases.diff()\n",
    "\n",
    "    smoothed = new_cases.rolling(7,\n",
    "        win_type='gaussian',\n",
    "        min_periods=1,\n",
    "        center=True).mean(std=2).round()\n",
    "    \n",
    "    idx_start = np.searchsorted(smoothed, cutoff)\n",
    "    \n",
    "    smoothed = smoothed.iloc[idx_start:]\n",
    "    original = new_cases.loc[smoothed.index]\n",
    "    \n",
    "    return original, smoothed"
   ]
  },
  {
   "cell_type": "code",
   "execution_count": 103,
   "metadata": {
    "colab": {},
    "colab_type": "code",
    "execution": {
     "iopub.execute_input": "2020-05-20T01:00:36.514649Z",
     "iopub.status.busy": "2020-05-20T01:00:36.514103Z",
     "iopub.status.idle": "2020-05-20T01:00:36.517778Z",
     "shell.execute_reply": "2020-05-20T01:00:36.517321Z"
    },
    "id": "QmjiXbDNy3ct",
    "papermill": {
     "duration": 0.050154,
     "end_time": "2020-05-20T01:00:36.517878",
     "exception": false,
     "start_time": "2020-05-20T01:00:36.467724",
     "status": "completed"
    },
    "tags": []
   },
   "outputs": [],
   "source": [
    "def get_posteriors(sr, sigma=0.15):\n",
    "\n",
    "    # (1) Calculate Lambda\n",
    "    lam = sr[:-1].values * np.exp(GAMMA * (r_t_range[:, None] - 1))\n",
    "\n",
    "    \n",
    "    # (2) Calculate each day's likelihood\n",
    "    likelihoods = pd.DataFrame(\n",
    "        data = sps.poisson.pmf(sr[1:].values, lam),\n",
    "        index = r_t_range,\n",
    "        columns = sr.index[1:])\n",
    "    \n",
    "    # (3) Create the Gaussian Matrix\n",
    "    process_matrix = sps.norm(loc=r_t_range,\n",
    "                              scale=sigma\n",
    "                             ).pdf(r_t_range[:, None]) \n",
    "\n",
    "    # (3a) Normalize all rows to sum to 1\n",
    "    process_matrix /= process_matrix.sum(axis=0)\n",
    "    \n",
    "    # (4) Calculate the initial prior\n",
    "    #prior0 = sps.gamma(a=4).pdf(r_t_range)\n",
    "    prior0 = np.ones_like(r_t_range)/len(r_t_range)\n",
    "    prior0 /= prior0.sum()\n",
    "\n",
    "    # Create a DataFrame that will hold our posteriors for each day\n",
    "    # Insert our prior as the first posterior.\n",
    "    posteriors = pd.DataFrame(\n",
    "        index=r_t_range,\n",
    "        columns=sr.index,\n",
    "        data={sr.index[0]: prior0}\n",
    "    )\n",
    "    \n",
    "    # We said we'd keep track of the sum of the log of the probability\n",
    "    # of the data for maximum likelihood calculation.\n",
    "    log_likelihood = 0.0\n",
    "\n",
    "    # (5) Iteratively apply Bayes' rule\n",
    "    for previous_day, current_day in zip(sr.index[:-1], sr.index[1:]):\n",
    "\n",
    "        #(5a) Calculate the new prior\n",
    "        current_prior = process_matrix @ posteriors[previous_day]\n",
    "        \n",
    "        #(5b) Calculate the numerator of Bayes' Rule: P(k|R_t)P(R_t)\n",
    "        numerator = likelihoods[current_day] * current_prior\n",
    "        \n",
    "        #(5c) Calcluate the denominator of Bayes' Rule P(k)\n",
    "        denominator = np.sum(numerator)\n",
    "        \n",
    "        # Execute full Bayes' Rule\n",
    "        posteriors[current_day] = numerator/denominator\n",
    "        \n",
    "        # Add to the running sum of log likelihoods\n",
    "        log_likelihood += np.log(denominator)\n",
    "    \n",
    "    return posteriors, log_likelihood\n"
   ]
  },
  {
   "cell_type": "markdown",
   "metadata": {
    "colab_type": "text",
    "id": "3nMQBwW-y3c8",
    "papermill": {
     "duration": 0.038929,
     "end_time": "2020-05-20T01:00:36.592786",
     "exception": false,
     "start_time": "2020-05-20T01:00:36.553857",
     "status": "completed"
    },
    "tags": []
   },
   "source": [
    "### Choosing the optimal $\\sigma$\n",
    "\n",
    "In the previous section we described choosing an optimal $\\sigma$, but we just assumed a value. But now that we can evaluate each state with any sigma, we have the tools for choosing the optimal $\\sigma$.\n",
    "\n",
    "Above we said we'd choose the value of $\\sigma$ that maximizes the likelihood of the data $P(k)$. Since we don't want to overfit on any one state, we choose the sigma that maximizes $P(k)$ over every state. To do this, we add up all the log likelihoods per state for each value of sigma then choose the maximum.\n",
    "\n",
    "> Note: this takes a while!"
   ]
  },
  {
   "cell_type": "code",
   "execution_count": 104,
   "metadata": {
    "colab": {
     "base_uri": "https://localhost:8080/",
     "height": 34
    },
    "colab_type": "code",
    "execution": {
     "iopub.execute_input": "2020-05-20T01:00:36.700604Z",
     "iopub.status.busy": "2020-05-20T01:00:36.699930Z",
     "iopub.status.idle": "2020-05-20T01:03:29.349057Z",
     "shell.execute_reply": "2020-05-20T01:03:29.349929Z"
    },
    "id": "jKM7sLvwy3c9",
    "outputId": "a1f05d3c-a5a8-4d2b-9706-9f62a9e4fd7e",
    "papermill": {
     "duration": 172.716818,
     "end_time": "2020-05-20T01:03:29.350101",
     "exception": false,
     "start_time": "2020-05-20T01:00:36.633283",
     "status": "completed"
    },
    "tags": []
   },
   "outputs": [
    {
     "name": "stdout",
     "output_type": "stream",
     "text": [
      "Done.\n"
     ]
    }
   ],
   "source": [
    "sigmas = np.linspace(1/20, 1, 20)\n",
    "\n",
    "targets = ~districts.index.get_level_values('district').isin(FILTERED_REGION_CODES)\n",
    "districts_to_process = districts.loc[targets]\n",
    "\n",
    "results = {}\n",
    "failed_districts = []\n",
    "\n",
    "for district_name, cases in districts_to_process.groupby(level='district'):\n",
    "    \n",
    "    print(district_name)\n",
    "    \n",
    "    # Only difference with KS code\n",
    "    new, smoothed = prepare_cases(cases, cutoff=1)\n",
    "    \n",
    "    # KS uses cutoff of 25 followed by 10\n",
    "    #new, smoothed = prepare_cases(cases, cutoff=25)\n",
    "        \n",
    "    #if len(smoothed) == 0:\n",
    "    #    new, smoothed = prepare_cases(cases, cutoff=10)\n",
    "    \n",
    "    result = {}\n",
    "    \n",
    "    # Holds all posteriors with every given value of sigma\n",
    "    result['posteriors'] = []\n",
    "    \n",
    "    # Holds the log likelihood across all k for each value of sigma\n",
    "    result['log_likelihoods'] = []\n",
    "    \n",
    "    try:\n",
    "      for sigma in sigmas:\n",
    "        posteriors, log_likelihood = get_posteriors(smoothed, sigma=sigma)\n",
    "        result['posteriors'].append(posteriors)\n",
    "        result['log_likelihoods'].append(log_likelihood)\n",
    "    \n",
    "    # Store all results keyed off of district name\n",
    "      results[district_name] = result\n",
    "      clear_output(wait=True)\n",
    "    except:\n",
    "      print(f\"Error for district {district_name}\")\n",
    "      failed_districts.append(district_name)\n",
    "\n",
    "print('Done.')"
   ]
  },
  {
   "cell_type": "code",
   "execution_count": 105,
   "metadata": {},
   "outputs": [
    {
     "name": "stdout",
     "output_type": "stream",
     "text": [
      "Failed for 0 districts []\n"
     ]
    }
   ],
   "source": [
    "print(f\"Failed for {len(failed_districts)} districts {failed_districts}\")"
   ]
  },
  {
   "cell_type": "markdown",
   "metadata": {
    "colab_type": "text",
    "id": "_mMSPRwvy3dA",
    "papermill": {
     "duration": 0.042169,
     "end_time": "2020-05-20T01:03:29.535541",
     "exception": false,
     "start_time": "2020-05-20T01:03:29.493372",
     "status": "completed"
    },
    "tags": []
   },
   "source": [
    "Now that we have all the log likelihoods, we can sum for each value of sigma across districts, graph it, then choose the maximum."
   ]
  },
  {
   "cell_type": "code",
   "execution_count": 106,
   "metadata": {
    "colab": {
     "base_uri": "https://localhost:8080/",
     "height": 297
    },
    "colab_type": "code",
    "execution": {
     "iopub.execute_input": "2020-05-20T01:03:29.628275Z",
     "iopub.status.busy": "2020-05-20T01:03:29.627609Z",
     "iopub.status.idle": "2020-05-20T01:03:29.863578Z",
     "shell.execute_reply": "2020-05-20T01:03:29.863065Z"
    },
    "id": "JIvZwLyay3dB",
    "outputId": "32a54d27-8f7d-4712-dae7-bc01c252efe4",
    "papermill": {
     "duration": 0.281346,
     "end_time": "2020-05-20T01:03:29.863692",
     "exception": false,
     "start_time": "2020-05-20T01:03:29.582346",
     "status": "completed"
    },
    "tags": []
   },
   "outputs": [
    {
     "data": {
      "text/plain": [
       "<matplotlib.lines.Line2D at 0x13bfcffd0>"
      ]
     },
     "execution_count": 106,
     "metadata": {},
     "output_type": "execute_result"
    },
    {
     "data": {
      "image/png": "[encoded data removed]",
      "text/plain": [
       "<Figure size 432x288 with 1 Axes>"
      ]
     },
     "metadata": {
      "image/png": {
       "height": 276,
       "width": 381
      },
      "needs_background": "light"
     },
     "output_type": "display_data"
    }
   ],
   "source": [
    "# Each index of this array holds the total of the log likelihoods for\n",
    "# the corresponding index of the sigmas array.\n",
    "total_log_likelihoods = np.zeros_like(sigmas)\n",
    "\n",
    "# Loop through each district's results and add the log likelihoods to the running total.\n",
    "for district_name, result in results.items():\n",
    "    total_log_likelihoods += result['log_likelihoods']\n",
    "\n",
    "# Select the index with the largest log likelihood total\n",
    "max_likelihood_index = total_log_likelihoods.argmax()\n",
    "\n",
    "# Select the value that has the highest log likelihood\n",
    "sigma = sigmas[max_likelihood_index]\n",
    "\n",
    "# Plot it\n",
    "fig, ax = plt.subplots()\n",
    "ax.set_title(f\"Maximum Likelihood value for $\\sigma$ = {sigma:.2f}\");\n",
    "ax.plot(sigmas, total_log_likelihoods)\n",
    "ax.axvline(sigma, color='k', linestyle=\":\")"
   ]
  },
  {
   "cell_type": "markdown",
   "metadata": {
    "colab_type": "text",
    "id": "-ZJwBeM0y3dD",
    "papermill": {
     "duration": 0.039436,
     "end_time": "2020-05-20T01:03:29.948578",
     "exception": false,
     "start_time": "2020-05-20T01:03:29.909142",
     "status": "completed"
    },
    "tags": []
   },
   "source": [
    "### Compile Final Results\n",
    "\n",
    "Given that we've selected the optimal $\\sigma$, let's grab the precalculated posterior corresponding to that value of $\\sigma$ for each district. Let's also calculate the 90% and 50% highest density intervals (this takes a little while) and also the most likely value."
   ]
  },
  {
   "cell_type": "code",
   "execution_count": 107,
   "metadata": {
    "colab": {
     "base_uri": "https://localhost:8080/",
     "height": 306
    },
    "colab_type": "code",
    "execution": {
     "iopub.execute_input": "2020-05-20T01:03:30.064125Z",
     "iopub.status.busy": "2020-05-20T01:03:30.053767Z",
     "iopub.status.idle": "2020-05-20T01:11:52.265523Z",
     "shell.execute_reply": "2020-05-20T01:11:52.265084Z"
    },
    "id": "WX3MuqF4y3dD",
    "outputId": "f10f45ac-cfda-4326-f9fe-e5d6e3076dae",
    "papermill": {
     "duration": 502.273023,
     "end_time": "2020-05-20T01:11:52.265620",
     "exception": false,
     "start_time": "2020-05-20T01:03:29.992597",
     "status": "completed"
    },
    "tags": []
   },
   "outputs": [
    {
     "name": "stdout",
     "output_type": "stream",
     "text": [
      "Yavatmal\n",
      "hdi failed for Yavatmal\n",
      "HDI error list: ['Dhule', 'Latur', 'Sindhudurg', 'Yavatmal']\n",
      "Done.\n"
     ]
    }
   ],
   "source": [
    "final_results = None\n",
    "hdi_error_list = []\n",
    "\n",
    "for district_name, result in results.items():\n",
    "    print(district_name)\n",
    "    try:\n",
    "        posteriors = result['posteriors'][max_likelihood_index]\n",
    "        hdis_90 = highest_density_interval(posteriors, p=.9)\n",
    "        hdis_50 = highest_density_interval(posteriors, p=.5)\n",
    "        most_likely = posteriors.idxmax().rename('ML')\n",
    "        result = pd.concat([most_likely, hdis_90, hdis_50], axis=1)\n",
    "        if final_results is None:\n",
    "            final_results = result\n",
    "        else:\n",
    "            final_results = pd.concat([final_results, result])\n",
    "        clear_output(wait=True)\n",
    "    except:\n",
    "        print(f'hdi failed for {district_name}')\n",
    "        hdi_error_list.append(district_name)\n",
    "        pass\n",
    "\n",
    "print(f'HDI error list: {hdi_error_list}')\n",
    "print('Done.')"
   ]
  },
  {
   "cell_type": "markdown",
   "metadata": {
    "colab_type": "text",
    "id": "OHxPM6-Py3dF",
    "papermill": {
     "duration": 0.04094,
     "end_time": "2020-05-20T01:11:52.345728",
     "exception": false,
     "start_time": "2020-05-20T01:11:52.304788",
     "status": "completed"
    },
    "tags": []
   },
   "source": [
    "### Plot All Districts for selected State"
   ]
  },
  {
   "cell_type": "code",
   "execution_count": 108,
   "metadata": {
    "execution": {
     "iopub.execute_input": "2020-05-20T01:11:52.436054Z",
     "iopub.status.busy": "2020-05-20T01:11:52.435533Z",
     "iopub.status.idle": "2020-05-20T01:11:52.437329Z",
     "shell.execute_reply": "2020-05-20T01:11:52.437912Z"
    },
    "papermill": {
     "duration": 0.055343,
     "end_time": "2020-05-20T01:11:52.438092",
     "exception": false,
     "start_time": "2020-05-20T01:11:52.382749",
     "status": "completed"
    },
    "tags": []
   },
   "outputs": [],
   "source": [
    "def plot_rt(result, ax, district_name):\n",
    "    \n",
    "    ax.set_title(f\"{district_name}\")\n",
    "    \n",
    "    # Colors\n",
    "    ABOVE = [1,0,0]\n",
    "    MIDDLE = [1,1,1]\n",
    "    BELOW = [0,0,0]\n",
    "    cmap = ListedColormap(np.r_[\n",
    "        np.linspace(BELOW,MIDDLE,25),\n",
    "        np.linspace(MIDDLE,ABOVE,25)\n",
    "    ])\n",
    "    color_mapped = lambda y: np.clip(y, .5, 1.5)-.5\n",
    "    \n",
    "    index = result['ML'].index.get_level_values('date')\n",
    "    values = result['ML'].values\n",
    "    \n",
    "    # Plot dots and line\n",
    "    ax.plot(index, values, c='k', zorder=1, alpha=.25)\n",
    "    ax.scatter(index,\n",
    "               values,\n",
    "               s=40,\n",
    "               lw=.5,\n",
    "               c=cmap(color_mapped(values)),\n",
    "               edgecolors='k', zorder=2)\n",
    "    \n",
    "    # Aesthetically, extrapolate credible interval by 1 day either side\n",
    "    lowfn = interp1d(date2num(index),\n",
    "                     result['Low_90'].values,\n",
    "                     bounds_error=False,\n",
    "                     fill_value='extrapolate')\n",
    "    \n",
    "    highfn = interp1d(date2num(index),\n",
    "                      result['High_90'].values,\n",
    "                      bounds_error=False,\n",
    "                      fill_value='extrapolate')\n",
    "    \n",
    "    extended = pd.date_range(start=pd.Timestamp('2020-03-01'),\n",
    "                             end=index[-1]+pd.Timedelta(days=1))\n",
    "    \n",
    "    ax.fill_between(extended,\n",
    "                    lowfn(date2num(extended)),\n",
    "                    highfn(date2num(extended)),\n",
    "                    color='k',\n",
    "                    alpha=.1,\n",
    "                    lw=0,\n",
    "                    zorder=3)\n",
    "\n",
    "    ax.axhline(1.0, c='k', lw=1, label='$R_t=1.0$', alpha=.25);\n",
    "    \n",
    "    # Formatting\n",
    "    ax.xaxis.set_major_locator(mdates.MonthLocator())\n",
    "    ax.xaxis.set_major_formatter(mdates.DateFormatter('%b'))\n",
    "    ax.xaxis.set_minor_locator(mdates.DayLocator())\n",
    "    \n",
    "    ax.yaxis.set_major_locator(ticker.MultipleLocator(1))\n",
    "    ax.yaxis.set_major_formatter(ticker.StrMethodFormatter(\"{x:.1f}\"))\n",
    "    ax.yaxis.tick_right()\n",
    "    ax.spines['left'].set_visible(False)\n",
    "    ax.spines['bottom'].set_visible(False)\n",
    "    ax.spines['right'].set_visible(False)\n",
    "    ax.margins(0)\n",
    "    ax.grid(which='major', axis='y', c='k', alpha=.1, zorder=-2)\n",
    "    ax.margins(0)\n",
    "    ax.set_ylim(0.0, 5.0)\n",
    "    ax.set_xlim(pd.Timestamp('2020-04-21'), result.index.get_level_values('date')[-1]+pd.Timedelta(days=1))\n",
    "    fig.set_facecolor('w')"
   ]
  },
  {
   "cell_type": "code",
   "execution_count": null,
   "metadata": {
    "execution": {
     "iopub.execute_input": "2020-05-20T01:12:07.957135Z",
     "iopub.status.busy": "2020-05-20T01:12:07.911574Z",
     "iopub.status.idle": "2020-05-20T01:12:18.505644Z",
     "shell.execute_reply": "2020-05-20T01:12:18.506063Z"
    },
    "papermill": {
     "duration": 10.703864,
     "end_time": "2020-05-20T01:12:18.506181",
     "exception": false,
     "start_time": "2020-05-20T01:12:07.802317",
     "status": "completed"
    },
    "tags": []
   },
   "outputs": [],
   "source": [
    "ncols = 4\n",
    "nrows = int(np.ceil(len(results) / ncols))\n",
    "\n",
    "fig, axes = plt.subplots(nrows=nrows, ncols=ncols, figsize=(15, nrows*3))\n",
    "\n",
    "for i, (district_name, result) in enumerate(final_results.groupby('district')):\n",
    "    plot_rt(result, axes.flat[i], district_name)\n",
    "\n",
    "fig.tight_layout()\n",
    "fig.set_facecolor('w')"
   ]
  },
  {
   "cell_type": "markdown",
   "metadata": {
    "colab_type": "text",
    "id": "AmjYENTBy3dI",
    "papermill": {
     "duration": 0.095781,
     "end_time": "2020-05-20T01:12:18.701312",
     "exception": false,
     "start_time": "2020-05-20T01:12:18.605531",
     "status": "completed"
    },
    "tags": []
   },
   "source": [
    "### Export Data to CSV"
   ]
  },
  {
   "cell_type": "code",
   "execution_count": null,
   "metadata": {
    "colab": {},
    "colab_type": "code",
    "execution": {
     "iopub.execute_input": "2020-05-20T01:12:18.903490Z",
     "iopub.status.busy": "2020-05-20T01:12:18.902982Z",
     "iopub.status.idle": "2020-05-20T01:12:18.917763Z",
     "shell.execute_reply": "2020-05-20T01:12:18.918203Z"
    },
    "id": "ypQC5il-y3dI",
    "papermill": {
     "duration": 0.118807,
     "end_time": "2020-05-20T01:12:18.918353",
     "exception": false,
     "start_time": "2020-05-20T01:12:18.799546",
     "status": "completed"
    },
    "tags": []
   },
   "outputs": [],
   "source": [
    "# Uncomment the following line if you'd like to export the data\n",
    "final_results.to_csv('data/rt_india_selected_district.csv')"
   ]
  },
  {
   "cell_type": "markdown",
   "metadata": {
    "colab_type": "text",
    "id": "ALEGkOugy3dK",
    "papermill": {
     "duration": 0.105341,
     "end_time": "2020-05-20T01:12:19.332140",
     "exception": false,
     "start_time": "2020-05-20T01:12:19.226799",
     "status": "completed"
    },
    "tags": []
   },
   "source": [
    "### Standings"
   ]
  },
  {
   "cell_type": "code",
   "execution_count": null,
   "metadata": {
    "colab": {},
    "colab_type": "code",
    "execution": {
     "iopub.execute_input": "2020-05-20T01:12:19.559449Z",
     "iopub.status.busy": "2020-05-20T01:12:19.558863Z",
     "iopub.status.idle": "2020-05-20T01:12:19.561450Z",
     "shell.execute_reply": "2020-05-20T01:12:19.560980Z"
    },
    "id": "MpBWE1NTy3dL",
    "papermill": {
     "duration": 0.121606,
     "end_time": "2020-05-20T01:12:19.561547",
     "exception": false,
     "start_time": "2020-05-20T01:12:19.439941",
     "status": "completed"
    },
    "tags": []
   },
   "outputs": [],
   "source": [
    "no_lockdown = [\n",
    "]\n",
    "partial_lockdown = [\n",
    "]\n",
    "\n",
    "FULL_COLOR = [.7,.7,.7]\n",
    "NONE_COLOR = [179/255,35/255,14/255]\n",
    "PARTIAL_COLOR = [.5,.5,.5]\n",
    "ERROR_BAR_COLOR = [.3,.3,.3]"
   ]
  },
  {
   "cell_type": "code",
   "execution_count": null,
   "metadata": {
    "colab": {
     "base_uri": "https://localhost:8080/",
     "height": 450
    },
    "colab_type": "code",
    "execution": {
     "iopub.execute_input": "2020-05-20T01:12:19.789365Z",
     "iopub.status.busy": "2020-05-20T01:12:19.788763Z",
     "iopub.status.idle": "2020-05-20T01:12:19.801296Z",
     "shell.execute_reply": "2020-05-20T01:12:19.801817Z"
    },
    "id": "TKb8DwxMy3dN",
    "outputId": "1f6f2d48-cdd1-49e8-f0dd-8dd18a441935",
    "papermill": {
     "duration": 0.13698,
     "end_time": "2020-05-20T01:12:19.801938",
     "exception": false,
     "start_time": "2020-05-20T01:12:19.664958",
     "status": "completed"
    },
    "tags": []
   },
   "outputs": [],
   "source": [
    "final_results"
   ]
  },
  {
   "cell_type": "code",
   "execution_count": null,
   "metadata": {
    "colab": {
     "base_uri": "https://localhost:8080/",
     "height": 209
    },
    "colab_type": "code",
    "execution": {
     "iopub.execute_input": "2020-05-20T01:12:20.050790Z",
     "iopub.status.busy": "2020-05-20T01:12:20.050099Z",
     "iopub.status.idle": "2020-05-20T01:12:20.406181Z",
     "shell.execute_reply": "2020-05-20T01:12:20.405719Z"
    },
    "id": "WeMDO4Hey3dP",
    "outputId": "a3918c50-3abf-4a8d-e549-b2a902a15448",
    "papermill": {
     "duration": 0.486467,
     "end_time": "2020-05-20T01:12:20.406282",
     "exception": false,
     "start_time": "2020-05-20T01:12:19.919815",
     "status": "completed"
    },
    "tags": []
   },
   "outputs": [],
   "source": [
    "filtered = final_results.index.get_level_values(0).isin(FILTERED_REGIONS)\n",
    "mr = final_results.loc[~filtered].groupby(level=0)[['ML', 'High_90', 'Low_90']].last()\n",
    "\n",
    "def plot_standings(mr, figsize=None, title='Most Recent $R_t$ by District'):\n",
    "    if not figsize:\n",
    "        figsize = ((15.9/50)*len(mr)+.1,2.5)\n",
    "        \n",
    "    fig, ax = plt.subplots(figsize=figsize)\n",
    "\n",
    "    ax.set_title(title)\n",
    "    err = mr[['Low_90', 'High_90']].sub(mr['ML'], axis=0).abs()\n",
    "    bars = ax.bar(mr.index,\n",
    "                  mr['ML'],\n",
    "                  width=.825,\n",
    "                  color=FULL_COLOR,\n",
    "                  ecolor=ERROR_BAR_COLOR,\n",
    "                  capsize=2,\n",
    "                  error_kw={'alpha':.5, 'lw':1},\n",
    "                  yerr=err.values.T)\n",
    "\n",
    "    labels = mr.index.to_series()\n",
    "    ax.set_xticklabels(labels, rotation=90, fontsize=11)\n",
    "    ax.margins(0)\n",
    "    ax.set_ylim(0,2.)\n",
    "    ax.axhline(1.0, linestyle=':', color='k', lw=1)\n",
    "\n",
    "    fig.set_facecolor('w')\n",
    "    return fig, ax\n",
    "\n",
    "mr.sort_values('ML', inplace=True)\n",
    "plot_standings(mr);"
   ]
  },
  {
   "cell_type": "code",
   "execution_count": null,
   "metadata": {
    "colab": {
     "base_uri": "https://localhost:8080/",
     "height": 209
    },
    "colab_type": "code",
    "execution": {
     "iopub.execute_input": "2020-05-20T01:12:20.625323Z",
     "iopub.status.busy": "2020-05-20T01:12:20.624661Z",
     "iopub.status.idle": "2020-05-20T01:12:20.943919Z",
     "shell.execute_reply": "2020-05-20T01:12:20.943388Z"
    },
    "id": "9_eQgRnky3dR",
    "outputId": "186e22f4-6308-4b92-8e07-c62a5d71335f",
    "papermill": {
     "duration": 0.435608,
     "end_time": "2020-05-20T01:12:20.944047",
     "exception": false,
     "start_time": "2020-05-20T01:12:20.508439",
     "status": "completed"
    },
    "tags": []
   },
   "outputs": [],
   "source": [
    "mr.sort_values('High_90', inplace=True)\n",
    "plot_standings(mr);"
   ]
  },
  {
   "cell_type": "code",
   "execution_count": null,
   "metadata": {
    "colab": {
     "base_uri": "https://localhost:8080/",
     "height": 188
    },
    "colab_type": "code",
    "execution": {
     "iopub.execute_input": "2020-05-20T01:12:21.181592Z",
     "iopub.status.busy": "2020-05-20T01:12:21.180964Z",
     "iopub.status.idle": "2020-05-20T01:12:21.342348Z",
     "shell.execute_reply": "2020-05-20T01:12:21.342752Z"
    },
    "id": "cqfVgWLay3dT",
    "outputId": "c5bc9d7c-84ec-44de-c327-b865ca8df5d9",
    "papermill": {
     "duration": 0.290582,
     "end_time": "2020-05-20T01:12:21.342871",
     "exception": false,
     "start_time": "2020-05-20T01:12:21.052289",
     "status": "completed"
    },
    "tags": []
   },
   "outputs": [],
   "source": [
    "show = mr[mr.High_90.le(1)].sort_values('ML')\n",
    "fig, ax = plot_standings(show, title='Likely Under Control');"
   ]
  },
  {
   "cell_type": "code",
   "execution_count": null,
   "metadata": {
    "colab": {
     "base_uri": "https://localhost:8080/",
     "height": 205
    },
    "colab_type": "code",
    "execution": {
     "iopub.execute_input": "2020-05-20T01:12:21.602513Z",
     "iopub.status.busy": "2020-05-20T01:12:21.591909Z",
     "iopub.status.idle": "2020-05-20T01:12:21.751533Z",
     "shell.execute_reply": "2020-05-20T01:12:21.751939Z"
    },
    "id": "BGy9InGgy3dV",
    "outputId": "f250914e-e77c-4d95-d252-27d94a4690c8",
    "papermill": {
     "duration": 0.290623,
     "end_time": "2020-05-20T01:12:21.752061",
     "exception": false,
     "start_time": "2020-05-20T01:12:21.461438",
     "status": "completed"
    },
    "tags": []
   },
   "outputs": [],
   "source": [
    "show = mr[mr.Low_90.ge(1.0)].sort_values('Low_90')\n",
    "fig, ax = plot_standings(show, title='Likely Not Under Control');"
   ]
  }
 ],
 "metadata": {
  "colab": {
   "name": "Realtime_R0_India_By_State.ipynb",
   "provenance": []
  },
  "kernelspec": {
   "display_name": "Python 3",
   "language": "python",
   "name": "python3"
  },
  "language_info": {
   "codemirror_mode": {
    "name": "ipython",
    "version": 3
   },
   "file_extension": ".py",
   "mimetype": "text/x-python",
   "name": "python",
   "nbconvert_exporter": "python",
   "pygments_lexer": "ipython3",
   "version": "3.7.7"
  },
  "papermill": {
   "duration": 715.489211,
   "end_time": "2020-05-20T01:12:22.177419",
   "environment_variables": {},
   "exception": null,
   "input_path": "Realtime_R0_India_By_State.ipynb",
   "output_path": "Realtime_R0_India_By_State.ipynb",
   "parameters": {},
   "start_time": "2020-05-20T01:00:26.688208",
   "version": "2.1.0"
  }
 },
 "nbformat": 4,
 "nbformat_minor": 1
}
