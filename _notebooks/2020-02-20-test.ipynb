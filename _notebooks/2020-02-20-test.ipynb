{
 "cells": [
  {
   "cell_type": "markdown",
   "metadata": {
    "papermill": {
     "duration": 0.021832,
     "end_time": "2020-04-17T08:24:53.946683",
     "exception": false,
     "start_time": "2020-04-17T08:24:53.924851",
     "status": "completed"
    },
    "tags": []
   },
   "source": [
    "# Fastpages Notebook Blog Post\n",
    "> A tutorial of fastpages for Jupyter notebooks.\n",
    "\n",
    "- toc: true \n",
    "- badges: true\n",
    "- comments: true\n",
    "- categories: [jupyter]\n",
    "- image: images/chart-preview.png"
   ]
  },
  {
   "cell_type": "markdown",
   "metadata": {
    "papermill": {
     "duration": 0.018252,
     "end_time": "2020-04-17T08:24:53.982590",
     "exception": false,
     "start_time": "2020-04-17T08:24:53.964338",
     "status": "completed"
    },
    "tags": []
   },
   "source": [
    "# About\n",
    "\n",
    "This notebook is a demonstration of some of capabilities of [fastpages](https://github.com/fastai/fastpages) with notebooks.\n",
    "\n",
    "\n",
    "With `fastpages` you can save your jupyter notebooks into the `_notebooks` folder at the root of your repository, and they will be automatically be converted to Jekyll compliant blog posts!\n"
   ]
  },
  {
   "cell_type": "markdown",
   "metadata": {
    "papermill": {
     "duration": 0.017324,
     "end_time": "2020-04-17T08:24:54.024299",
     "exception": false,
     "start_time": "2020-04-17T08:24:54.006975",
     "status": "completed"
    },
    "tags": []
   },
   "source": [
    "## Front Matter\n",
    "\n",
    "The first cell in your Jupyter Notebook or markdown blog post contains front matter. Front matter is metadata that can turn on/off options in your Notebook. It is formatted like this:\n",
    "\n",
    "```\n",
    "# \"My Title\"\n",
    "> \"Awesome summary\"\n",
    "\n",
    "- toc: true- branch: master- badges: true\n",
    "- comments: true\n",
    "- author: Hamel Husain & Jeremy Howard\n",
    "- categories: [fastpages, jupyter]\n",
    "```\n",
    "\n",
    "- Setting `toc: true` will automatically generate a table of contents\n",
    "- Setting `badges: true` will automatically include GitHub and Google Colab links to your notebook.\n",
    "- Setting `comments: true` will enable commenting on your blog post, powered by [utterances](https://github.com/utterance/utterances).\n",
    "\n",
    "The title and description need to be enclosed in double quotes only if they include special characters such as a colon. More details and options for front matter can be viewed on the [front matter section](https://github.com/fastai/fastpages#front-matter-related-options) of the README."
   ]
  },
  {
   "cell_type": "markdown",
   "metadata": {
    "papermill": {
     "duration": 0.016882,
     "end_time": "2020-04-17T08:24:54.059589",
     "exception": false,
     "start_time": "2020-04-17T08:24:54.042707",
     "status": "completed"
    },
    "tags": []
   },
   "source": [
    "## Markdown Shortcuts"
   ]
  },
  {
   "cell_type": "markdown",
   "metadata": {
    "papermill": {
     "duration": 0.017294,
     "end_time": "2020-04-17T08:24:54.094948",
     "exception": false,
     "start_time": "2020-04-17T08:24:54.077654",
     "status": "completed"
    },
    "tags": []
   },
   "source": [
    "A `#hide` comment at the top of any code cell will hide **both the input and output** of that cell in your blog post.\n",
    "\n",
    "A `#hide_input` comment at the top of any code cell will **only hide the input** of that cell."
   ]
  },
  {
   "cell_type": "code",
   "execution_count": 1,
   "metadata": {
    "execution": {
     "iopub.execute_input": "2020-04-17T08:24:54.135854Z",
     "iopub.status.busy": "2020-04-17T08:24:54.134921Z",
     "iopub.status.idle": "2020-04-17T08:24:54.137424Z",
     "shell.execute_reply": "2020-04-17T08:24:54.137975Z"
    },
    "papermill": {
     "duration": 0.026173,
     "end_time": "2020-04-17T08:24:54.138140",
     "exception": false,
     "start_time": "2020-04-17T08:24:54.111967",
     "status": "completed"
    },
    "tags": []
   },
   "outputs": [
    {
     "name": "stdout",
     "output_type": "stream",
     "text": [
      "The comment #hide_input was used to hide the code that produced this.\n"
     ]
    }
   ],
   "source": [
    "#hide_input\n",
    "print('The comment #hide_input was used to hide the code that produced this.')"
   ]
  },
  {
   "cell_type": "markdown",
   "metadata": {
    "papermill": {
     "duration": 0.018099,
     "end_time": "2020-04-17T08:24:54.175059",
     "exception": false,
     "start_time": "2020-04-17T08:24:54.156960",
     "status": "completed"
    },
    "tags": []
   },
   "source": [
    "put a `#collapse-hide` flag at the top of any cell if you want to **hide** that cell by default, but give the reader the option to show it:"
   ]
  },
  {
   "cell_type": "code",
   "execution_count": 2,
   "metadata": {
    "execution": {
     "iopub.execute_input": "2020-04-17T08:24:54.215791Z",
     "iopub.status.busy": "2020-04-17T08:24:54.215124Z",
     "iopub.status.idle": "2020-04-17T08:24:54.880043Z",
     "shell.execute_reply": "2020-04-17T08:24:54.879461Z"
    },
    "papermill": {
     "duration": 0.686462,
     "end_time": "2020-04-17T08:24:54.880183",
     "exception": false,
     "start_time": "2020-04-17T08:24:54.193721",
     "status": "completed"
    },
    "tags": []
   },
   "outputs": [],
   "source": [
    "#collapse-hide\n",
    "import pandas as pd\n",
    "import altair as alt"
   ]
  },
  {
   "cell_type": "markdown",
   "metadata": {
    "papermill": {
     "duration": 0.017687,
     "end_time": "2020-04-17T08:24:54.915466",
     "exception": false,
     "start_time": "2020-04-17T08:24:54.897779",
     "status": "completed"
    },
    "tags": []
   },
   "source": [
    "put a `#collapse-show` flag at the top of any cell if you want to **show** that cell by default, but give the reader the option to hide it:"
   ]
  },
  {
   "cell_type": "code",
   "execution_count": 3,
   "metadata": {
    "execution": {
     "iopub.execute_input": "2020-04-17T08:24:54.966604Z",
     "iopub.status.busy": "2020-04-17T08:24:54.965938Z",
     "iopub.status.idle": "2020-04-17T08:24:54.969901Z",
     "shell.execute_reply": "2020-04-17T08:24:54.970410Z"
    },
    "papermill": {
     "duration": 0.036972,
     "end_time": "2020-04-17T08:24:54.970559",
     "exception": false,
     "start_time": "2020-04-17T08:24:54.933587",
     "status": "completed"
    },
    "tags": []
   },
   "outputs": [],
   "source": [
    "#collapse-show\n",
    "cars = 'https://vega.github.io/vega-datasets/data/cars.json'\n",
    "movies = 'https://vega.github.io/vega-datasets/data/movies.json'\n",
    "sp500 = 'https://vega.github.io/vega-datasets/data/sp500.csv'\n",
    "stocks = 'https://vega.github.io/vega-datasets/data/stocks.csv'\n",
    "flights = 'https://vega.github.io/vega-datasets/data/flights-5k.json'"
   ]
  },
  {
   "cell_type": "markdown",
   "metadata": {
    "papermill": {
     "duration": 0.017032,
     "end_time": "2020-04-17T08:24:55.005760",
     "exception": false,
     "start_time": "2020-04-17T08:24:54.988728",
     "status": "completed"
    },
    "tags": []
   },
   "source": [
    "## Interactive Charts With Altair\n",
    "\n",
    "Charts made with Altair remain interactive.  Example charts taken from [this repo](https://github.com/uwdata/visualization-curriculum), specifically [this notebook](https://github.com/uwdata/visualization-curriculum/blob/master/altair_interaction.ipynb)."
   ]
  },
  {
   "cell_type": "code",
   "execution_count": 4,
   "metadata": {
    "execution": {
     "iopub.execute_input": "2020-04-17T08:24:55.048577Z",
     "iopub.status.busy": "2020-04-17T08:24:55.047915Z",
     "iopub.status.idle": "2020-04-17T08:24:55.426838Z",
     "shell.execute_reply": "2020-04-17T08:24:55.427416Z"
    },
    "papermill": {
     "duration": 0.404733,
     "end_time": "2020-04-17T08:24:55.427581",
     "exception": false,
     "start_time": "2020-04-17T08:24:55.022848",
     "status": "completed"
    },
    "tags": []
   },
   "outputs": [],
   "source": [
    "# hide\n",
    "df = pd.read_json(movies) # load movies data\n",
    "genres = df['Major_Genre'].unique() # get unique field values\n",
    "genres = list(filter(lambda d: d is not None, genres)) # filter out None values\n",
    "genres.sort() # sort alphabetically"
   ]
  },
  {
   "cell_type": "code",
   "execution_count": 5,
   "metadata": {
    "execution": {
     "iopub.execute_input": "2020-04-17T08:24:55.470516Z",
     "iopub.status.busy": "2020-04-17T08:24:55.469858Z",
     "iopub.status.idle": "2020-04-17T08:24:55.472479Z",
     "shell.execute_reply": "2020-04-17T08:24:55.471911Z"
    },
    "papermill": {
     "duration": 0.024769,
     "end_time": "2020-04-17T08:24:55.472601",
     "exception": false,
     "start_time": "2020-04-17T08:24:55.447832",
     "status": "completed"
    },
    "tags": []
   },
   "outputs": [],
   "source": [
    "#hide\n",
    "mpaa = ['G', 'PG', 'PG-13', 'R', 'NC-17', 'Not Rated']"
   ]
  },
  {
   "cell_type": "markdown",
   "metadata": {
    "papermill": {
     "duration": 0.017342,
     "end_time": "2020-04-17T08:24:55.508202",
     "exception": false,
     "start_time": "2020-04-17T08:24:55.490860",
     "status": "completed"
    },
    "tags": []
   },
   "source": [
    "### Example 1: DropDown"
   ]
  },
  {
   "cell_type": "code",
   "execution_count": 6,
   "metadata": {
    "execution": {
     "iopub.execute_input": "2020-04-17T08:24:55.583364Z",
     "iopub.status.busy": "2020-04-17T08:24:55.572128Z",
     "iopub.status.idle": "2020-04-17T08:24:55.606750Z",
     "shell.execute_reply": "2020-04-17T08:24:55.607347Z"
    },
    "papermill": {
     "duration": 0.081559,
     "end_time": "2020-04-17T08:24:55.607508",
     "exception": false,
     "start_time": "2020-04-17T08:24:55.525949",
     "status": "completed"
    },
    "tags": []
   },
   "outputs": [
    {
     "data": {
      "text/html": [
       "\n",
       "<div id=\"altair-viz-f48588bb4166483a9862b47247612ea9\"></div>\n",
       "<script type=\"text/javascript\">\n",
       "  (function(spec, embedOpt){\n",
       "    let outputDiv = document.currentScript.previousElementSibling;\n",
       "    if (outputDiv.id !== \"altair-viz-f48588bb4166483a9862b47247612ea9\") {\n",
       "      outputDiv = document.getElementById(\"altair-viz-f48588bb4166483a9862b47247612ea9\");\n",
       "    }\n",
       "    const paths = {\n",
       "      \"vega\": \"https://cdn.jsdelivr.net/npm//vega@5?noext\",\n",
       "      \"vega-lib\": \"https://cdn.jsdelivr.net/npm//vega-lib?noext\",\n",
       "      \"vega-lite\": \"https://cdn.jsdelivr.net/npm//vega-lite@4.8.1?noext\",\n",
       "      \"vega-embed\": \"https://cdn.jsdelivr.net/npm//vega-embed@6?noext\",\n",
       "    };\n",
       "\n",
       "    function loadScript(lib) {\n",
       "      return new Promise(function(resolve, reject) {\n",
       "        var s = document.createElement('script');\n",
       "        s.src = paths[lib];\n",
       "        s.async = true;\n",
       "        s.onload = () => resolve(paths[lib]);\n",
       "        s.onerror = () => reject(`Error loading script: ${paths[lib]}`);\n",
       "        document.getElementsByTagName(\"head\")[0].appendChild(s);\n",
       "      });\n",
       "    }\n",
       "\n",
       "    function showError(err) {\n",
       "      outputDiv.innerHTML = `<div class=\"error\" style=\"color:red;\">${err}</div>`;\n",
       "      throw err;\n",
       "    }\n",
       "\n",
       "    function displayChart(vegaEmbed) {\n",
       "      vegaEmbed(outputDiv, spec, embedOpt)\n",
       "        .catch(err => showError(`Javascript Error: ${err.message}<br>This usually means there's a typo in your chart specification. See the javascript console for the full traceback.`));\n",
       "    }\n",
       "\n",
       "    if(typeof define === \"function\" && define.amd) {\n",
       "      requirejs.config({paths});\n",
       "      require([\"vega-embed\"], displayChart, err => showError(`Error loading script: ${err.message}`));\n",
       "    } else if (typeof vegaEmbed === \"function\") {\n",
       "      displayChart(vegaEmbed);\n",
       "    } else {\n",
       "      loadScript(\"vega\")\n",
       "        .then(() => loadScript(\"vega-lite\"))\n",
       "        .then(() => loadScript(\"vega-embed\"))\n",
       "        .catch(showError)\n",
       "        .then(() => displayChart(vegaEmbed));\n",
       "    }\n",
       "  })({\"config\": {\"view\": {\"continuousWidth\": 400, \"continuousHeight\": 300}}, \"data\": {\"url\": \"https://vega.github.io/vega-datasets/data/movies.json\"}, \"mark\": \"circle\", \"encoding\": {\"opacity\": {\"condition\": {\"value\": 0.75, \"selection\": \"Select\"}, \"value\": 0.05}, \"tooltip\": {\"type\": \"nominal\", \"field\": \"Title\"}, \"x\": {\"type\": \"quantitative\", \"field\": \"Rotten_Tomatoes_Rating\"}, \"y\": {\"type\": \"quantitative\", \"field\": \"IMDB_Rating\"}}, \"selection\": {\"Select\": {\"type\": \"single\", \"fields\": [\"Major_Genre\", \"MPAA_Rating\"], \"init\": {\"Major_Genre\": \"Drama\", \"MPAA_Rating\": \"R\"}, \"bind\": {\"Major_Genre\": {\"input\": \"select\", \"options\": [\"Action\", \"Adventure\", \"Black Comedy\", \"Comedy\", \"Concert/Performance\", \"Documentary\", \"Drama\", \"Horror\", \"Musical\", \"Romantic Comedy\", \"Thriller/Suspense\", \"Western\"]}, \"MPAA_Rating\": {\"input\": \"radio\", \"options\": [\"G\", \"PG\", \"PG-13\", \"R\", \"NC-17\", \"Not Rated\"]}}}}, \"$schema\": \"https://vega.github.io/schema/vega-lite/v4.8.1.json\"}, {\"mode\": \"vega-lite\"});\n",
       "</script>"
      ],
      "text/plain": [
       "alt.Chart(...)"
      ]
     },
     "execution_count": 6,
     "metadata": {},
     "output_type": "execute_result"
    }
   ],
   "source": [
    "# single-value selection over [Major_Genre, MPAA_Rating] pairs\n",
    "# use specific hard-wired values as the initial selected values\n",
    "selection = alt.selection_single(\n",
    "    name='Select',\n",
    "    fields=['Major_Genre', 'MPAA_Rating'],\n",
    "    init={'Major_Genre': 'Drama', 'MPAA_Rating': 'R'},\n",
    "    bind={'Major_Genre': alt.binding_select(options=genres), 'MPAA_Rating': alt.binding_radio(options=mpaa)}\n",
    ")\n",
    "  \n",
    "# scatter plot, modify opacity based on selection\n",
    "alt.Chart(movies).mark_circle().add_selection(\n",
    "    selection\n",
    ").encode(\n",
    "    x='Rotten_Tomatoes_Rating:Q',\n",
    "    y='IMDB_Rating:Q',\n",
    "    tooltip='Title:N',\n",
    "    opacity=alt.condition(selection, alt.value(0.75), alt.value(0.05))\n",
    ")"
   ]
  },
  {
   "cell_type": "markdown",
   "metadata": {
    "papermill": {
     "duration": 0.019599,
     "end_time": "2020-04-17T08:24:55.646664",
     "exception": false,
     "start_time": "2020-04-17T08:24:55.627065",
     "status": "completed"
    },
    "tags": []
   },
   "source": [
    "### Example 2: Tooltips"
   ]
  },
  {
   "cell_type": "code",
   "execution_count": 7,
   "metadata": {
    "execution": {
     "iopub.execute_input": "2020-04-17T08:24:55.726814Z",
     "iopub.status.busy": "2020-04-17T08:24:55.721046Z",
     "iopub.status.idle": "2020-04-17T08:24:55.730261Z",
     "shell.execute_reply": "2020-04-17T08:24:55.730800Z"
    },
    "papermill": {
     "duration": 0.063138,
     "end_time": "2020-04-17T08:24:55.730952",
     "exception": false,
     "start_time": "2020-04-17T08:24:55.667814",
     "status": "completed"
    },
    "tags": []
   },
   "outputs": [
    {
     "data": {
      "text/html": [
       "\n",
       "<div id=\"altair-viz-41059f9321484ff7a1bb70391a4c197e\"></div>\n",
       "<script type=\"text/javascript\">\n",
       "  (function(spec, embedOpt){\n",
       "    let outputDiv = document.currentScript.previousElementSibling;\n",
       "    if (outputDiv.id !== \"altair-viz-41059f9321484ff7a1bb70391a4c197e\") {\n",
       "      outputDiv = document.getElementById(\"altair-viz-41059f9321484ff7a1bb70391a4c197e\");\n",
       "    }\n",
       "    const paths = {\n",
       "      \"vega\": \"https://cdn.jsdelivr.net/npm//vega@5?noext\",\n",
       "      \"vega-lib\": \"https://cdn.jsdelivr.net/npm//vega-lib?noext\",\n",
       "      \"vega-lite\": \"https://cdn.jsdelivr.net/npm//vega-lite@4.8.1?noext\",\n",
       "      \"vega-embed\": \"https://cdn.jsdelivr.net/npm//vega-embed@6?noext\",\n",
       "    };\n",
       "\n",
       "    function loadScript(lib) {\n",
       "      return new Promise(function(resolve, reject) {\n",
       "        var s = document.createElement('script');\n",
       "        s.src = paths[lib];\n",
       "        s.async = true;\n",
       "        s.onload = () => resolve(paths[lib]);\n",
       "        s.onerror = () => reject(`Error loading script: ${paths[lib]}`);\n",
       "        document.getElementsByTagName(\"head\")[0].appendChild(s);\n",
       "      });\n",
       "    }\n",
       "\n",
       "    function showError(err) {\n",
       "      outputDiv.innerHTML = `<div class=\"error\" style=\"color:red;\">${err}</div>`;\n",
       "      throw err;\n",
       "    }\n",
       "\n",
       "    function displayChart(vegaEmbed) {\n",
       "      vegaEmbed(outputDiv, spec, embedOpt)\n",
       "        .catch(err => showError(`Javascript Error: ${err.message}<br>This usually means there's a typo in your chart specification. See the javascript console for the full traceback.`));\n",
       "    }\n",
       "\n",
       "    if(typeof define === \"function\" && define.amd) {\n",
       "      requirejs.config({paths});\n",
       "      require([\"vega-embed\"], displayChart, err => showError(`Error loading script: ${err.message}`));\n",
       "    } else if (typeof vegaEmbed === \"function\") {\n",
       "      displayChart(vegaEmbed);\n",
       "    } else {\n",
       "      loadScript(\"vega\")\n",
       "        .then(() => loadScript(\"vega-lite\"))\n",
       "        .then(() => loadScript(\"vega-embed\"))\n",
       "        .catch(showError)\n",
       "        .then(() => displayChart(vegaEmbed));\n",
       "    }\n",
       "  })({\"config\": {\"view\": {\"continuousWidth\": 400, \"continuousHeight\": 300}}, \"data\": {\"url\": \"https://vega.github.io/vega-datasets/data/movies.json\"}, \"mark\": \"circle\", \"encoding\": {\"tooltip\": [{\"type\": \"nominal\", \"field\": \"Title\"}, {\"type\": \"nominal\", \"field\": \"Release_Date\"}, {\"type\": \"quantitative\", \"field\": \"IMDB_Rating\"}, {\"type\": \"quantitative\", \"field\": \"Rotten_Tomatoes_Rating\"}], \"x\": {\"type\": \"quantitative\", \"field\": \"Rotten_Tomatoes_Rating\"}, \"y\": {\"type\": \"quantitative\", \"axis\": {\"minExtent\": 30}, \"field\": \"IMDB_Rating\"}}, \"height\": 400, \"selection\": {\"selector001\": {\"type\": \"interval\", \"bind\": \"scales\", \"encodings\": [\"x\"]}}, \"width\": 600, \"$schema\": \"https://vega.github.io/schema/vega-lite/v4.8.1.json\"}, {\"mode\": \"vega-lite\"});\n",
       "</script>"
      ],
      "text/plain": [
       "alt.Chart(...)"
      ]
     },
     "execution_count": 7,
     "metadata": {},
     "output_type": "execute_result"
    }
   ],
   "source": [
    "alt.Chart(movies).mark_circle().add_selection(\n",
    "    alt.selection_interval(bind='scales', encodings=['x'])\n",
    ").encode(\n",
    "    x='Rotten_Tomatoes_Rating:Q',\n",
    "    y=alt.Y('IMDB_Rating:Q', axis=alt.Axis(minExtent=30)), # use min extent to stabilize axis title placement\n",
    "    tooltip=['Title:N', 'Release_Date:N', 'IMDB_Rating:Q', 'Rotten_Tomatoes_Rating:Q']\n",
    ").properties(\n",
    "    width=600,\n",
    "    height=400\n",
    ")"
   ]
  },
  {
   "cell_type": "markdown",
   "metadata": {
    "papermill": {
     "duration": 0.017969,
     "end_time": "2020-04-17T08:24:55.768125",
     "exception": false,
     "start_time": "2020-04-17T08:24:55.750156",
     "status": "completed"
    },
    "tags": []
   },
   "source": [
    "### Example 3: More Tooltips"
   ]
  },
  {
   "cell_type": "code",
   "execution_count": 8,
   "metadata": {
    "execution": {
     "iopub.execute_input": "2020-04-17T08:24:55.816884Z",
     "iopub.status.busy": "2020-04-17T08:24:55.815889Z",
     "iopub.status.idle": "2020-04-17T08:24:55.879509Z",
     "shell.execute_reply": "2020-04-17T08:24:55.878849Z"
    },
    "papermill": {
     "duration": 0.092341,
     "end_time": "2020-04-17T08:24:55.879669",
     "exception": false,
     "start_time": "2020-04-17T08:24:55.787328",
     "status": "completed"
    },
    "scrolled": true,
    "tags": []
   },
   "outputs": [
    {
     "data": {
      "text/html": [
       "\n",
       "<div id=\"altair-viz-52ad8dc346084389a4838e1b34e300c2\"></div>\n",
       "<script type=\"text/javascript\">\n",
       "  (function(spec, embedOpt){\n",
       "    let outputDiv = document.currentScript.previousElementSibling;\n",
       "    if (outputDiv.id !== \"altair-viz-52ad8dc346084389a4838e1b34e300c2\") {\n",
       "      outputDiv = document.getElementById(\"altair-viz-52ad8dc346084389a4838e1b34e300c2\");\n",
       "    }\n",
       "    const paths = {\n",
       "      \"vega\": \"https://cdn.jsdelivr.net/npm//vega@5?noext\",\n",
       "      \"vega-lib\": \"https://cdn.jsdelivr.net/npm//vega-lib?noext\",\n",
       "      \"vega-lite\": \"https://cdn.jsdelivr.net/npm//vega-lite@4.8.1?noext\",\n",
       "      \"vega-embed\": \"https://cdn.jsdelivr.net/npm//vega-embed@6?noext\",\n",
       "    };\n",
       "\n",
       "    function loadScript(lib) {\n",
       "      return new Promise(function(resolve, reject) {\n",
       "        var s = document.createElement('script');\n",
       "        s.src = paths[lib];\n",
       "        s.async = true;\n",
       "        s.onload = () => resolve(paths[lib]);\n",
       "        s.onerror = () => reject(`Error loading script: ${paths[lib]}`);\n",
       "        document.getElementsByTagName(\"head\")[0].appendChild(s);\n",
       "      });\n",
       "    }\n",
       "\n",
       "    function showError(err) {\n",
       "      outputDiv.innerHTML = `<div class=\"error\" style=\"color:red;\">${err}</div>`;\n",
       "      throw err;\n",
       "    }\n",
       "\n",
       "    function displayChart(vegaEmbed) {\n",
       "      vegaEmbed(outputDiv, spec, embedOpt)\n",
       "        .catch(err => showError(`Javascript Error: ${err.message}<br>This usually means there's a typo in your chart specification. See the javascript console for the full traceback.`));\n",
       "    }\n",
       "\n",
       "    if(typeof define === \"function\" && define.amd) {\n",
       "      requirejs.config({paths});\n",
       "      require([\"vega-embed\"], displayChart, err => showError(`Error loading script: ${err.message}`));\n",
       "    } else if (typeof vegaEmbed === \"function\") {\n",
       "      displayChart(vegaEmbed);\n",
       "    } else {\n",
       "      loadScript(\"vega\")\n",
       "        .then(() => loadScript(\"vega-lite\"))\n",
       "        .then(() => loadScript(\"vega-embed\"))\n",
       "        .catch(showError)\n",
       "        .then(() => displayChart(vegaEmbed));\n",
       "    }\n",
       "  })({\"config\": {\"view\": {\"continuousWidth\": 400, \"continuousHeight\": 300}}, \"layer\": [{\"mark\": \"line\", \"encoding\": {\"color\": {\"type\": \"nominal\", \"field\": \"symbol\"}, \"x\": {\"type\": \"temporal\", \"field\": \"date\"}, \"y\": {\"type\": \"quantitative\", \"field\": \"price\", \"scale\": {\"type\": \"log\"}}}}, {\"mark\": {\"type\": \"rule\", \"color\": \"#aaa\"}, \"encoding\": {\"x\": {\"type\": \"temporal\", \"field\": \"date\"}}, \"transform\": [{\"filter\": {\"selection\": \"selector002\"}}]}, {\"mark\": \"circle\", \"encoding\": {\"color\": {\"type\": \"nominal\", \"field\": \"symbol\"}, \"opacity\": {\"condition\": {\"value\": 1, \"selection\": \"selector002\"}, \"value\": 0}, \"x\": {\"type\": \"temporal\", \"field\": \"date\"}, \"y\": {\"type\": \"quantitative\", \"field\": \"price\", \"scale\": {\"type\": \"log\"}}}, \"selection\": {\"selector002\": {\"type\": \"single\", \"encodings\": [\"x\"], \"on\": \"mouseover\", \"nearest\": true, \"empty\": \"none\"}}}, {\"mark\": {\"type\": \"text\", \"align\": \"left\", \"dx\": 5, \"dy\": -5, \"stroke\": \"white\", \"strokeWidth\": 2}, \"encoding\": {\"color\": {\"type\": \"nominal\", \"field\": \"symbol\"}, \"text\": {\"type\": \"quantitative\", \"field\": \"price\"}, \"x\": {\"type\": \"temporal\", \"field\": \"date\"}, \"y\": {\"type\": \"quantitative\", \"field\": \"price\", \"scale\": {\"type\": \"log\"}}}, \"transform\": [{\"filter\": {\"selection\": \"selector002\"}}]}, {\"mark\": {\"type\": \"text\", \"align\": \"left\", \"dx\": 5, \"dy\": -5}, \"encoding\": {\"color\": {\"type\": \"nominal\", \"field\": \"symbol\"}, \"text\": {\"type\": \"quantitative\", \"field\": \"price\"}, \"x\": {\"type\": \"temporal\", \"field\": \"date\"}, \"y\": {\"type\": \"quantitative\", \"field\": \"price\", \"scale\": {\"type\": \"log\"}}}, \"transform\": [{\"filter\": {\"selection\": \"selector002\"}}]}], \"data\": {\"url\": \"https://vega.github.io/vega-datasets/data/stocks.csv\"}, \"height\": 400, \"width\": 700, \"$schema\": \"https://vega.github.io/schema/vega-lite/v4.8.1.json\"}, {\"mode\": \"vega-lite\"});\n",
       "</script>"
      ],
      "text/plain": [
       "alt.LayerChart(...)"
      ]
     },
     "execution_count": 8,
     "metadata": {},
     "output_type": "execute_result"
    }
   ],
   "source": [
    "# select a point for which to provide details-on-demand\n",
    "label = alt.selection_single(\n",
    "    encodings=['x'], # limit selection to x-axis value\n",
    "    on='mouseover',  # select on mouseover events\n",
    "    nearest=True,    # select data point nearest the cursor\n",
    "    empty='none'     # empty selection includes no data points\n",
    ")\n",
    "\n",
    "# define our base line chart of stock prices\n",
    "base = alt.Chart().mark_line().encode(\n",
    "    alt.X('date:T'),\n",
    "    alt.Y('price:Q', scale=alt.Scale(type='log')),\n",
    "    alt.Color('symbol:N')\n",
    ")\n",
    "\n",
    "alt.layer(\n",
    "    base, # base line chart\n",
    "    \n",
    "    # add a rule mark to serve as a guide line\n",
    "    alt.Chart().mark_rule(color='#aaa').encode(\n",
    "        x='date:T'\n",
    "    ).transform_filter(label),\n",
    "    \n",
    "    # add circle marks for selected time points, hide unselected points\n",
    "    base.mark_circle().encode(\n",
    "        opacity=alt.condition(label, alt.value(1), alt.value(0))\n",
    "    ).add_selection(label),\n",
    "\n",
    "    # add white stroked text to provide a legible background for labels\n",
    "    base.mark_text(align='left', dx=5, dy=-5, stroke='white', strokeWidth=2).encode(\n",
    "        text='price:Q'\n",
    "    ).transform_filter(label),\n",
    "\n",
    "    # add text labels for stock prices\n",
    "    base.mark_text(align='left', dx=5, dy=-5).encode(\n",
    "        text='price:Q'\n",
    "    ).transform_filter(label),\n",
    "    \n",
    "    data=stocks\n",
    ").properties(\n",
    "    width=700,\n",
    "    height=400\n",
    ")"
   ]
  },
  {
   "cell_type": "markdown",
   "metadata": {
    "papermill": {
     "duration": 0.021274,
     "end_time": "2020-04-17T08:24:55.922652",
     "exception": false,
     "start_time": "2020-04-17T08:24:55.901378",
     "status": "completed"
    },
    "tags": []
   },
   "source": [
    "## Data Tables\n",
    "\n",
    "You can display tables per the usual way in your blog:"
   ]
  },
  {
   "cell_type": "code",
   "execution_count": 9,
   "metadata": {
    "execution": {
     "iopub.execute_input": "2020-04-17T08:24:55.972819Z",
     "iopub.status.busy": "2020-04-17T08:24:55.972065Z",
     "iopub.status.idle": "2020-04-17T08:24:56.089843Z",
     "shell.execute_reply": "2020-04-17T08:24:56.089213Z"
    },
    "papermill": {
     "duration": 0.144526,
     "end_time": "2020-04-17T08:24:56.089997",
     "exception": false,
     "start_time": "2020-04-17T08:24:55.945471",
     "status": "completed"
    },
    "tags": []
   },
   "outputs": [
    {
     "data": {
      "text/html": [
       "<div>\n",
       "<style scoped>\n",
       "    .dataframe tbody tr th:only-of-type {\n",
       "        vertical-align: middle;\n",
       "    }\n",
       "\n",
       "    .dataframe tbody tr th {\n",
       "        vertical-align: top;\n",
       "    }\n",
       "\n",
       "    .dataframe thead th {\n",
       "        text-align: right;\n",
       "    }\n",
       "</style>\n",
       "<table border=\"1\" class=\"dataframe\">\n",
       "  <thead>\n",
       "    <tr style=\"text-align: right;\">\n",
       "      <th></th>\n",
       "      <th>Title</th>\n",
       "      <th>Worldwide_Gross</th>\n",
       "      <th>Production_Budget</th>\n",
       "      <th>Distributor</th>\n",
       "      <th>MPAA_Rating</th>\n",
       "      <th>IMDB_Rating</th>\n",
       "      <th>Rotten_Tomatoes_Rating</th>\n",
       "    </tr>\n",
       "  </thead>\n",
       "  <tbody>\n",
       "    <tr>\n",
       "      <th>0</th>\n",
       "      <td>The Land Girls</td>\n",
       "      <td>146083.0</td>\n",
       "      <td>8000000.0</td>\n",
       "      <td>Gramercy</td>\n",
       "      <td>R</td>\n",
       "      <td>6.1</td>\n",
       "      <td>NaN</td>\n",
       "    </tr>\n",
       "    <tr>\n",
       "      <th>1</th>\n",
       "      <td>First Love, Last Rites</td>\n",
       "      <td>10876.0</td>\n",
       "      <td>300000.0</td>\n",
       "      <td>Strand</td>\n",
       "      <td>R</td>\n",
       "      <td>6.9</td>\n",
       "      <td>NaN</td>\n",
       "    </tr>\n",
       "    <tr>\n",
       "      <th>2</th>\n",
       "      <td>I Married a Strange Person</td>\n",
       "      <td>203134.0</td>\n",
       "      <td>250000.0</td>\n",
       "      <td>Lionsgate</td>\n",
       "      <td>None</td>\n",
       "      <td>6.8</td>\n",
       "      <td>NaN</td>\n",
       "    </tr>\n",
       "    <tr>\n",
       "      <th>3</th>\n",
       "      <td>Let's Talk About Sex</td>\n",
       "      <td>373615.0</td>\n",
       "      <td>300000.0</td>\n",
       "      <td>Fine Line</td>\n",
       "      <td>None</td>\n",
       "      <td>NaN</td>\n",
       "      <td>13.0</td>\n",
       "    </tr>\n",
       "    <tr>\n",
       "      <th>4</th>\n",
       "      <td>Slam</td>\n",
       "      <td>1087521.0</td>\n",
       "      <td>1000000.0</td>\n",
       "      <td>Trimark</td>\n",
       "      <td>R</td>\n",
       "      <td>3.4</td>\n",
       "      <td>62.0</td>\n",
       "    </tr>\n",
       "  </tbody>\n",
       "</table>\n",
       "</div>"
      ],
      "text/plain": [
       "                        Title  Worldwide_Gross  Production_Budget Distributor  \\\n",
       "0              The Land Girls         146083.0          8000000.0    Gramercy   \n",
       "1      First Love, Last Rites          10876.0           300000.0      Strand   \n",
       "2  I Married a Strange Person         203134.0           250000.0   Lionsgate   \n",
       "3        Let's Talk About Sex         373615.0           300000.0   Fine Line   \n",
       "4                        Slam        1087521.0          1000000.0     Trimark   \n",
       "\n",
       "  MPAA_Rating  IMDB_Rating  Rotten_Tomatoes_Rating  \n",
       "0           R          6.1                     NaN  \n",
       "1           R          6.9                     NaN  \n",
       "2        None          6.8                     NaN  \n",
       "3        None          NaN                    13.0  \n",
       "4           R          3.4                    62.0  "
      ]
     },
     "execution_count": 9,
     "metadata": {},
     "output_type": "execute_result"
    }
   ],
   "source": [
    "movies = 'https://vega.github.io/vega-datasets/data/movies.json'\n",
    "df = pd.read_json(movies)\n",
    "# display table with pandas\n",
    "df[['Title', 'Worldwide_Gross', \n",
    "    'Production_Budget', 'Distributor', 'MPAA_Rating', 'IMDB_Rating', 'Rotten_Tomatoes_Rating']].head()"
   ]
  },
  {
   "cell_type": "markdown",
   "metadata": {
    "papermill": {
     "duration": 0.02257,
     "end_time": "2020-04-17T08:24:56.134916",
     "exception": false,
     "start_time": "2020-04-17T08:24:56.112346",
     "status": "completed"
    },
    "tags": []
   },
   "source": [
    "## Images\n",
    "\n",
    "### Local Images\n",
    "\n",
    "You can reference local images and they will be copied and rendered on your blog automatically.  You can include these with the following markdown syntax:\n",
    "\n",
    "`![](my_icons/fastai_logo.png)`"
   ]
  },
  {
   "cell_type": "markdown",
   "metadata": {
    "papermill": {
     "duration": 0.021375,
     "end_time": "2020-04-17T08:24:56.178238",
     "exception": false,
     "start_time": "2020-04-17T08:24:56.156863",
     "status": "completed"
    },
    "tags": []
   },
   "source": [
    "![](my_icons/fastai_logo.png)"
   ]
  },
  {
   "cell_type": "markdown",
   "metadata": {
    "papermill": {
     "duration": 0.021561,
     "end_time": "2020-04-17T08:24:56.222084",
     "exception": false,
     "start_time": "2020-04-17T08:24:56.200523",
     "status": "completed"
    },
    "tags": []
   },
   "source": [
    "### Remote Images\n",
    "\n",
    "Remote images can be included with the following markdown syntax:\n",
    "\n",
    "`![](https://image.flaticon.com/icons/svg/36/36686.svg)`"
   ]
  },
  {
   "cell_type": "markdown",
   "metadata": {
    "papermill": {
     "duration": 0.020583,
     "end_time": "2020-04-17T08:24:56.265143",
     "exception": false,
     "start_time": "2020-04-17T08:24:56.244560",
     "status": "completed"
    },
    "tags": []
   },
   "source": [
    "![](https://image.flaticon.com/icons/svg/36/36686.svg)"
   ]
  },
  {
   "cell_type": "markdown",
   "metadata": {
    "papermill": {
     "duration": 0.019091,
     "end_time": "2020-04-17T08:24:56.304369",
     "exception": false,
     "start_time": "2020-04-17T08:24:56.285278",
     "status": "completed"
    },
    "tags": []
   },
   "source": [
    "### Animated Gifs\n",
    "\n",
    "Animated Gifs work, too!\n",
    "\n",
    "`![](https://upload.wikimedia.org/wikipedia/commons/7/71/ChessPawnSpecialMoves.gif)`"
   ]
  },
  {
   "cell_type": "markdown",
   "metadata": {
    "papermill": {
     "duration": 0.022158,
     "end_time": "2020-04-17T08:24:56.346933",
     "exception": false,
     "start_time": "2020-04-17T08:24:56.324775",
     "status": "completed"
    },
    "tags": []
   },
   "source": [
    "![](https://upload.wikimedia.org/wikipedia/commons/7/71/ChessPawnSpecialMoves.gif)"
   ]
  },
  {
   "cell_type": "markdown",
   "metadata": {
    "papermill": {
     "duration": 0.020992,
     "end_time": "2020-04-17T08:24:56.387635",
     "exception": false,
     "start_time": "2020-04-17T08:24:56.366643",
     "status": "completed"
    },
    "tags": []
   },
   "source": [
    "### Captions\n",
    "\n",
    "You can include captions with markdown images like this:\n",
    "\n",
    "```\n",
    "![](https://www.fast.ai/images/fastai_paper/show_batch.png \"Credit: https://www.fast.ai/2020/02/13/fastai-A-Layered-API-for-Deep-Learning/\")\n",
    "```\n",
    "\n",
    "\n",
    "![](https://www.fast.ai/images/fastai_paper/show_batch.png \"Credit: https://www.fast.ai/2020/02/13/fastai-A-Layered-API-for-Deep-Learning/\")\n",
    "\n",
    "\n",
    "\n"
   ]
  },
  {
   "cell_type": "markdown",
   "metadata": {
    "papermill": {
     "duration": 0.020125,
     "end_time": "2020-04-17T08:24:56.428185",
     "exception": false,
     "start_time": "2020-04-17T08:24:56.408060",
     "status": "completed"
    },
    "tags": []
   },
   "source": [
    "# Other Elements"
   ]
  },
  {
   "cell_type": "markdown",
   "metadata": {
    "papermill": {
     "duration": 0.020444,
     "end_time": "2020-04-17T08:24:56.468647",
     "exception": false,
     "start_time": "2020-04-17T08:24:56.448203",
     "status": "completed"
    },
    "tags": []
   },
   "source": [
    "## Tweetcards\n",
    "\n",
    "Typing `> twitter: https://twitter.com/jakevdp/status/1204765621767901185?s=20` will render this:\n",
    "\n",
    "> twitter: https://twitter.com/jakevdp/status/1204765621767901185?s=20"
   ]
  },
  {
   "cell_type": "markdown",
   "metadata": {
    "papermill": {
     "duration": 0.019907,
     "end_time": "2020-04-17T08:24:56.508977",
     "exception": false,
     "start_time": "2020-04-17T08:24:56.489070",
     "status": "completed"
    },
    "tags": []
   },
   "source": [
    "## Youtube Videos\n",
    "\n",
    "Typing `> youtube: https://youtu.be/XfoYk_Z5AkI` will render this:\n",
    "\n",
    "\n",
    "> youtube: https://youtu.be/XfoYk_Z5AkI"
   ]
  },
  {
   "cell_type": "markdown",
   "metadata": {
    "papermill": {
     "duration": 0.019177,
     "end_time": "2020-04-17T08:24:56.548349",
     "exception": false,
     "start_time": "2020-04-17T08:24:56.529172",
     "status": "completed"
    },
    "tags": []
   },
   "source": [
    "## Boxes / Callouts \n",
    "\n",
    "Typing `> Warning: There will be no second warning!` will render this:\n",
    "\n",
    "\n",
    "> Warning: There will be no second warning!\n",
    "\n",
    "\n",
    "\n",
    "Typing `> Important: Pay attention! It's important.` will render this:\n",
    "\n",
    "> Important: Pay attention! It's important.\n",
    "\n",
    "\n",
    "\n",
    "Typing `> Tip: This is my tip.` will render this:\n",
    "\n",
    "> Tip: This is my tip.\n",
    "\n",
    "\n",
    "\n",
    "Typing `> Note: Take note of this.` will render this:\n",
    "\n",
    "> Note: Take note of this.\n",
    "\n",
    "\n",
    "\n",
    "Typing `> Note: A doc link to [an example website: fast.ai](https://www.fast.ai/) should also work fine.` will render in the docs:\n",
    "\n",
    "> Note: A doc link to [an example website: fast.ai](https://www.fast.ai/) should also work fine."
   ]
  },
  {
   "cell_type": "markdown",
   "metadata": {
    "papermill": {
     "duration": 0.019905,
     "end_time": "2020-04-17T08:24:56.587561",
     "exception": false,
     "start_time": "2020-04-17T08:24:56.567656",
     "status": "completed"
    },
    "tags": []
   },
   "source": [
    "## Footnotes\n",
    "\n",
    "You can have footnotes in notebooks, however the syntax is different compared to markdown documents. [This guide provides more detail about this syntax](https://github.com/fastai/fastpages/blob/master/_fastpages_docs/NOTEBOOK_FOOTNOTES.md), which looks like this:\n",
    "\n",
    "```\n",
    "{% raw %}For example, here is a footnote {% fn 1 %}.\n",
    "And another {% fn 2 %}\n",
    "{{ 'This is the footnote.' | fndetail: 1 }}\n",
    "{{ 'This is the other footnote. You can even have a [link](www.github.com)!' | fndetail: 2 }}{% endraw %}\n",
    "```\n",
    "\n",
    "For example, here is a footnote {% fn 1 %}.\n",
    "\n",
    "And another {% fn 2 %}\n",
    "\n",
    "{{ 'This is the footnote.' | fndetail: 1 }}\n",
    "{{ 'This is the other footnote. You can even have a [link](www.github.com)!' | fndetail: 2 }}"
   ]
  }
 ],
 "metadata": {
  "kernelspec": {
   "display_name": "Python 3",
   "language": "python",
   "name": "python3"
  },
  "language_info": {
   "codemirror_mode": {
    "name": "ipython",
    "version": 3
   },
   "file_extension": ".py",
   "mimetype": "text/x-python",
   "name": "python",
   "nbconvert_exporter": "python",
   "pygments_lexer": "ipython3",
   "version": "3.6.10"
  },
  "papermill": {
   "duration": 3.697096,
   "end_time": "2020-04-17T08:24:56.714807",
   "environment_variables": {},
   "exception": null,
   "input_path": "2020-02-20-test.ipynb",
   "output_path": "2020-02-20-test.ipynb",
   "parameters": {},
   "start_time": "2020-04-17T08:24:53.017711",
   "version": "2.1.0"
  },
  "varInspector": {
   "cols": {
    "lenName": 16,
    "lenType": 16,
    "lenVar": 40
   },
   "kernels_config": {
    "python": {
     "delete_cmd_postfix": "",
     "delete_cmd_prefix": "del ",
     "library": "var_list.py",
     "varRefreshCmd": "print(var_dic_list())"
    },
    "r": {
     "delete_cmd_postfix": ") ",
     "delete_cmd_prefix": "rm(",
     "library": "var_list.r",
     "varRefreshCmd": "cat(var_dic_list()) "
    }
   },
   "types_to_exclude": [
    "module",
    "function",
    "builtin_function_or_method",
    "instance",
    "_Feature"
   ],
   "window_display": false
  }
 },
 "nbformat": 4,
 "nbformat_minor": 4
}