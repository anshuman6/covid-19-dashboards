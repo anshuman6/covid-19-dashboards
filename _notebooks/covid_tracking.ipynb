{
 "cells": [
  {
   "cell_type": "markdown",
   "metadata": {
    "papermill": {
     "duration": 0.026075,
     "end_time": "2020-04-24T23:06:28.245085",
     "exception": false,
     "start_time": "2020-04-24T23:06:28.219010",
     "status": "completed"
    },
    "tags": []
   },
   "source": [
    "# \"Covid Tracking Starter Test\"\n",
    "> \"Notebook to get started\"\n",
    "\n",
    "- toc: true\n",
    "- branch: master\n",
    "- badges: true\n",
    "- comments: true\n",
    "- author: Ashutosh Sanzgiri\n",
    "- categories: [covid]"
   ]
  },
  {
   "cell_type": "code",
   "execution_count": 1,
   "metadata": {
    "execution": {
     "iopub.execute_input": "2020-04-24T23:06:28.297383Z",
     "iopub.status.busy": "2020-04-24T23:06:28.296746Z",
     "iopub.status.idle": "2020-04-24T23:06:29.099937Z",
     "shell.execute_reply": "2020-04-24T23:06:29.099414Z"
    },
    "papermill": {
     "duration": 0.831489,
     "end_time": "2020-04-24T23:06:29.100075",
     "exception": false,
     "start_time": "2020-04-24T23:06:28.268586",
     "status": "completed"
    },
    "tags": []
   },
   "outputs": [],
   "source": [
    "#hide\n",
    "import pandas as pd\n",
    "import seaborn as sns\n",
    "import matplotlib.pyplot as plt"
   ]
  },
  {
   "cell_type": "code",
   "execution_count": 2,
   "metadata": {
    "execution": {
     "iopub.execute_input": "2020-04-24T23:06:29.152003Z",
     "iopub.status.busy": "2020-04-24T23:06:29.151354Z",
     "iopub.status.idle": "2020-04-24T23:06:29.794663Z",
     "shell.execute_reply": "2020-04-24T23:06:29.794096Z"
    },
    "papermill": {
     "duration": 0.673375,
     "end_time": "2020-04-24T23:06:29.794788",
     "exception": false,
     "start_time": "2020-04-24T23:06:29.121413",
     "status": "completed"
    },
    "tags": []
   },
   "outputs": [],
   "source": [
    "#hide\n",
    "df = pd.read_csv('http://covidtracking.com/api/states/daily.csv')\n",
    "states = df.state.unique()\n",
    "\n",
    "dfk = pd.DataFrame()\n",
    "for s in states:\n",
    "    dfs = df[df.state==s].copy()\n",
    "    dfs['tested'] = dfs['positive'] + dfs['negative']\n",
    "    dfs['daily_positive_increase'] = dfs['positive'].diff(periods=-1)\n",
    "    dfs['daily_death_increase'] = dfs['death'].diff(periods=-1)\n",
    "    dfs['daily_tested_increase'] = dfs['tested'].diff(periods=-1)\n",
    "    dfk = dfk.append(dfs)\n",
    "    \n",
    "dfk = dfk.fillna(0)\n",
    "df_la = dfk[dfk.state==\"LA\"]"
   ]
  },
  {
   "cell_type": "code",
   "execution_count": 3,
   "metadata": {
    "execution": {
     "iopub.execute_input": "2020-04-24T23:06:29.870309Z",
     "iopub.status.busy": "2020-04-24T23:06:29.869275Z",
     "iopub.status.idle": "2020-04-24T23:06:29.872594Z",
     "shell.execute_reply": "2020-04-24T23:06:29.872119Z"
    },
    "papermill": {
     "duration": 0.056759,
     "end_time": "2020-04-24T23:06:29.872715",
     "exception": false,
     "start_time": "2020-04-24T23:06:29.815956",
     "status": "completed"
    },
    "tags": []
   },
   "outputs": [
    {
     "data": {
      "text/html": [
       "<div>\n",
       "<style scoped>\n",
       "    .dataframe tbody tr th:only-of-type {\n",
       "        vertical-align: middle;\n",
       "    }\n",
       "\n",
       "    .dataframe tbody tr th {\n",
       "        vertical-align: top;\n",
       "    }\n",
       "\n",
       "    .dataframe thead th {\n",
       "        text-align: right;\n",
       "    }\n",
       "</style>\n",
       "<table border=\"1\" class=\"dataframe\">\n",
       "  <thead>\n",
       "    <tr style=\"text-align: right;\">\n",
       "      <th></th>\n",
       "      <th>date</th>\n",
       "      <th>state</th>\n",
       "      <th>positive</th>\n",
       "      <th>negative</th>\n",
       "      <th>pending</th>\n",
       "      <th>hospitalizedCurrently</th>\n",
       "      <th>hospitalizedCumulative</th>\n",
       "      <th>inIcuCurrently</th>\n",
       "      <th>inIcuCumulative</th>\n",
       "      <th>onVentilatorCurrently</th>\n",
       "      <th>...</th>\n",
       "      <th>fips</th>\n",
       "      <th>deathIncrease</th>\n",
       "      <th>hospitalizedIncrease</th>\n",
       "      <th>negativeIncrease</th>\n",
       "      <th>positiveIncrease</th>\n",
       "      <th>totalTestResultsIncrease</th>\n",
       "      <th>tested</th>\n",
       "      <th>daily_positive_increase</th>\n",
       "      <th>daily_death_increase</th>\n",
       "      <th>daily_tested_increase</th>\n",
       "    </tr>\n",
       "  </thead>\n",
       "  <tbody>\n",
       "    <tr>\n",
       "      <th>20</th>\n",
       "      <td>20200424</td>\n",
       "      <td>LA</td>\n",
       "      <td>26140.0</td>\n",
       "      <td>117576.0</td>\n",
       "      <td>0.0</td>\n",
       "      <td>1697.0</td>\n",
       "      <td>0.0</td>\n",
       "      <td>0.0</td>\n",
       "      <td>0.0</td>\n",
       "      <td>286.0</td>\n",
       "      <td>...</td>\n",
       "      <td>22</td>\n",
       "      <td>61.0</td>\n",
       "      <td>0.0</td>\n",
       "      <td>0.0</td>\n",
       "      <td>401.0</td>\n",
       "      <td>401.0</td>\n",
       "      <td>143716.0</td>\n",
       "      <td>401.0</td>\n",
       "      <td>61.0</td>\n",
       "      <td>401.0</td>\n",
       "    </tr>\n",
       "    <tr>\n",
       "      <th>76</th>\n",
       "      <td>20200423</td>\n",
       "      <td>LA</td>\n",
       "      <td>25739.0</td>\n",
       "      <td>117576.0</td>\n",
       "      <td>0.0</td>\n",
       "      <td>1727.0</td>\n",
       "      <td>0.0</td>\n",
       "      <td>0.0</td>\n",
       "      <td>0.0</td>\n",
       "      <td>274.0</td>\n",
       "      <td>...</td>\n",
       "      <td>22</td>\n",
       "      <td>67.0</td>\n",
       "      <td>0.0</td>\n",
       "      <td>0.0</td>\n",
       "      <td>481.0</td>\n",
       "      <td>481.0</td>\n",
       "      <td>143315.0</td>\n",
       "      <td>481.0</td>\n",
       "      <td>67.0</td>\n",
       "      <td>481.0</td>\n",
       "    </tr>\n",
       "    <tr>\n",
       "      <th>132</th>\n",
       "      <td>20200422</td>\n",
       "      <td>LA</td>\n",
       "      <td>25258.0</td>\n",
       "      <td>117576.0</td>\n",
       "      <td>0.0</td>\n",
       "      <td>1747.0</td>\n",
       "      <td>0.0</td>\n",
       "      <td>0.0</td>\n",
       "      <td>0.0</td>\n",
       "      <td>287.0</td>\n",
       "      <td>...</td>\n",
       "      <td>22</td>\n",
       "      <td>68.0</td>\n",
       "      <td>0.0</td>\n",
       "      <td>0.0</td>\n",
       "      <td>404.0</td>\n",
       "      <td>404.0</td>\n",
       "      <td>142834.0</td>\n",
       "      <td>404.0</td>\n",
       "      <td>68.0</td>\n",
       "      <td>404.0</td>\n",
       "    </tr>\n",
       "    <tr>\n",
       "      <th>188</th>\n",
       "      <td>20200421</td>\n",
       "      <td>LA</td>\n",
       "      <td>24854.0</td>\n",
       "      <td>117576.0</td>\n",
       "      <td>0.0</td>\n",
       "      <td>1798.0</td>\n",
       "      <td>0.0</td>\n",
       "      <td>0.0</td>\n",
       "      <td>0.0</td>\n",
       "      <td>297.0</td>\n",
       "      <td>...</td>\n",
       "      <td>22</td>\n",
       "      <td>77.0</td>\n",
       "      <td>0.0</td>\n",
       "      <td>0.0</td>\n",
       "      <td>331.0</td>\n",
       "      <td>331.0</td>\n",
       "      <td>142430.0</td>\n",
       "      <td>331.0</td>\n",
       "      <td>77.0</td>\n",
       "      <td>331.0</td>\n",
       "    </tr>\n",
       "    <tr>\n",
       "      <th>244</th>\n",
       "      <td>20200420</td>\n",
       "      <td>LA</td>\n",
       "      <td>24523.0</td>\n",
       "      <td>117576.0</td>\n",
       "      <td>0.0</td>\n",
       "      <td>1794.0</td>\n",
       "      <td>0.0</td>\n",
       "      <td>0.0</td>\n",
       "      <td>0.0</td>\n",
       "      <td>332.0</td>\n",
       "      <td>...</td>\n",
       "      <td>22</td>\n",
       "      <td>32.0</td>\n",
       "      <td>0.0</td>\n",
       "      <td>0.0</td>\n",
       "      <td>595.0</td>\n",
       "      <td>595.0</td>\n",
       "      <td>142099.0</td>\n",
       "      <td>595.0</td>\n",
       "      <td>32.0</td>\n",
       "      <td>595.0</td>\n",
       "    </tr>\n",
       "  </tbody>\n",
       "</table>\n",
       "<p>5 rows × 29 columns</p>\n",
       "</div>"
      ],
      "text/plain": [
       "         date state  positive  negative  pending  hospitalizedCurrently  \\\n",
       "20   20200424    LA   26140.0  117576.0      0.0                 1697.0   \n",
       "76   20200423    LA   25739.0  117576.0      0.0                 1727.0   \n",
       "132  20200422    LA   25258.0  117576.0      0.0                 1747.0   \n",
       "188  20200421    LA   24854.0  117576.0      0.0                 1798.0   \n",
       "244  20200420    LA   24523.0  117576.0      0.0                 1794.0   \n",
       "\n",
       "     hospitalizedCumulative  inIcuCurrently  inIcuCumulative  \\\n",
       "20                      0.0             0.0              0.0   \n",
       "76                      0.0             0.0              0.0   \n",
       "132                     0.0             0.0              0.0   \n",
       "188                     0.0             0.0              0.0   \n",
       "244                     0.0             0.0              0.0   \n",
       "\n",
       "     onVentilatorCurrently  ...  fips  deathIncrease hospitalizedIncrease  \\\n",
       "20                   286.0  ...    22           61.0                  0.0   \n",
       "76                   274.0  ...    22           67.0                  0.0   \n",
       "132                  287.0  ...    22           68.0                  0.0   \n",
       "188                  297.0  ...    22           77.0                  0.0   \n",
       "244                  332.0  ...    22           32.0                  0.0   \n",
       "\n",
       "    negativeIncrease  positiveIncrease  totalTestResultsIncrease    tested  \\\n",
       "20               0.0             401.0                     401.0  143716.0   \n",
       "76               0.0             481.0                     481.0  143315.0   \n",
       "132              0.0             404.0                     404.0  142834.0   \n",
       "188              0.0             331.0                     331.0  142430.0   \n",
       "244              0.0             595.0                     595.0  142099.0   \n",
       "\n",
       "     daily_positive_increase  daily_death_increase  daily_tested_increase  \n",
       "20                     401.0                  61.0                  401.0  \n",
       "76                     481.0                  67.0                  481.0  \n",
       "132                    404.0                  68.0                  404.0  \n",
       "188                    331.0                  77.0                  331.0  \n",
       "244                    595.0                  32.0                  595.0  \n",
       "\n",
       "[5 rows x 29 columns]"
      ]
     },
     "execution_count": 3,
     "metadata": {},
     "output_type": "execute_result"
    }
   ],
   "source": [
    "#hide_input\n",
    "df_la.head()"
   ]
  },
  {
   "cell_type": "code",
   "execution_count": 4,
   "metadata": {
    "execution": {
     "iopub.execute_input": "2020-04-24T23:06:29.938056Z",
     "iopub.status.busy": "2020-04-24T23:06:29.937348Z",
     "iopub.status.idle": "2020-04-24T23:06:31.066404Z",
     "shell.execute_reply": "2020-04-24T23:06:31.066947Z"
    },
    "papermill": {
     "duration": 1.169116,
     "end_time": "2020-04-24T23:06:31.067087",
     "exception": false,
     "start_time": "2020-04-24T23:06:29.897971",
     "status": "completed"
    },
    "tags": []
   },
   "outputs": [
    {
     "data": {
      "image/png": "[encoded data removed]",
      "text/plain": [
       "<Figure size 842.4x595.44 with 1 Axes>"
      ]
     },
     "metadata": {},
     "output_type": "display_data"
    }
   ],
   "source": [
    "#hide_input\n",
    "sns.set(rc={'figure.figsize':(11.7,8.27)})\n",
    "ax = sns.barplot(x='date', y= 'daily_positive_increase', data=df_la)\n",
    "ax.set_xticklabels(ax.get_xticklabels(), rotation=40, ha=\"right\")\n",
    "plt.tight_layout()\n",
    "plt.show()"
   ]
  },
  {
   "cell_type": "code",
   "execution_count": 5,
   "metadata": {
    "execution": {
     "iopub.execute_input": "2020-04-24T23:06:31.126298Z",
     "iopub.status.busy": "2020-04-24T23:06:31.125557Z",
     "iopub.status.idle": "2020-04-24T23:06:31.128260Z",
     "shell.execute_reply": "2020-04-24T23:06:31.128947Z"
    },
    "papermill": {
     "duration": 0.03591,
     "end_time": "2020-04-24T23:06:31.129082",
     "exception": false,
     "start_time": "2020-04-24T23:06:31.093172",
     "status": "completed"
    },
    "tags": []
   },
   "outputs": [
    {
     "data": {
      "text/plain": [
       "date                                                        20200424\n",
       "state                                                             OR\n",
       "positive                                                        2177\n",
       "negative                                                       43315\n",
       "pending                                                            0\n",
       "hospitalizedCurrently                                            258\n",
       "hospitalizedCumulative                                           520\n",
       "inIcuCurrently                                                    56\n",
       "inIcuCumulative                                                    0\n",
       "onVentilatorCurrently                                             29\n",
       "onVentilatorCumulative                                             0\n",
       "recovered                                                          0\n",
       "hash                        996ff852af8a8e4293af5cbda7a30aae5c5c2e3a\n",
       "dateChecked                                     2020-04-24T20:00:00Z\n",
       "death                                                             86\n",
       "hospitalized                                                     520\n",
       "total                                                          45492\n",
       "totalTestResults                                               45492\n",
       "posNeg                                                         45492\n",
       "fips                                                              41\n",
       "deathIncrease                                                      3\n",
       "hospitalizedIncrease                                               8\n",
       "negativeIncrease                                                1466\n",
       "positiveIncrease                                                  50\n",
       "totalTestResultsIncrease                                        1516\n",
       "tested                                                         45492\n",
       "daily_positive_increase                                           50\n",
       "daily_death_increase                                               3\n",
       "daily_tested_increase                                           1516\n",
       "Name: 40, dtype: object"
      ]
     },
     "execution_count": 5,
     "metadata": {},
     "output_type": "execute_result"
    }
   ],
   "source": [
    "#hide\n",
    "dfk[dfk.state==\"OR\"].iloc[0]"
   ]
  },
  {
   "cell_type": "code",
   "execution_count": 6,
   "metadata": {
    "execution": {
     "iopub.execute_input": "2020-04-24T23:06:31.181032Z",
     "iopub.status.busy": "2020-04-24T23:06:31.180268Z",
     "iopub.status.idle": "2020-04-24T23:06:31.254877Z",
     "shell.execute_reply": "2020-04-24T23:06:31.253754Z"
    },
    "papermill": {
     "duration": 0.103544,
     "end_time": "2020-04-24T23:06:31.255007",
     "exception": false,
     "start_time": "2020-04-24T23:06:31.151463",
     "status": "completed"
    },
    "tags": []
   },
   "outputs": [],
   "source": [
    "#collapse-hide\n",
    "import pandas as pd\n",
    "import datetime\n",
    "base_url=\"https://raw.githubusercontent.com/CSSEGISandData/COVID-19/master/csse_covid_19_data/csse_covid_19_daily_reports/\"\n",
    "yesterday = f\"{datetime.datetime.now() - datetime.timedelta(days=1):%m-%d-%Y}\"\n",
    "full_url = f\"{base_url}{yesterday}.csv\"\n",
    "df = pd.read_csv(full_url)"
   ]
  },
  {
   "cell_type": "code",
   "execution_count": 7,
   "metadata": {
    "execution": {
     "iopub.execute_input": "2020-04-24T23:06:31.315756Z",
     "iopub.status.busy": "2020-04-24T23:06:31.315125Z",
     "iopub.status.idle": "2020-04-24T23:06:31.317761Z",
     "shell.execute_reply": "2020-04-24T23:06:31.318266Z"
    },
    "papermill": {
     "duration": 0.041746,
     "end_time": "2020-04-24T23:06:31.318382",
     "exception": false,
     "start_time": "2020-04-24T23:06:31.276636",
     "status": "completed"
    },
    "tags": []
   },
   "outputs": [
    {
     "data": {
      "text/html": [
       "<div>\n",
       "<style scoped>\n",
       "    .dataframe tbody tr th:only-of-type {\n",
       "        vertical-align: middle;\n",
       "    }\n",
       "\n",
       "    .dataframe tbody tr th {\n",
       "        vertical-align: top;\n",
       "    }\n",
       "\n",
       "    .dataframe thead th {\n",
       "        text-align: right;\n",
       "    }\n",
       "</style>\n",
       "<table border=\"1\" class=\"dataframe\">\n",
       "  <thead>\n",
       "    <tr style=\"text-align: right;\">\n",
       "      <th></th>\n",
       "      <th>FIPS</th>\n",
       "      <th>Admin2</th>\n",
       "      <th>Province_State</th>\n",
       "      <th>Country_Region</th>\n",
       "      <th>Last_Update</th>\n",
       "      <th>Lat</th>\n",
       "      <th>Long_</th>\n",
       "      <th>Confirmed</th>\n",
       "      <th>Deaths</th>\n",
       "      <th>Recovered</th>\n",
       "      <th>Active</th>\n",
       "      <th>Combined_Key</th>\n",
       "    </tr>\n",
       "  </thead>\n",
       "  <tbody>\n",
       "    <tr>\n",
       "      <th>0</th>\n",
       "      <td>45001.0</td>\n",
       "      <td>Abbeville</td>\n",
       "      <td>South Carolina</td>\n",
       "      <td>US</td>\n",
       "      <td>2020-04-24 03:30:50</td>\n",
       "      <td>34.223334</td>\n",
       "      <td>-82.461707</td>\n",
       "      <td>23</td>\n",
       "      <td>0</td>\n",
       "      <td>0</td>\n",
       "      <td>23</td>\n",
       "      <td>Abbeville, South Carolina, US</td>\n",
       "    </tr>\n",
       "    <tr>\n",
       "      <th>1</th>\n",
       "      <td>22001.0</td>\n",
       "      <td>Acadia</td>\n",
       "      <td>Louisiana</td>\n",
       "      <td>US</td>\n",
       "      <td>2020-04-24 03:30:50</td>\n",
       "      <td>30.295065</td>\n",
       "      <td>-92.414197</td>\n",
       "      <td>117</td>\n",
       "      <td>7</td>\n",
       "      <td>0</td>\n",
       "      <td>110</td>\n",
       "      <td>Acadia, Louisiana, US</td>\n",
       "    </tr>\n",
       "    <tr>\n",
       "      <th>2</th>\n",
       "      <td>51001.0</td>\n",
       "      <td>Accomack</td>\n",
       "      <td>Virginia</td>\n",
       "      <td>US</td>\n",
       "      <td>2020-04-24 03:30:50</td>\n",
       "      <td>37.767072</td>\n",
       "      <td>-75.632346</td>\n",
       "      <td>76</td>\n",
       "      <td>2</td>\n",
       "      <td>0</td>\n",
       "      <td>74</td>\n",
       "      <td>Accomack, Virginia, US</td>\n",
       "    </tr>\n",
       "    <tr>\n",
       "      <th>3</th>\n",
       "      <td>16001.0</td>\n",
       "      <td>Ada</td>\n",
       "      <td>Idaho</td>\n",
       "      <td>US</td>\n",
       "      <td>2020-04-24 03:30:50</td>\n",
       "      <td>43.452658</td>\n",
       "      <td>-116.241552</td>\n",
       "      <td>635</td>\n",
       "      <td>14</td>\n",
       "      <td>0</td>\n",
       "      <td>621</td>\n",
       "      <td>Ada, Idaho, US</td>\n",
       "    </tr>\n",
       "    <tr>\n",
       "      <th>4</th>\n",
       "      <td>19001.0</td>\n",
       "      <td>Adair</td>\n",
       "      <td>Iowa</td>\n",
       "      <td>US</td>\n",
       "      <td>2020-04-24 03:30:50</td>\n",
       "      <td>41.330756</td>\n",
       "      <td>-94.471059</td>\n",
       "      <td>1</td>\n",
       "      <td>0</td>\n",
       "      <td>0</td>\n",
       "      <td>1</td>\n",
       "      <td>Adair, Iowa, US</td>\n",
       "    </tr>\n",
       "  </tbody>\n",
       "</table>\n",
       "</div>"
      ],
      "text/plain": [
       "      FIPS     Admin2  Province_State Country_Region          Last_Update  \\\n",
       "0  45001.0  Abbeville  South Carolina             US  2020-04-24 03:30:50   \n",
       "1  22001.0     Acadia       Louisiana             US  2020-04-24 03:30:50   \n",
       "2  51001.0   Accomack        Virginia             US  2020-04-24 03:30:50   \n",
       "3  16001.0        Ada           Idaho             US  2020-04-24 03:30:50   \n",
       "4  19001.0      Adair            Iowa             US  2020-04-24 03:30:50   \n",
       "\n",
       "         Lat       Long_  Confirmed  Deaths  Recovered  Active  \\\n",
       "0  34.223334  -82.461707         23       0          0      23   \n",
       "1  30.295065  -92.414197        117       7          0     110   \n",
       "2  37.767072  -75.632346         76       2          0      74   \n",
       "3  43.452658 -116.241552        635      14          0     621   \n",
       "4  41.330756  -94.471059          1       0          0       1   \n",
       "\n",
       "                    Combined_Key  \n",
       "0  Abbeville, South Carolina, US  \n",
       "1          Acadia, Louisiana, US  \n",
       "2         Accomack, Virginia, US  \n",
       "3                 Ada, Idaho, US  \n",
       "4                Adair, Iowa, US  "
      ]
     },
     "execution_count": 7,
     "metadata": {},
     "output_type": "execute_result"
    }
   ],
   "source": [
    "#hide_input\n",
    "df.head()"
   ]
  },
  {
   "cell_type": "code",
   "execution_count": 8,
   "metadata": {
    "execution": {
     "iopub.execute_input": "2020-04-24T23:06:31.371043Z",
     "iopub.status.busy": "2020-04-24T23:06:31.370473Z",
     "iopub.status.idle": "2020-04-24T23:06:31.373182Z",
     "shell.execute_reply": "2020-04-24T23:06:31.373817Z"
    },
    "papermill": {
     "duration": 0.032312,
     "end_time": "2020-04-24T23:06:31.373983",
     "exception": false,
     "start_time": "2020-04-24T23:06:31.341671",
     "status": "completed"
    },
    "tags": []
   },
   "outputs": [
    {
     "data": {
      "text/plain": [
       "2127"
      ]
     },
     "execution_count": 8,
     "metadata": {},
     "output_type": "execute_result"
    }
   ],
   "source": [
    "df[df.Province_State==\"Oregon\"]['Confirmed'].sum()"
   ]
  },
  {
   "cell_type": "code",
   "execution_count": 9,
   "metadata": {
    "execution": {
     "iopub.execute_input": "2020-04-24T23:06:31.428959Z",
     "iopub.status.busy": "2020-04-24T23:06:31.428313Z",
     "iopub.status.idle": "2020-04-24T23:06:32.626883Z",
     "shell.execute_reply": "2020-04-24T23:06:32.626395Z"
    },
    "papermill": {
     "duration": 1.227862,
     "end_time": "2020-04-24T23:06:32.626993",
     "exception": false,
     "start_time": "2020-04-24T23:06:31.399131",
     "status": "completed"
    },
    "tags": []
   },
   "outputs": [
    {
     "name": "stdout",
     "output_type": "stream",
     "text": [
      "Requirement already satisfied: seaborn in /opt/hostedtoolcache/Python/3.6.10/x64/lib/python3.6/site-packages (0.10.0)\r\n",
      "Requirement already satisfied: pandas>=0.22.0 in /opt/hostedtoolcache/Python/3.6.10/x64/lib/python3.6/site-packages (from seaborn) (1.0.3)\r\n",
      "Requirement already satisfied: numpy>=1.13.3 in /opt/hostedtoolcache/Python/3.6.10/x64/lib/python3.6/site-packages (from seaborn) (1.18.3)\r\n"
     ]
    },
    {
     "name": "stdout",
     "output_type": "stream",
     "text": [
      "Requirement already satisfied: matplotlib>=2.1.2 in /opt/hostedtoolcache/Python/3.6.10/x64/lib/python3.6/site-packages (from seaborn) (3.2.1)\r\n",
      "Requirement already satisfied: scipy>=1.0.1 in /opt/hostedtoolcache/Python/3.6.10/x64/lib/python3.6/site-packages (from seaborn) (1.4.1)\r\n",
      "Requirement already satisfied: pytz>=2017.2 in /opt/hostedtoolcache/Python/3.6.10/x64/lib/python3.6/site-packages (from pandas>=0.22.0->seaborn) (2019.3)\r\n",
      "Requirement already satisfied: python-dateutil>=2.6.1 in /opt/hostedtoolcache/Python/3.6.10/x64/lib/python3.6/site-packages (from pandas>=0.22.0->seaborn) (2.8.1)\r\n",
      "Requirement already satisfied: cycler>=0.10 in /opt/hostedtoolcache/Python/3.6.10/x64/lib/python3.6/site-packages (from matplotlib>=2.1.2->seaborn) (0.10.0)\r\n",
      "Requirement already satisfied: pyparsing!=2.0.4,!=2.1.2,!=2.1.6,>=2.0.1 in /opt/hostedtoolcache/Python/3.6.10/x64/lib/python3.6/site-packages (from matplotlib>=2.1.2->seaborn) (2.4.7)\r\n",
      "Requirement already satisfied: kiwisolver>=1.0.1 in /opt/hostedtoolcache/Python/3.6.10/x64/lib/python3.6/site-packages (from matplotlib>=2.1.2->seaborn) (1.2.0)\r\n",
      "Requirement already satisfied: six>=1.5 in /opt/hostedtoolcache/Python/3.6.10/x64/lib/python3.6/site-packages (from python-dateutil>=2.6.1->pandas>=0.22.0->seaborn) (1.14.0)\r\n"
     ]
    }
   ],
   "source": [
    "#hide\n",
    "!pip install seaborn"
   ]
  },
  {
   "cell_type": "code",
   "execution_count": 10,
   "metadata": {
    "execution": {
     "iopub.execute_input": "2020-04-24T23:06:32.680310Z",
     "iopub.status.busy": "2020-04-24T23:06:32.679511Z",
     "iopub.status.idle": "2020-04-24T23:06:32.863194Z",
     "shell.execute_reply": "2020-04-24T23:06:32.863819Z"
    },
    "papermill": {
     "duration": 0.212186,
     "end_time": "2020-04-24T23:06:32.864003",
     "exception": false,
     "start_time": "2020-04-24T23:06:32.651817",
     "status": "completed"
    },
    "tags": []
   },
   "outputs": [],
   "source": [
    "import pandas as pd\n",
    "import datetime\n",
    "base_url=\"https://github.com/CSSEGISandData/COVID-19/raw/master/csse_covid_19_data/csse_covid_19_time_series/time_series_covid19_confirmed_global.csv\"\n",
    "df = pd.read_csv(base_url)"
   ]
  },
  {
   "cell_type": "code",
   "execution_count": 11,
   "metadata": {
    "execution": {
     "iopub.execute_input": "2020-04-24T23:06:32.918330Z",
     "iopub.status.busy": "2020-04-24T23:06:32.917634Z",
     "iopub.status.idle": "2020-04-24T23:06:32.919874Z",
     "shell.execute_reply": "2020-04-24T23:06:32.919409Z"
    },
    "papermill": {
     "duration": 0.032954,
     "end_time": "2020-04-24T23:06:32.919976",
     "exception": false,
     "start_time": "2020-04-24T23:06:32.887022",
     "status": "completed"
    },
    "tags": []
   },
   "outputs": [],
   "source": [
    "df = df.drop(['Lat', 'Long'], axis=1)"
   ]
  },
  {
   "cell_type": "code",
   "execution_count": 12,
   "metadata": {
    "execution": {
     "iopub.execute_input": "2020-04-24T23:06:32.971735Z",
     "iopub.status.busy": "2020-04-24T23:06:32.971033Z",
     "iopub.status.idle": "2020-04-24T23:06:32.973850Z",
     "shell.execute_reply": "2020-04-24T23:06:32.974421Z"
    },
    "papermill": {
     "duration": 0.03142,
     "end_time": "2020-04-24T23:06:32.974533",
     "exception": false,
     "start_time": "2020-04-24T23:06:32.943113",
     "status": "completed"
    },
    "tags": []
   },
   "outputs": [],
   "source": [
    "ncountries = sorted(df['Country/Region'].unique().tolist())"
   ]
  },
  {
   "cell_type": "code",
   "execution_count": 13,
   "metadata": {
    "execution": {
     "iopub.execute_input": "2020-04-24T23:06:33.027110Z",
     "iopub.status.busy": "2020-04-24T23:06:33.026498Z",
     "iopub.status.idle": "2020-04-24T23:06:33.028352Z",
     "shell.execute_reply": "2020-04-24T23:06:33.028970Z"
    },
    "papermill": {
     "duration": 0.030569,
     "end_time": "2020-04-24T23:06:33.029106",
     "exception": false,
     "start_time": "2020-04-24T23:06:32.998537",
     "status": "completed"
    },
    "tags": []
   },
   "outputs": [],
   "source": [
    "#ncountries"
   ]
  },
  {
   "cell_type": "code",
   "execution_count": 14,
   "metadata": {
    "execution": {
     "iopub.execute_input": "2020-04-24T23:06:33.108221Z",
     "iopub.status.busy": "2020-04-24T23:06:33.107634Z",
     "iopub.status.idle": "2020-04-24T23:06:34.420873Z",
     "shell.execute_reply": "2020-04-24T23:06:34.420293Z"
    },
    "papermill": {
     "duration": 1.367829,
     "end_time": "2020-04-24T23:06:34.421016",
     "exception": false,
     "start_time": "2020-04-24T23:06:33.053187",
     "status": "completed"
    },
    "tags": []
   },
   "outputs": [],
   "source": [
    "dfa = pd.DataFrame()\n",
    "for i, country in enumerate(ncountries):\n",
    "    dfc = df[df['Country/Region'] == country].copy()\n",
    "    if len(dfc) > 1:\n",
    "        dfc = dfc.drop(['Province/State'], axis=1).groupby('Country/Region').sum().reset_index()\n",
    "    else:\n",
    "        dfc = dfc.drop(['Province/State'], axis=1)\n",
    "    dfc2 = dfc.melt(id_vars=[\"Country/Region\"], \n",
    "                        var_name=\"Date\",\n",
    "                        value_name=\"cases\")\n",
    "    dfc2 = dfc2.rename({'Country/Region': 'country'}, axis=1)\n",
    "    dfa = dfa.append(dfc2)"
   ]
  },
  {
   "cell_type": "code",
   "execution_count": 15,
   "metadata": {
    "execution": {
     "iopub.execute_input": "2020-04-24T23:06:34.486550Z",
     "iopub.status.busy": "2020-04-24T23:06:34.485825Z",
     "iopub.status.idle": "2020-04-24T23:06:34.492757Z",
     "shell.execute_reply": "2020-04-24T23:06:34.492198Z"
    },
    "papermill": {
     "duration": 0.04642,
     "end_time": "2020-04-24T23:06:34.492907",
     "exception": false,
     "start_time": "2020-04-24T23:06:34.446487",
     "status": "completed"
    },
    "tags": []
   },
   "outputs": [
    {
     "data": {
      "text/html": [
       "<div>\n",
       "<style scoped>\n",
       "    .dataframe tbody tr th:only-of-type {\n",
       "        vertical-align: middle;\n",
       "    }\n",
       "\n",
       "    .dataframe tbody tr th {\n",
       "        vertical-align: top;\n",
       "    }\n",
       "\n",
       "    .dataframe thead th {\n",
       "        text-align: right;\n",
       "    }\n",
       "</style>\n",
       "<table border=\"1\" class=\"dataframe\">\n",
       "  <thead>\n",
       "    <tr style=\"text-align: right;\">\n",
       "      <th></th>\n",
       "      <th>country</th>\n",
       "      <th>Date</th>\n",
       "      <th>cases</th>\n",
       "    </tr>\n",
       "  </thead>\n",
       "  <tbody>\n",
       "    <tr>\n",
       "      <th>73</th>\n",
       "      <td>France</td>\n",
       "      <td>4/4/20</td>\n",
       "      <td>69500</td>\n",
       "    </tr>\n",
       "    <tr>\n",
       "      <th>74</th>\n",
       "      <td>France</td>\n",
       "      <td>4/5/20</td>\n",
       "      <td>71412</td>\n",
       "    </tr>\n",
       "    <tr>\n",
       "      <th>75</th>\n",
       "      <td>France</td>\n",
       "      <td>4/6/20</td>\n",
       "      <td>75343</td>\n",
       "    </tr>\n",
       "    <tr>\n",
       "      <th>76</th>\n",
       "      <td>France</td>\n",
       "      <td>4/7/20</td>\n",
       "      <td>79163</td>\n",
       "    </tr>\n",
       "    <tr>\n",
       "      <th>77</th>\n",
       "      <td>France</td>\n",
       "      <td>4/8/20</td>\n",
       "      <td>83057</td>\n",
       "    </tr>\n",
       "    <tr>\n",
       "      <th>78</th>\n",
       "      <td>France</td>\n",
       "      <td>4/9/20</td>\n",
       "      <td>87366</td>\n",
       "    </tr>\n",
       "    <tr>\n",
       "      <th>79</th>\n",
       "      <td>France</td>\n",
       "      <td>4/10/20</td>\n",
       "      <td>91738</td>\n",
       "    </tr>\n",
       "    <tr>\n",
       "      <th>80</th>\n",
       "      <td>France</td>\n",
       "      <td>4/11/20</td>\n",
       "      <td>94863</td>\n",
       "    </tr>\n",
       "    <tr>\n",
       "      <th>81</th>\n",
       "      <td>France</td>\n",
       "      <td>4/12/20</td>\n",
       "      <td>121712</td>\n",
       "    </tr>\n",
       "    <tr>\n",
       "      <th>82</th>\n",
       "      <td>France</td>\n",
       "      <td>4/13/20</td>\n",
       "      <td>125394</td>\n",
       "    </tr>\n",
       "    <tr>\n",
       "      <th>83</th>\n",
       "      <td>France</td>\n",
       "      <td>4/14/20</td>\n",
       "      <td>130365</td>\n",
       "    </tr>\n",
       "    <tr>\n",
       "      <th>84</th>\n",
       "      <td>France</td>\n",
       "      <td>4/15/20</td>\n",
       "      <td>133585</td>\n",
       "    </tr>\n",
       "    <tr>\n",
       "      <th>85</th>\n",
       "      <td>France</td>\n",
       "      <td>4/16/20</td>\n",
       "      <td>146075</td>\n",
       "    </tr>\n",
       "    <tr>\n",
       "      <th>86</th>\n",
       "      <td>France</td>\n",
       "      <td>4/17/20</td>\n",
       "      <td>148084</td>\n",
       "    </tr>\n",
       "    <tr>\n",
       "      <th>87</th>\n",
       "      <td>France</td>\n",
       "      <td>4/18/20</td>\n",
       "      <td>148086</td>\n",
       "    </tr>\n",
       "    <tr>\n",
       "      <th>88</th>\n",
       "      <td>France</td>\n",
       "      <td>4/19/20</td>\n",
       "      <td>153011</td>\n",
       "    </tr>\n",
       "    <tr>\n",
       "      <th>89</th>\n",
       "      <td>France</td>\n",
       "      <td>4/20/20</td>\n",
       "      <td>155393</td>\n",
       "    </tr>\n",
       "    <tr>\n",
       "      <th>90</th>\n",
       "      <td>France</td>\n",
       "      <td>4/21/20</td>\n",
       "      <td>158168</td>\n",
       "    </tr>\n",
       "    <tr>\n",
       "      <th>91</th>\n",
       "      <td>France</td>\n",
       "      <td>4/22/20</td>\n",
       "      <td>155980</td>\n",
       "    </tr>\n",
       "    <tr>\n",
       "      <th>92</th>\n",
       "      <td>France</td>\n",
       "      <td>4/23/20</td>\n",
       "      <td>158303</td>\n",
       "    </tr>\n",
       "  </tbody>\n",
       "</table>\n",
       "</div>"
      ],
      "text/plain": [
       "   country     Date   cases\n",
       "73  France   4/4/20   69500\n",
       "74  France   4/5/20   71412\n",
       "75  France   4/6/20   75343\n",
       "76  France   4/7/20   79163\n",
       "77  France   4/8/20   83057\n",
       "78  France   4/9/20   87366\n",
       "79  France  4/10/20   91738\n",
       "80  France  4/11/20   94863\n",
       "81  France  4/12/20  121712\n",
       "82  France  4/13/20  125394\n",
       "83  France  4/14/20  130365\n",
       "84  France  4/15/20  133585\n",
       "85  France  4/16/20  146075\n",
       "86  France  4/17/20  148084\n",
       "87  France  4/18/20  148086\n",
       "88  France  4/19/20  153011\n",
       "89  France  4/20/20  155393\n",
       "90  France  4/21/20  158168\n",
       "91  France  4/22/20  155980\n",
       "92  France  4/23/20  158303"
      ]
     },
     "execution_count": 15,
     "metadata": {},
     "output_type": "execute_result"
    }
   ],
   "source": [
    "dfa[dfa.country==\"France\"].tail(20)"
   ]
  },
  {
   "cell_type": "code",
   "execution_count": 16,
   "metadata": {
    "execution": {
     "iopub.execute_input": "2020-04-24T23:06:34.549912Z",
     "iopub.status.busy": "2020-04-24T23:06:34.548248Z",
     "iopub.status.idle": "2020-04-24T23:06:34.552466Z",
     "shell.execute_reply": "2020-04-24T23:06:34.553049Z"
    },
    "papermill": {
     "duration": 0.034795,
     "end_time": "2020-04-24T23:06:34.553223",
     "exception": false,
     "start_time": "2020-04-24T23:06:34.518428",
     "status": "completed"
    },
    "tags": []
   },
   "outputs": [
    {
     "data": {
      "text/plain": [
       "185"
      ]
     },
     "execution_count": 16,
     "metadata": {},
     "output_type": "execute_result"
    }
   ],
   "source": [
    "dfa.country.nunique()"
   ]
  },
  {
   "cell_type": "code",
   "execution_count": 17,
   "metadata": {
    "execution": {
     "iopub.execute_input": "2020-04-24T23:06:34.614006Z",
     "iopub.status.busy": "2020-04-24T23:06:34.613405Z",
     "iopub.status.idle": "2020-04-24T23:06:34.618406Z",
     "shell.execute_reply": "2020-04-24T23:06:34.617908Z"
    },
    "papermill": {
     "duration": 0.039215,
     "end_time": "2020-04-24T23:06:34.618513",
     "exception": false,
     "start_time": "2020-04-24T23:06:34.579298",
     "status": "completed"
    },
    "tags": []
   },
   "outputs": [],
   "source": [
    "df = df.drop(['Province/State'], axis=1).groupby('Country/Region').sum().reset_index()"
   ]
  },
  {
   "cell_type": "code",
   "execution_count": 18,
   "metadata": {
    "execution": {
     "iopub.execute_input": "2020-04-24T23:06:34.685253Z",
     "iopub.status.busy": "2020-04-24T23:06:34.684524Z",
     "iopub.status.idle": "2020-04-24T23:06:34.687641Z",
     "shell.execute_reply": "2020-04-24T23:06:34.688138Z"
    },
    "papermill": {
     "duration": 0.046553,
     "end_time": "2020-04-24T23:06:34.688269",
     "exception": false,
     "start_time": "2020-04-24T23:06:34.641716",
     "status": "completed"
    },
    "tags": []
   },
   "outputs": [
    {
     "data": {
      "text/html": [
       "<div>\n",
       "<style scoped>\n",
       "    .dataframe tbody tr th:only-of-type {\n",
       "        vertical-align: middle;\n",
       "    }\n",
       "\n",
       "    .dataframe tbody tr th {\n",
       "        vertical-align: top;\n",
       "    }\n",
       "\n",
       "    .dataframe thead th {\n",
       "        text-align: right;\n",
       "    }\n",
       "</style>\n",
       "<table border=\"1\" class=\"dataframe\">\n",
       "  <thead>\n",
       "    <tr style=\"text-align: right;\">\n",
       "      <th></th>\n",
       "      <th>Country/Region</th>\n",
       "      <th>1/22/20</th>\n",
       "      <th>1/23/20</th>\n",
       "      <th>1/24/20</th>\n",
       "      <th>1/25/20</th>\n",
       "      <th>1/26/20</th>\n",
       "      <th>1/27/20</th>\n",
       "      <th>1/28/20</th>\n",
       "      <th>1/29/20</th>\n",
       "      <th>1/30/20</th>\n",
       "      <th>...</th>\n",
       "      <th>4/14/20</th>\n",
       "      <th>4/15/20</th>\n",
       "      <th>4/16/20</th>\n",
       "      <th>4/17/20</th>\n",
       "      <th>4/18/20</th>\n",
       "      <th>4/19/20</th>\n",
       "      <th>4/20/20</th>\n",
       "      <th>4/21/20</th>\n",
       "      <th>4/22/20</th>\n",
       "      <th>4/23/20</th>\n",
       "    </tr>\n",
       "  </thead>\n",
       "  <tbody>\n",
       "    <tr>\n",
       "      <th>0</th>\n",
       "      <td>Afghanistan</td>\n",
       "      <td>0</td>\n",
       "      <td>0</td>\n",
       "      <td>0</td>\n",
       "      <td>0</td>\n",
       "      <td>0</td>\n",
       "      <td>0</td>\n",
       "      <td>0</td>\n",
       "      <td>0</td>\n",
       "      <td>0</td>\n",
       "      <td>...</td>\n",
       "      <td>714</td>\n",
       "      <td>784</td>\n",
       "      <td>840</td>\n",
       "      <td>906</td>\n",
       "      <td>933</td>\n",
       "      <td>996</td>\n",
       "      <td>1026</td>\n",
       "      <td>1092</td>\n",
       "      <td>1176</td>\n",
       "      <td>1279</td>\n",
       "    </tr>\n",
       "    <tr>\n",
       "      <th>1</th>\n",
       "      <td>Albania</td>\n",
       "      <td>0</td>\n",
       "      <td>0</td>\n",
       "      <td>0</td>\n",
       "      <td>0</td>\n",
       "      <td>0</td>\n",
       "      <td>0</td>\n",
       "      <td>0</td>\n",
       "      <td>0</td>\n",
       "      <td>0</td>\n",
       "      <td>...</td>\n",
       "      <td>475</td>\n",
       "      <td>494</td>\n",
       "      <td>518</td>\n",
       "      <td>539</td>\n",
       "      <td>548</td>\n",
       "      <td>562</td>\n",
       "      <td>584</td>\n",
       "      <td>609</td>\n",
       "      <td>634</td>\n",
       "      <td>663</td>\n",
       "    </tr>\n",
       "    <tr>\n",
       "      <th>2</th>\n",
       "      <td>Algeria</td>\n",
       "      <td>0</td>\n",
       "      <td>0</td>\n",
       "      <td>0</td>\n",
       "      <td>0</td>\n",
       "      <td>0</td>\n",
       "      <td>0</td>\n",
       "      <td>0</td>\n",
       "      <td>0</td>\n",
       "      <td>0</td>\n",
       "      <td>...</td>\n",
       "      <td>2070</td>\n",
       "      <td>2160</td>\n",
       "      <td>2268</td>\n",
       "      <td>2418</td>\n",
       "      <td>2534</td>\n",
       "      <td>2629</td>\n",
       "      <td>2718</td>\n",
       "      <td>2811</td>\n",
       "      <td>2910</td>\n",
       "      <td>3007</td>\n",
       "    </tr>\n",
       "    <tr>\n",
       "      <th>3</th>\n",
       "      <td>Andorra</td>\n",
       "      <td>0</td>\n",
       "      <td>0</td>\n",
       "      <td>0</td>\n",
       "      <td>0</td>\n",
       "      <td>0</td>\n",
       "      <td>0</td>\n",
       "      <td>0</td>\n",
       "      <td>0</td>\n",
       "      <td>0</td>\n",
       "      <td>...</td>\n",
       "      <td>659</td>\n",
       "      <td>673</td>\n",
       "      <td>673</td>\n",
       "      <td>696</td>\n",
       "      <td>704</td>\n",
       "      <td>713</td>\n",
       "      <td>717</td>\n",
       "      <td>717</td>\n",
       "      <td>723</td>\n",
       "      <td>723</td>\n",
       "    </tr>\n",
       "    <tr>\n",
       "      <th>4</th>\n",
       "      <td>Angola</td>\n",
       "      <td>0</td>\n",
       "      <td>0</td>\n",
       "      <td>0</td>\n",
       "      <td>0</td>\n",
       "      <td>0</td>\n",
       "      <td>0</td>\n",
       "      <td>0</td>\n",
       "      <td>0</td>\n",
       "      <td>0</td>\n",
       "      <td>...</td>\n",
       "      <td>19</td>\n",
       "      <td>19</td>\n",
       "      <td>19</td>\n",
       "      <td>19</td>\n",
       "      <td>24</td>\n",
       "      <td>24</td>\n",
       "      <td>24</td>\n",
       "      <td>24</td>\n",
       "      <td>25</td>\n",
       "      <td>25</td>\n",
       "    </tr>\n",
       "  </tbody>\n",
       "</table>\n",
       "<p>5 rows × 94 columns</p>\n",
       "</div>"
      ],
      "text/plain": [
       "  Country/Region  1/22/20  1/23/20  1/24/20  1/25/20  1/26/20  1/27/20  \\\n",
       "0    Afghanistan        0        0        0        0        0        0   \n",
       "1        Albania        0        0        0        0        0        0   \n",
       "2        Algeria        0        0        0        0        0        0   \n",
       "3        Andorra        0        0        0        0        0        0   \n",
       "4         Angola        0        0        0        0        0        0   \n",
       "\n",
       "   1/28/20  1/29/20  1/30/20  ...  4/14/20  4/15/20  4/16/20  4/17/20  \\\n",
       "0        0        0        0  ...      714      784      840      906   \n",
       "1        0        0        0  ...      475      494      518      539   \n",
       "2        0        0        0  ...     2070     2160     2268     2418   \n",
       "3        0        0        0  ...      659      673      673      696   \n",
       "4        0        0        0  ...       19       19       19       19   \n",
       "\n",
       "   4/18/20  4/19/20  4/20/20  4/21/20  4/22/20  4/23/20  \n",
       "0      933      996     1026     1092     1176     1279  \n",
       "1      548      562      584      609      634      663  \n",
       "2     2534     2629     2718     2811     2910     3007  \n",
       "3      704      713      717      717      723      723  \n",
       "4       24       24       24       24       25       25  \n",
       "\n",
       "[5 rows x 94 columns]"
      ]
     },
     "execution_count": 18,
     "metadata": {},
     "output_type": "execute_result"
    }
   ],
   "source": [
    "df.head()"
   ]
  },
  {
   "cell_type": "code",
   "execution_count": 19,
   "metadata": {
    "execution": {
     "iopub.execute_input": "2020-04-24T23:06:34.752743Z",
     "iopub.status.busy": "2020-04-24T23:06:34.752154Z",
     "iopub.status.idle": "2020-04-24T23:06:34.767894Z",
     "shell.execute_reply": "2020-04-24T23:06:34.767277Z"
    },
    "papermill": {
     "duration": 0.047349,
     "end_time": "2020-04-24T23:06:34.768042",
     "exception": false,
     "start_time": "2020-04-24T23:06:34.720693",
     "status": "completed"
    },
    "tags": []
   },
   "outputs": [],
   "source": [
    "df3 = df.T"
   ]
  },
  {
   "cell_type": "code",
   "execution_count": 20,
   "metadata": {
    "execution": {
     "iopub.execute_input": "2020-04-24T23:06:34.846975Z",
     "iopub.status.busy": "2020-04-24T23:06:34.846268Z",
     "iopub.status.idle": "2020-04-24T23:06:34.849471Z",
     "shell.execute_reply": "2020-04-24T23:06:34.850094Z"
    },
    "papermill": {
     "duration": 0.054931,
     "end_time": "2020-04-24T23:06:34.850253",
     "exception": false,
     "start_time": "2020-04-24T23:06:34.795322",
     "status": "completed"
    },
    "tags": []
   },
   "outputs": [
    {
     "data": {
      "text/html": [
       "<div>\n",
       "<style scoped>\n",
       "    .dataframe tbody tr th:only-of-type {\n",
       "        vertical-align: middle;\n",
       "    }\n",
       "\n",
       "    .dataframe tbody tr th {\n",
       "        vertical-align: top;\n",
       "    }\n",
       "\n",
       "    .dataframe thead th {\n",
       "        text-align: right;\n",
       "    }\n",
       "</style>\n",
       "<table border=\"1\" class=\"dataframe\">\n",
       "  <thead>\n",
       "    <tr style=\"text-align: right;\">\n",
       "      <th></th>\n",
       "      <th>0</th>\n",
       "      <th>1</th>\n",
       "      <th>2</th>\n",
       "      <th>3</th>\n",
       "      <th>4</th>\n",
       "      <th>5</th>\n",
       "      <th>6</th>\n",
       "      <th>7</th>\n",
       "      <th>8</th>\n",
       "      <th>9</th>\n",
       "      <th>...</th>\n",
       "      <th>175</th>\n",
       "      <th>176</th>\n",
       "      <th>177</th>\n",
       "      <th>178</th>\n",
       "      <th>179</th>\n",
       "      <th>180</th>\n",
       "      <th>181</th>\n",
       "      <th>182</th>\n",
       "      <th>183</th>\n",
       "      <th>184</th>\n",
       "    </tr>\n",
       "  </thead>\n",
       "  <tbody>\n",
       "    <tr>\n",
       "      <th>Country/Region</th>\n",
       "      <td>Afghanistan</td>\n",
       "      <td>Albania</td>\n",
       "      <td>Algeria</td>\n",
       "      <td>Andorra</td>\n",
       "      <td>Angola</td>\n",
       "      <td>Antigua and Barbuda</td>\n",
       "      <td>Argentina</td>\n",
       "      <td>Armenia</td>\n",
       "      <td>Australia</td>\n",
       "      <td>Austria</td>\n",
       "      <td>...</td>\n",
       "      <td>United Kingdom</td>\n",
       "      <td>Uruguay</td>\n",
       "      <td>Uzbekistan</td>\n",
       "      <td>Venezuela</td>\n",
       "      <td>Vietnam</td>\n",
       "      <td>West Bank and Gaza</td>\n",
       "      <td>Western Sahara</td>\n",
       "      <td>Yemen</td>\n",
       "      <td>Zambia</td>\n",
       "      <td>Zimbabwe</td>\n",
       "    </tr>\n",
       "    <tr>\n",
       "      <th>1/22/20</th>\n",
       "      <td>0</td>\n",
       "      <td>0</td>\n",
       "      <td>0</td>\n",
       "      <td>0</td>\n",
       "      <td>0</td>\n",
       "      <td>0</td>\n",
       "      <td>0</td>\n",
       "      <td>0</td>\n",
       "      <td>0</td>\n",
       "      <td>0</td>\n",
       "      <td>...</td>\n",
       "      <td>0</td>\n",
       "      <td>0</td>\n",
       "      <td>0</td>\n",
       "      <td>0</td>\n",
       "      <td>0</td>\n",
       "      <td>0</td>\n",
       "      <td>0</td>\n",
       "      <td>0</td>\n",
       "      <td>0</td>\n",
       "      <td>0</td>\n",
       "    </tr>\n",
       "    <tr>\n",
       "      <th>1/23/20</th>\n",
       "      <td>0</td>\n",
       "      <td>0</td>\n",
       "      <td>0</td>\n",
       "      <td>0</td>\n",
       "      <td>0</td>\n",
       "      <td>0</td>\n",
       "      <td>0</td>\n",
       "      <td>0</td>\n",
       "      <td>0</td>\n",
       "      <td>0</td>\n",
       "      <td>...</td>\n",
       "      <td>0</td>\n",
       "      <td>0</td>\n",
       "      <td>0</td>\n",
       "      <td>0</td>\n",
       "      <td>2</td>\n",
       "      <td>0</td>\n",
       "      <td>0</td>\n",
       "      <td>0</td>\n",
       "      <td>0</td>\n",
       "      <td>0</td>\n",
       "    </tr>\n",
       "    <tr>\n",
       "      <th>1/24/20</th>\n",
       "      <td>0</td>\n",
       "      <td>0</td>\n",
       "      <td>0</td>\n",
       "      <td>0</td>\n",
       "      <td>0</td>\n",
       "      <td>0</td>\n",
       "      <td>0</td>\n",
       "      <td>0</td>\n",
       "      <td>0</td>\n",
       "      <td>0</td>\n",
       "      <td>...</td>\n",
       "      <td>0</td>\n",
       "      <td>0</td>\n",
       "      <td>0</td>\n",
       "      <td>0</td>\n",
       "      <td>2</td>\n",
       "      <td>0</td>\n",
       "      <td>0</td>\n",
       "      <td>0</td>\n",
       "      <td>0</td>\n",
       "      <td>0</td>\n",
       "    </tr>\n",
       "    <tr>\n",
       "      <th>1/25/20</th>\n",
       "      <td>0</td>\n",
       "      <td>0</td>\n",
       "      <td>0</td>\n",
       "      <td>0</td>\n",
       "      <td>0</td>\n",
       "      <td>0</td>\n",
       "      <td>0</td>\n",
       "      <td>0</td>\n",
       "      <td>0</td>\n",
       "      <td>0</td>\n",
       "      <td>...</td>\n",
       "      <td>0</td>\n",
       "      <td>0</td>\n",
       "      <td>0</td>\n",
       "      <td>0</td>\n",
       "      <td>2</td>\n",
       "      <td>0</td>\n",
       "      <td>0</td>\n",
       "      <td>0</td>\n",
       "      <td>0</td>\n",
       "      <td>0</td>\n",
       "    </tr>\n",
       "  </tbody>\n",
       "</table>\n",
       "<p>5 rows × 185 columns</p>\n",
       "</div>"
      ],
      "text/plain": [
       "                        0        1        2        3       4    \\\n",
       "Country/Region  Afghanistan  Albania  Algeria  Andorra  Angola   \n",
       "1/22/20                   0        0        0        0       0   \n",
       "1/23/20                   0        0        0        0       0   \n",
       "1/24/20                   0        0        0        0       0   \n",
       "1/25/20                   0        0        0        0       0   \n",
       "\n",
       "                                5          6        7          8        9    \\\n",
       "Country/Region  Antigua and Barbuda  Argentina  Armenia  Australia  Austria   \n",
       "1/22/20                           0          0        0          0        0   \n",
       "1/23/20                           0          0        0          0        0   \n",
       "1/24/20                           0          0        0          0        0   \n",
       "1/25/20                           0          0        0          0        0   \n",
       "\n",
       "                ...             175      176         177        178      179  \\\n",
       "Country/Region  ...  United Kingdom  Uruguay  Uzbekistan  Venezuela  Vietnam   \n",
       "1/22/20         ...               0        0           0          0        0   \n",
       "1/23/20         ...               0        0           0          0        2   \n",
       "1/24/20         ...               0        0           0          0        2   \n",
       "1/25/20         ...               0        0           0          0        2   \n",
       "\n",
       "                               180             181    182     183       184  \n",
       "Country/Region  West Bank and Gaza  Western Sahara  Yemen  Zambia  Zimbabwe  \n",
       "1/22/20                          0               0      0       0         0  \n",
       "1/23/20                          0               0      0       0         0  \n",
       "1/24/20                          0               0      0       0         0  \n",
       "1/25/20                          0               0      0       0         0  \n",
       "\n",
       "[5 rows x 185 columns]"
      ]
     },
     "execution_count": 20,
     "metadata": {},
     "output_type": "execute_result"
    }
   ],
   "source": [
    "df3.head()"
   ]
  },
  {
   "cell_type": "code",
   "execution_count": 21,
   "metadata": {
    "execution": {
     "iopub.execute_input": "2020-04-24T23:06:34.915597Z",
     "iopub.status.busy": "2020-04-24T23:06:34.914965Z",
     "iopub.status.idle": "2020-04-24T23:06:34.924722Z",
     "shell.execute_reply": "2020-04-24T23:06:34.924122Z"
    },
    "papermill": {
     "duration": 0.048246,
     "end_time": "2020-04-24T23:06:34.924872",
     "exception": false,
     "start_time": "2020-04-24T23:06:34.876626",
     "status": "completed"
    },
    "tags": []
   },
   "outputs": [],
   "source": [
    "df2 = df.melt(id_vars=[\"Country/Region\"], \n",
    "        var_name=\"Date\",\n",
    "        value_name=\"cases\")\n",
    "df2 = df2.rename({'Country/Region': 'country'}, axis=1)"
   ]
  },
  {
   "cell_type": "code",
   "execution_count": null,
   "metadata": {
    "papermill": {
     "duration": 0.026418,
     "end_time": "2020-04-24T23:06:34.978377",
     "exception": false,
     "start_time": "2020-04-24T23:06:34.951959",
     "status": "completed"
    },
    "tags": []
   },
   "outputs": [],
   "source": []
  },
  {
   "cell_type": "code",
   "execution_count": 22,
   "metadata": {
    "execution": {
     "iopub.execute_input": "2020-04-24T23:06:35.039780Z",
     "iopub.status.busy": "2020-04-24T23:06:35.039193Z",
     "iopub.status.idle": "2020-04-24T23:06:35.051650Z",
     "shell.execute_reply": "2020-04-24T23:06:35.051023Z"
    },
    "papermill": {
     "duration": 0.04418,
     "end_time": "2020-04-24T23:06:35.051770",
     "exception": false,
     "start_time": "2020-04-24T23:06:35.007590",
     "status": "completed"
    },
    "tags": []
   },
   "outputs": [
    {
     "data": {
      "text/html": [
       "<div>\n",
       "<style scoped>\n",
       "    .dataframe tbody tr th:only-of-type {\n",
       "        vertical-align: middle;\n",
       "    }\n",
       "\n",
       "    .dataframe tbody tr th {\n",
       "        vertical-align: top;\n",
       "    }\n",
       "\n",
       "    .dataframe thead th {\n",
       "        text-align: right;\n",
       "    }\n",
       "</style>\n",
       "<table border=\"1\" class=\"dataframe\">\n",
       "  <thead>\n",
       "    <tr style=\"text-align: right;\">\n",
       "      <th></th>\n",
       "      <th>country</th>\n",
       "      <th>Date</th>\n",
       "      <th>cases</th>\n",
       "    </tr>\n",
       "  </thead>\n",
       "  <tbody>\n",
       "    <tr>\n",
       "      <th>36</th>\n",
       "      <td>China</td>\n",
       "      <td>1/22/20</td>\n",
       "      <td>548</td>\n",
       "    </tr>\n",
       "    <tr>\n",
       "      <th>221</th>\n",
       "      <td>China</td>\n",
       "      <td>1/23/20</td>\n",
       "      <td>643</td>\n",
       "    </tr>\n",
       "    <tr>\n",
       "      <th>406</th>\n",
       "      <td>China</td>\n",
       "      <td>1/24/20</td>\n",
       "      <td>920</td>\n",
       "    </tr>\n",
       "    <tr>\n",
       "      <th>591</th>\n",
       "      <td>China</td>\n",
       "      <td>1/25/20</td>\n",
       "      <td>1406</td>\n",
       "    </tr>\n",
       "    <tr>\n",
       "      <th>776</th>\n",
       "      <td>China</td>\n",
       "      <td>1/26/20</td>\n",
       "      <td>2075</td>\n",
       "    </tr>\n",
       "    <tr>\n",
       "      <th>...</th>\n",
       "      <td>...</td>\n",
       "      <td>...</td>\n",
       "      <td>...</td>\n",
       "    </tr>\n",
       "    <tr>\n",
       "      <th>16316</th>\n",
       "      <td>China</td>\n",
       "      <td>4/19/20</td>\n",
       "      <td>83805</td>\n",
       "    </tr>\n",
       "    <tr>\n",
       "      <th>16501</th>\n",
       "      <td>China</td>\n",
       "      <td>4/20/20</td>\n",
       "      <td>83817</td>\n",
       "    </tr>\n",
       "    <tr>\n",
       "      <th>16686</th>\n",
       "      <td>China</td>\n",
       "      <td>4/21/20</td>\n",
       "      <td>83853</td>\n",
       "    </tr>\n",
       "    <tr>\n",
       "      <th>16871</th>\n",
       "      <td>China</td>\n",
       "      <td>4/22/20</td>\n",
       "      <td>83868</td>\n",
       "    </tr>\n",
       "    <tr>\n",
       "      <th>17056</th>\n",
       "      <td>China</td>\n",
       "      <td>4/23/20</td>\n",
       "      <td>83884</td>\n",
       "    </tr>\n",
       "  </tbody>\n",
       "</table>\n",
       "<p>93 rows × 3 columns</p>\n",
       "</div>"
      ],
      "text/plain": [
       "      country     Date  cases\n",
       "36      China  1/22/20    548\n",
       "221     China  1/23/20    643\n",
       "406     China  1/24/20    920\n",
       "591     China  1/25/20   1406\n",
       "776     China  1/26/20   2075\n",
       "...       ...      ...    ...\n",
       "16316   China  4/19/20  83805\n",
       "16501   China  4/20/20  83817\n",
       "16686   China  4/21/20  83853\n",
       "16871   China  4/22/20  83868\n",
       "17056   China  4/23/20  83884\n",
       "\n",
       "[93 rows x 3 columns]"
      ]
     },
     "execution_count": 22,
     "metadata": {},
     "output_type": "execute_result"
    }
   ],
   "source": [
    "df2[df2.country==\"China\"]"
   ]
  },
  {
   "cell_type": "code",
   "execution_count": 23,
   "metadata": {
    "execution": {
     "iopub.execute_input": "2020-04-24T23:06:35.113716Z",
     "iopub.status.busy": "2020-04-24T23:06:35.113049Z",
     "iopub.status.idle": "2020-04-24T23:06:35.186772Z",
     "shell.execute_reply": "2020-04-24T23:06:35.186188Z"
    },
    "papermill": {
     "duration": 0.107432,
     "end_time": "2020-04-24T23:06:35.186897",
     "exception": false,
     "start_time": "2020-04-24T23:06:35.079465",
     "status": "completed"
    },
    "tags": []
   },
   "outputs": [],
   "source": [
    "import pandas as pd\n",
    "url=\"https://github.com/CSSEGISandData/COVID-19/raw/master/csse_covid_19_data/csse_covid_19_time_series/time_series_covid19_confirmed_global.csv\"\n",
    "df = pd.read_csv(url)"
   ]
  },
  {
   "cell_type": "code",
   "execution_count": 24,
   "metadata": {
    "execution": {
     "iopub.execute_input": "2020-04-24T23:06:35.248721Z",
     "iopub.status.busy": "2020-04-24T23:06:35.248002Z",
     "iopub.status.idle": "2020-04-24T23:06:35.250451Z",
     "shell.execute_reply": "2020-04-24T23:06:35.249896Z"
    },
    "papermill": {
     "duration": 0.035405,
     "end_time": "2020-04-24T23:06:35.250563",
     "exception": false,
     "start_time": "2020-04-24T23:06:35.215158",
     "status": "completed"
    },
    "tags": []
   },
   "outputs": [],
   "source": [
    "#df = df.drop(['Lat', 'Long'], axis=1)\n",
    "ncountries = df['Country/Region'].unique().tolist()"
   ]
  },
  {
   "cell_type": "code",
   "execution_count": 25,
   "metadata": {
    "execution": {
     "iopub.execute_input": "2020-04-24T23:06:35.353496Z",
     "iopub.status.busy": "2020-04-24T23:06:35.344257Z",
     "iopub.status.idle": "2020-04-24T23:06:40.125782Z",
     "shell.execute_reply": "2020-04-24T23:06:40.130432Z"
    },
    "papermill": {
     "duration": 4.851515,
     "end_time": "2020-04-24T23:06:40.130570",
     "exception": false,
     "start_time": "2020-04-24T23:06:35.279055",
     "status": "completed"
    },
    "tags": []
   },
   "outputs": [],
   "source": [
    "dfb = pd.DataFrame()\n",
    "for i, country in enumerate(ncountries):\n",
    "    dfc = df[df['Country/Region'] == country].copy()\n",
    "    if len(dfc) > 1:\n",
    "        dfc = dfc.drop(['Province/State', 'Lat', 'Long'], axis=1).groupby('Country/Region').sum().reset_index()\n",
    "    else:\n",
    "        dfc = dfc.drop(['Province/State', 'Lat', 'Long'], axis=1)\n",
    "    dfc = dfc.rename({'Country/Region': 'country', 'Date': 'date'}, axis=1)\n",
    "    dfc = dfc.T\n",
    "    #dfc['date'] = pd.to_datetime(dfc['date'])\n",
    "    dfb = dfb.append(dfc)"
   ]
  },
  {
   "cell_type": "code",
   "execution_count": 26,
   "metadata": {
    "execution": {
     "iopub.execute_input": "2020-04-24T23:06:40.191076Z",
     "iopub.status.busy": "2020-04-24T23:06:40.190486Z",
     "iopub.status.idle": "2020-04-24T23:06:40.198326Z",
     "shell.execute_reply": "2020-04-24T23:06:40.197756Z"
    },
    "papermill": {
     "duration": 0.041738,
     "end_time": "2020-04-24T23:06:40.198423",
     "exception": false,
     "start_time": "2020-04-24T23:06:40.156685",
     "status": "completed"
    },
    "tags": []
   },
   "outputs": [],
   "source": [
    "dfc = df[df['Country/Region'] == \"China\"].copy()\n",
    "if len(dfc) > 1:\n",
    "    dfc = dfc.drop(['Province/State', 'Lat', 'Long'], axis=1).groupby('Country/Region').sum().reset_index()\n",
    "else:\n",
    "    dfc = dfc.drop(['Province/State', 'Lat', 'Long'], axis=1)\n",
    "dfc = dfc.rename({'Country/Region': 'country', 'Date': 'date'}, axis=1)\n",
    "dfc = dfc.T"
   ]
  },
  {
   "cell_type": "code",
   "execution_count": 27,
   "metadata": {
    "execution": {
     "iopub.execute_input": "2020-04-24T23:06:40.254450Z",
     "iopub.status.busy": "2020-04-24T23:06:40.253835Z",
     "iopub.status.idle": "2020-04-24T23:06:40.256236Z",
     "shell.execute_reply": "2020-04-24T23:06:40.256783Z"
    },
    "papermill": {
     "duration": 0.033013,
     "end_time": "2020-04-24T23:06:40.256913",
     "exception": false,
     "start_time": "2020-04-24T23:06:40.223900",
     "status": "completed"
    },
    "tags": []
   },
   "outputs": [
    {
     "data": {
      "text/html": [
       "<div>\n",
       "<style scoped>\n",
       "    .dataframe tbody tr th:only-of-type {\n",
       "        vertical-align: middle;\n",
       "    }\n",
       "\n",
       "    .dataframe tbody tr th {\n",
       "        vertical-align: top;\n",
       "    }\n",
       "\n",
       "    .dataframe thead th {\n",
       "        text-align: right;\n",
       "    }\n",
       "</style>\n",
       "<table border=\"1\" class=\"dataframe\">\n",
       "  <thead>\n",
       "    <tr style=\"text-align: right;\">\n",
       "      <th></th>\n",
       "      <th>0</th>\n",
       "    </tr>\n",
       "  </thead>\n",
       "  <tbody>\n",
       "    <tr>\n",
       "      <th>country</th>\n",
       "      <td>China</td>\n",
       "    </tr>\n",
       "    <tr>\n",
       "      <th>1/22/20</th>\n",
       "      <td>548</td>\n",
       "    </tr>\n",
       "    <tr>\n",
       "      <th>1/23/20</th>\n",
       "      <td>643</td>\n",
       "    </tr>\n",
       "    <tr>\n",
       "      <th>1/24/20</th>\n",
       "      <td>920</td>\n",
       "    </tr>\n",
       "    <tr>\n",
       "      <th>1/25/20</th>\n",
       "      <td>1406</td>\n",
       "    </tr>\n",
       "  </tbody>\n",
       "</table>\n",
       "</div>"
      ],
      "text/plain": [
       "             0\n",
       "country  China\n",
       "1/22/20    548\n",
       "1/23/20    643\n",
       "1/24/20    920\n",
       "1/25/20   1406"
      ]
     },
     "execution_count": 27,
     "metadata": {},
     "output_type": "execute_result"
    }
   ],
   "source": [
    "dfc.head()"
   ]
  },
  {
   "cell_type": "code",
   "execution_count": null,
   "metadata": {
    "papermill": {
     "duration": 0.024536,
     "end_time": "2020-04-24T23:06:40.305648",
     "exception": false,
     "start_time": "2020-04-24T23:06:40.281112",
     "status": "completed"
    },
    "tags": []
   },
   "outputs": [],
   "source": []
  }
 ],
 "metadata": {
  "kernelspec": {
   "display_name": "Python 3",
   "language": "python",
   "name": "python3"
  },
  "language_info": {
   "codemirror_mode": {
    "name": "ipython",
    "version": 3
   },
   "file_extension": ".py",
   "mimetype": "text/x-python",
   "name": "python",
   "nbconvert_exporter": "python",
   "pygments_lexer": "ipython3",
   "version": "3.6.10"
  },
  "papermill": {
   "duration": 13.057051,
   "end_time": "2020-04-24T23:06:40.436419",
   "environment_variables": {},
   "exception": null,
   "input_path": "covid_tracking.ipynb",
   "output_path": "covid_tracking.ipynb",
   "parameters": {},
   "start_time": "2020-04-24T23:06:27.379368",
   "version": "2.1.0"
  }
 },
 "nbformat": 4,
 "nbformat_minor": 4
}