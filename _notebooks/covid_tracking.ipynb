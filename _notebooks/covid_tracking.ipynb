{
 "cells": [
  {
   "cell_type": "markdown",
   "metadata": {
    "papermill": {
     "duration": 0.020718,
     "end_time": "2020-04-21T23:04:45.232712",
     "exception": false,
     "start_time": "2020-04-21T23:04:45.211994",
     "status": "completed"
    },
    "tags": []
   },
   "source": [
    "# \"Covid Tracking Starter Test\"\n",
    "> \"Notebook to get started\"\n",
    "\n",
    "- toc: true\n",
    "- branch: master\n",
    "- badges: true\n",
    "- comments: true\n",
    "- author: Ashutosh Sanzgiri\n",
    "- categories: [covid]"
   ]
  },
  {
   "cell_type": "code",
   "execution_count": 1,
   "metadata": {
    "execution": {
     "iopub.execute_input": "2020-04-21T23:04:45.270420Z",
     "iopub.status.busy": "2020-04-21T23:04:45.269345Z",
     "iopub.status.idle": "2020-04-21T23:04:46.000605Z",
     "shell.execute_reply": "2020-04-21T23:04:45.999647Z"
    },
    "papermill": {
     "duration": 0.752403,
     "end_time": "2020-04-21T23:04:46.000821",
     "exception": false,
     "start_time": "2020-04-21T23:04:45.248418",
     "status": "completed"
    },
    "tags": []
   },
   "outputs": [],
   "source": [
    "#hide\n",
    "import pandas as pd\n",
    "import seaborn as sns\n",
    "import matplotlib.pyplot as plt"
   ]
  },
  {
   "cell_type": "code",
   "execution_count": 2,
   "metadata": {
    "execution": {
     "iopub.execute_input": "2020-04-21T23:04:46.047346Z",
     "iopub.status.busy": "2020-04-21T23:04:46.046816Z",
     "iopub.status.idle": "2020-04-21T23:04:46.609233Z",
     "shell.execute_reply": "2020-04-21T23:04:46.608235Z"
    },
    "papermill": {
     "duration": 0.590072,
     "end_time": "2020-04-21T23:04:46.609421",
     "exception": false,
     "start_time": "2020-04-21T23:04:46.019349",
     "status": "completed"
    },
    "tags": []
   },
   "outputs": [],
   "source": [
    "#hide\n",
    "df = pd.read_csv('http://covidtracking.com/api/states/daily.csv')\n",
    "states = df.state.unique()\n",
    "\n",
    "dfk = pd.DataFrame()\n",
    "for s in states:\n",
    "    dfs = df[df.state==s].copy()\n",
    "    dfs['tested'] = dfs['positive'] + dfs['negative']\n",
    "    dfs['daily_positive_increase'] = dfs['positive'].diff(periods=-1)\n",
    "    dfs['daily_death_increase'] = dfs['death'].diff(periods=-1)\n",
    "    dfs['daily_tested_increase'] = dfs['tested'].diff(periods=-1)\n",
    "    dfk = dfk.append(dfs)\n",
    "    \n",
    "dfk = dfk.fillna(0)\n",
    "df_la = dfk[dfk.state==\"LA\"]"
   ]
  },
  {
   "cell_type": "code",
   "execution_count": 3,
   "metadata": {
    "execution": {
     "iopub.execute_input": "2020-04-21T23:04:46.666174Z",
     "iopub.status.busy": "2020-04-21T23:04:46.664590Z",
     "iopub.status.idle": "2020-04-21T23:04:46.681494Z",
     "shell.execute_reply": "2020-04-21T23:04:46.681960Z"
    },
    "papermill": {
     "duration": 0.053245,
     "end_time": "2020-04-21T23:04:46.682090",
     "exception": false,
     "start_time": "2020-04-21T23:04:46.628845",
     "status": "completed"
    },
    "tags": []
   },
   "outputs": [
    {
     "data": {
      "text/html": [
       "<div>\n",
       "<style scoped>\n",
       "    .dataframe tbody tr th:only-of-type {\n",
       "        vertical-align: middle;\n",
       "    }\n",
       "\n",
       "    .dataframe tbody tr th {\n",
       "        vertical-align: top;\n",
       "    }\n",
       "\n",
       "    .dataframe thead th {\n",
       "        text-align: right;\n",
       "    }\n",
       "</style>\n",
       "<table border=\"1\" class=\"dataframe\">\n",
       "  <thead>\n",
       "    <tr style=\"text-align: right;\">\n",
       "      <th></th>\n",
       "      <th>date</th>\n",
       "      <th>state</th>\n",
       "      <th>positive</th>\n",
       "      <th>negative</th>\n",
       "      <th>pending</th>\n",
       "      <th>hospitalizedCurrently</th>\n",
       "      <th>hospitalizedCumulative</th>\n",
       "      <th>inIcuCurrently</th>\n",
       "      <th>inIcuCumulative</th>\n",
       "      <th>onVentilatorCurrently</th>\n",
       "      <th>...</th>\n",
       "      <th>fips</th>\n",
       "      <th>deathIncrease</th>\n",
       "      <th>hospitalizedIncrease</th>\n",
       "      <th>negativeIncrease</th>\n",
       "      <th>positiveIncrease</th>\n",
       "      <th>totalTestResultsIncrease</th>\n",
       "      <th>tested</th>\n",
       "      <th>daily_positive_increase</th>\n",
       "      <th>daily_death_increase</th>\n",
       "      <th>daily_tested_increase</th>\n",
       "    </tr>\n",
       "  </thead>\n",
       "  <tbody>\n",
       "    <tr>\n",
       "      <th>20</th>\n",
       "      <td>20200421</td>\n",
       "      <td>LA</td>\n",
       "      <td>24854.0</td>\n",
       "      <td>117576.0</td>\n",
       "      <td>0.0</td>\n",
       "      <td>1798.0</td>\n",
       "      <td>0.0</td>\n",
       "      <td>0.0</td>\n",
       "      <td>0.0</td>\n",
       "      <td>297.0</td>\n",
       "      <td>...</td>\n",
       "      <td>22</td>\n",
       "      <td>77.0</td>\n",
       "      <td>0.0</td>\n",
       "      <td>0.0</td>\n",
       "      <td>331.0</td>\n",
       "      <td>331.0</td>\n",
       "      <td>142430.0</td>\n",
       "      <td>331.0</td>\n",
       "      <td>77.0</td>\n",
       "      <td>331.0</td>\n",
       "    </tr>\n",
       "    <tr>\n",
       "      <th>76</th>\n",
       "      <td>20200420</td>\n",
       "      <td>LA</td>\n",
       "      <td>24523.0</td>\n",
       "      <td>117576.0</td>\n",
       "      <td>0.0</td>\n",
       "      <td>1794.0</td>\n",
       "      <td>0.0</td>\n",
       "      <td>0.0</td>\n",
       "      <td>0.0</td>\n",
       "      <td>332.0</td>\n",
       "      <td>...</td>\n",
       "      <td>22</td>\n",
       "      <td>32.0</td>\n",
       "      <td>0.0</td>\n",
       "      <td>0.0</td>\n",
       "      <td>595.0</td>\n",
       "      <td>595.0</td>\n",
       "      <td>142099.0</td>\n",
       "      <td>595.0</td>\n",
       "      <td>32.0</td>\n",
       "      <td>595.0</td>\n",
       "    </tr>\n",
       "    <tr>\n",
       "      <th>132</th>\n",
       "      <td>20200419</td>\n",
       "      <td>LA</td>\n",
       "      <td>23928.0</td>\n",
       "      <td>117576.0</td>\n",
       "      <td>0.0</td>\n",
       "      <td>1748.0</td>\n",
       "      <td>0.0</td>\n",
       "      <td>0.0</td>\n",
       "      <td>0.0</td>\n",
       "      <td>349.0</td>\n",
       "      <td>...</td>\n",
       "      <td>22</td>\n",
       "      <td>29.0</td>\n",
       "      <td>0.0</td>\n",
       "      <td>3157.0</td>\n",
       "      <td>348.0</td>\n",
       "      <td>3505.0</td>\n",
       "      <td>141504.0</td>\n",
       "      <td>348.0</td>\n",
       "      <td>29.0</td>\n",
       "      <td>3505.0</td>\n",
       "    </tr>\n",
       "    <tr>\n",
       "      <th>188</th>\n",
       "      <td>20200418</td>\n",
       "      <td>LA</td>\n",
       "      <td>23580.0</td>\n",
       "      <td>114419.0</td>\n",
       "      <td>0.0</td>\n",
       "      <td>1761.0</td>\n",
       "      <td>0.0</td>\n",
       "      <td>0.0</td>\n",
       "      <td>0.0</td>\n",
       "      <td>347.0</td>\n",
       "      <td>...</td>\n",
       "      <td>22</td>\n",
       "      <td>54.0</td>\n",
       "      <td>0.0</td>\n",
       "      <td>5550.0</td>\n",
       "      <td>462.0</td>\n",
       "      <td>6012.0</td>\n",
       "      <td>137999.0</td>\n",
       "      <td>462.0</td>\n",
       "      <td>54.0</td>\n",
       "      <td>6012.0</td>\n",
       "    </tr>\n",
       "    <tr>\n",
       "      <th>244</th>\n",
       "      <td>20200417</td>\n",
       "      <td>LA</td>\n",
       "      <td>23118.0</td>\n",
       "      <td>108869.0</td>\n",
       "      <td>0.0</td>\n",
       "      <td>1868.0</td>\n",
       "      <td>0.0</td>\n",
       "      <td>0.0</td>\n",
       "      <td>0.0</td>\n",
       "      <td>363.0</td>\n",
       "      <td>...</td>\n",
       "      <td>22</td>\n",
       "      <td>57.0</td>\n",
       "      <td>0.0</td>\n",
       "      <td>4815.0</td>\n",
       "      <td>586.0</td>\n",
       "      <td>5401.0</td>\n",
       "      <td>131987.0</td>\n",
       "      <td>586.0</td>\n",
       "      <td>57.0</td>\n",
       "      <td>5401.0</td>\n",
       "    </tr>\n",
       "  </tbody>\n",
       "</table>\n",
       "<p>5 rows × 29 columns</p>\n",
       "</div>"
      ],
      "text/plain": [
       "         date state  positive  negative  pending  hospitalizedCurrently  \\\n",
       "20   20200421    LA   24854.0  117576.0      0.0                 1798.0   \n",
       "76   20200420    LA   24523.0  117576.0      0.0                 1794.0   \n",
       "132  20200419    LA   23928.0  117576.0      0.0                 1748.0   \n",
       "188  20200418    LA   23580.0  114419.0      0.0                 1761.0   \n",
       "244  20200417    LA   23118.0  108869.0      0.0                 1868.0   \n",
       "\n",
       "     hospitalizedCumulative  inIcuCurrently  inIcuCumulative  \\\n",
       "20                      0.0             0.0              0.0   \n",
       "76                      0.0             0.0              0.0   \n",
       "132                     0.0             0.0              0.0   \n",
       "188                     0.0             0.0              0.0   \n",
       "244                     0.0             0.0              0.0   \n",
       "\n",
       "     onVentilatorCurrently  ...  fips  deathIncrease hospitalizedIncrease  \\\n",
       "20                   297.0  ...    22           77.0                  0.0   \n",
       "76                   332.0  ...    22           32.0                  0.0   \n",
       "132                  349.0  ...    22           29.0                  0.0   \n",
       "188                  347.0  ...    22           54.0                  0.0   \n",
       "244                  363.0  ...    22           57.0                  0.0   \n",
       "\n",
       "    negativeIncrease  positiveIncrease  totalTestResultsIncrease    tested  \\\n",
       "20               0.0             331.0                     331.0  142430.0   \n",
       "76               0.0             595.0                     595.0  142099.0   \n",
       "132           3157.0             348.0                    3505.0  141504.0   \n",
       "188           5550.0             462.0                    6012.0  137999.0   \n",
       "244           4815.0             586.0                    5401.0  131987.0   \n",
       "\n",
       "     daily_positive_increase  daily_death_increase  daily_tested_increase  \n",
       "20                     331.0                  77.0                  331.0  \n",
       "76                     595.0                  32.0                  595.0  \n",
       "132                    348.0                  29.0                 3505.0  \n",
       "188                    462.0                  54.0                 6012.0  \n",
       "244                    586.0                  57.0                 5401.0  \n",
       "\n",
       "[5 rows x 29 columns]"
      ]
     },
     "execution_count": 3,
     "metadata": {},
     "output_type": "execute_result"
    }
   ],
   "source": [
    "#hide_input\n",
    "df_la.head()"
   ]
  },
  {
   "cell_type": "code",
   "execution_count": 4,
   "metadata": {
    "execution": {
     "iopub.execute_input": "2020-04-21T23:04:46.737425Z",
     "iopub.status.busy": "2020-04-21T23:04:46.736860Z",
     "iopub.status.idle": "2020-04-21T23:04:47.511387Z",
     "shell.execute_reply": "2020-04-21T23:04:47.511839Z"
    },
    "papermill": {
     "duration": 0.811664,
     "end_time": "2020-04-21T23:04:47.511976",
     "exception": false,
     "start_time": "2020-04-21T23:04:46.700312",
     "status": "completed"
    },
    "tags": []
   },
   "outputs": [
    {
     "data": {
      "image/png": "[encoded data removed]",
      "text/plain": [
       "<Figure size 842.4x595.44 with 1 Axes>"
      ]
     },
     "metadata": {},
     "output_type": "display_data"
    }
   ],
   "source": [
    "#hide_input\n",
    "sns.set(rc={'figure.figsize':(11.7,8.27)})\n",
    "ax = sns.barplot(x='date', y= 'daily_positive_increase', data=df_la)\n",
    "ax.set_xticklabels(ax.get_xticklabels(), rotation=40, ha=\"right\")\n",
    "plt.tight_layout()\n",
    "plt.show()"
   ]
  },
  {
   "cell_type": "code",
   "execution_count": 5,
   "metadata": {
    "execution": {
     "iopub.execute_input": "2020-04-21T23:04:47.557312Z",
     "iopub.status.busy": "2020-04-21T23:04:47.556846Z",
     "iopub.status.idle": "2020-04-21T23:04:47.561977Z",
     "shell.execute_reply": "2020-04-21T23:04:47.561493Z"
    },
    "papermill": {
     "duration": 0.02911,
     "end_time": "2020-04-21T23:04:47.562069",
     "exception": false,
     "start_time": "2020-04-21T23:04:47.532959",
     "status": "completed"
    },
    "tags": []
   },
   "outputs": [
    {
     "data": {
      "text/plain": [
       "date                                                        20200421\n",
       "state                                                             OR\n",
       "positive                                                        2002\n",
       "negative                                                       39126\n",
       "pending                                                            0\n",
       "hospitalizedCurrently                                            297\n",
       "hospitalizedCumulative                                           471\n",
       "inIcuCurrently                                                    70\n",
       "inIcuCumulative                                                    0\n",
       "onVentilatorCurrently                                             35\n",
       "onVentilatorCumulative                                             0\n",
       "recovered                                                          0\n",
       "hash                        3c4c05e8c1f3e79f04d3b608620a1c840fc57480\n",
       "dateChecked                                     2020-04-21T20:00:00Z\n",
       "death                                                             78\n",
       "hospitalized                                                     471\n",
       "total                                                          41128\n",
       "totalTestResults                                               41128\n",
       "posNeg                                                         41128\n",
       "fips                                                              41\n",
       "deathIncrease                                                      3\n",
       "hospitalizedIncrease                                               6\n",
       "negativeIncrease                                                1037\n",
       "positiveIncrease                                                  46\n",
       "totalTestResultsIncrease                                        1083\n",
       "tested                                                         41128\n",
       "daily_positive_increase                                           46\n",
       "daily_death_increase                                               3\n",
       "daily_tested_increase                                           1083\n",
       "Name: 40, dtype: object"
      ]
     },
     "execution_count": 5,
     "metadata": {},
     "output_type": "execute_result"
    }
   ],
   "source": [
    "#hide\n",
    "dfk[dfk.state==\"OR\"].iloc[0]"
   ]
  },
  {
   "cell_type": "code",
   "execution_count": 6,
   "metadata": {
    "execution": {
     "iopub.execute_input": "2020-04-21T23:04:47.603799Z",
     "iopub.status.busy": "2020-04-21T23:04:47.603367Z",
     "iopub.status.idle": "2020-04-21T23:04:47.768119Z",
     "shell.execute_reply": "2020-04-21T23:04:47.767545Z"
    },
    "papermill": {
     "duration": 0.188728,
     "end_time": "2020-04-21T23:04:47.768249",
     "exception": false,
     "start_time": "2020-04-21T23:04:47.579521",
     "status": "completed"
    },
    "tags": []
   },
   "outputs": [],
   "source": [
    "#collapse-hide\n",
    "import pandas as pd\n",
    "import datetime\n",
    "base_url=\"https://raw.githubusercontent.com/CSSEGISandData/COVID-19/master/csse_covid_19_data/csse_covid_19_daily_reports/\"\n",
    "yesterday = f\"{datetime.datetime.now() - datetime.timedelta(days=1):%m-%d-%Y}\"\n",
    "full_url = f\"{base_url}{yesterday}.csv\"\n",
    "df = pd.read_csv(full_url)"
   ]
  },
  {
   "cell_type": "code",
   "execution_count": 7,
   "metadata": {
    "execution": {
     "iopub.execute_input": "2020-04-21T23:04:47.823620Z",
     "iopub.status.busy": "2020-04-21T23:04:47.823070Z",
     "iopub.status.idle": "2020-04-21T23:04:47.828037Z",
     "shell.execute_reply": "2020-04-21T23:04:47.827578Z"
    },
    "papermill": {
     "duration": 0.038065,
     "end_time": "2020-04-21T23:04:47.828130",
     "exception": false,
     "start_time": "2020-04-21T23:04:47.790065",
     "status": "completed"
    },
    "tags": []
   },
   "outputs": [
    {
     "data": {
      "text/html": [
       "<div>\n",
       "<style scoped>\n",
       "    .dataframe tbody tr th:only-of-type {\n",
       "        vertical-align: middle;\n",
       "    }\n",
       "\n",
       "    .dataframe tbody tr th {\n",
       "        vertical-align: top;\n",
       "    }\n",
       "\n",
       "    .dataframe thead th {\n",
       "        text-align: right;\n",
       "    }\n",
       "</style>\n",
       "<table border=\"1\" class=\"dataframe\">\n",
       "  <thead>\n",
       "    <tr style=\"text-align: right;\">\n",
       "      <th></th>\n",
       "      <th>FIPS</th>\n",
       "      <th>Admin2</th>\n",
       "      <th>Province_State</th>\n",
       "      <th>Country_Region</th>\n",
       "      <th>Last_Update</th>\n",
       "      <th>Lat</th>\n",
       "      <th>Long_</th>\n",
       "      <th>Confirmed</th>\n",
       "      <th>Deaths</th>\n",
       "      <th>Recovered</th>\n",
       "      <th>Active</th>\n",
       "      <th>Combined_Key</th>\n",
       "    </tr>\n",
       "  </thead>\n",
       "  <tbody>\n",
       "    <tr>\n",
       "      <th>0</th>\n",
       "      <td>45001.0</td>\n",
       "      <td>Abbeville</td>\n",
       "      <td>South Carolina</td>\n",
       "      <td>US</td>\n",
       "      <td>2020-04-20 23:36:47</td>\n",
       "      <td>34.223334</td>\n",
       "      <td>-82.461707</td>\n",
       "      <td>17</td>\n",
       "      <td>0</td>\n",
       "      <td>0</td>\n",
       "      <td>17</td>\n",
       "      <td>Abbeville, South Carolina, US</td>\n",
       "    </tr>\n",
       "    <tr>\n",
       "      <th>1</th>\n",
       "      <td>22001.0</td>\n",
       "      <td>Acadia</td>\n",
       "      <td>Louisiana</td>\n",
       "      <td>US</td>\n",
       "      <td>2020-04-20 23:36:47</td>\n",
       "      <td>30.295065</td>\n",
       "      <td>-92.414197</td>\n",
       "      <td>114</td>\n",
       "      <td>7</td>\n",
       "      <td>0</td>\n",
       "      <td>107</td>\n",
       "      <td>Acadia, Louisiana, US</td>\n",
       "    </tr>\n",
       "    <tr>\n",
       "      <th>2</th>\n",
       "      <td>51001.0</td>\n",
       "      <td>Accomack</td>\n",
       "      <td>Virginia</td>\n",
       "      <td>US</td>\n",
       "      <td>2020-04-20 23:36:47</td>\n",
       "      <td>37.767072</td>\n",
       "      <td>-75.632346</td>\n",
       "      <td>52</td>\n",
       "      <td>0</td>\n",
       "      <td>0</td>\n",
       "      <td>52</td>\n",
       "      <td>Accomack, Virginia, US</td>\n",
       "    </tr>\n",
       "    <tr>\n",
       "      <th>3</th>\n",
       "      <td>16001.0</td>\n",
       "      <td>Ada</td>\n",
       "      <td>Idaho</td>\n",
       "      <td>US</td>\n",
       "      <td>2020-04-20 23:36:47</td>\n",
       "      <td>43.452658</td>\n",
       "      <td>-116.241552</td>\n",
       "      <td>598</td>\n",
       "      <td>10</td>\n",
       "      <td>0</td>\n",
       "      <td>588</td>\n",
       "      <td>Ada, Idaho, US</td>\n",
       "    </tr>\n",
       "    <tr>\n",
       "      <th>4</th>\n",
       "      <td>19001.0</td>\n",
       "      <td>Adair</td>\n",
       "      <td>Iowa</td>\n",
       "      <td>US</td>\n",
       "      <td>2020-04-20 23:36:47</td>\n",
       "      <td>41.330756</td>\n",
       "      <td>-94.471059</td>\n",
       "      <td>1</td>\n",
       "      <td>0</td>\n",
       "      <td>0</td>\n",
       "      <td>1</td>\n",
       "      <td>Adair, Iowa, US</td>\n",
       "    </tr>\n",
       "  </tbody>\n",
       "</table>\n",
       "</div>"
      ],
      "text/plain": [
       "      FIPS     Admin2  Province_State Country_Region          Last_Update  \\\n",
       "0  45001.0  Abbeville  South Carolina             US  2020-04-20 23:36:47   \n",
       "1  22001.0     Acadia       Louisiana             US  2020-04-20 23:36:47   \n",
       "2  51001.0   Accomack        Virginia             US  2020-04-20 23:36:47   \n",
       "3  16001.0        Ada           Idaho             US  2020-04-20 23:36:47   \n",
       "4  19001.0      Adair            Iowa             US  2020-04-20 23:36:47   \n",
       "\n",
       "         Lat       Long_  Confirmed  Deaths  Recovered  Active  \\\n",
       "0  34.223334  -82.461707         17       0          0      17   \n",
       "1  30.295065  -92.414197        114       7          0     107   \n",
       "2  37.767072  -75.632346         52       0          0      52   \n",
       "3  43.452658 -116.241552        598      10          0     588   \n",
       "4  41.330756  -94.471059          1       0          0       1   \n",
       "\n",
       "                    Combined_Key  \n",
       "0  Abbeville, South Carolina, US  \n",
       "1          Acadia, Louisiana, US  \n",
       "2         Accomack, Virginia, US  \n",
       "3                 Ada, Idaho, US  \n",
       "4                Adair, Iowa, US  "
      ]
     },
     "execution_count": 7,
     "metadata": {},
     "output_type": "execute_result"
    }
   ],
   "source": [
    "#hide_input\n",
    "df.head()"
   ]
  },
  {
   "cell_type": "code",
   "execution_count": 8,
   "metadata": {
    "execution": {
     "iopub.execute_input": "2020-04-21T23:04:47.871599Z",
     "iopub.status.busy": "2020-04-21T23:04:47.871041Z",
     "iopub.status.idle": "2020-04-21T23:04:47.874374Z",
     "shell.execute_reply": "2020-04-21T23:04:47.873916Z"
    },
    "papermill": {
     "duration": 0.02739,
     "end_time": "2020-04-21T23:04:47.874468",
     "exception": false,
     "start_time": "2020-04-21T23:04:47.847078",
     "status": "completed"
    },
    "tags": []
   },
   "outputs": [
    {
     "data": {
      "text/plain": [
       "1957"
      ]
     },
     "execution_count": 8,
     "metadata": {},
     "output_type": "execute_result"
    }
   ],
   "source": [
    "df[df.Province_State==\"Oregon\"]['Confirmed'].sum()"
   ]
  },
  {
   "cell_type": "code",
   "execution_count": 9,
   "metadata": {
    "execution": {
     "iopub.execute_input": "2020-04-21T23:04:47.917917Z",
     "iopub.status.busy": "2020-04-21T23:04:47.917247Z",
     "iopub.status.idle": "2020-04-21T23:04:49.066975Z",
     "shell.execute_reply": "2020-04-21T23:04:49.065340Z"
    },
    "papermill": {
     "duration": 1.173772,
     "end_time": "2020-04-21T23:04:49.067178",
     "exception": false,
     "start_time": "2020-04-21T23:04:47.893406",
     "status": "completed"
    },
    "tags": []
   },
   "outputs": [
    {
     "name": "stdout",
     "output_type": "stream",
     "text": [
      "Requirement already satisfied: seaborn in /opt/hostedtoolcache/Python/3.6.10/x64/lib/python3.6/site-packages (0.10.0)\r\n",
      "Requirement already satisfied: matplotlib>=2.1.2 in /opt/hostedtoolcache/Python/3.6.10/x64/lib/python3.6/site-packages (from seaborn) (3.2.1)\r\n",
      "Requirement already satisfied: pandas>=0.22.0 in /opt/hostedtoolcache/Python/3.6.10/x64/lib/python3.6/site-packages (from seaborn) (1.0.3)\r\n"
     ]
    },
    {
     "name": "stdout",
     "output_type": "stream",
     "text": [
      "Requirement already satisfied: numpy>=1.13.3 in /opt/hostedtoolcache/Python/3.6.10/x64/lib/python3.6/site-packages (from seaborn) (1.18.3)\r\n",
      "Requirement already satisfied: scipy>=1.0.1 in /opt/hostedtoolcache/Python/3.6.10/x64/lib/python3.6/site-packages (from seaborn) (1.4.1)\r\n",
      "Requirement already satisfied: cycler>=0.10 in /opt/hostedtoolcache/Python/3.6.10/x64/lib/python3.6/site-packages (from matplotlib>=2.1.2->seaborn) (0.10.0)\r\n",
      "Requirement already satisfied: pyparsing!=2.0.4,!=2.1.2,!=2.1.6,>=2.0.1 in /opt/hostedtoolcache/Python/3.6.10/x64/lib/python3.6/site-packages (from matplotlib>=2.1.2->seaborn) (2.4.7)\r\n",
      "Requirement already satisfied: kiwisolver>=1.0.1 in /opt/hostedtoolcache/Python/3.6.10/x64/lib/python3.6/site-packages (from matplotlib>=2.1.2->seaborn) (1.2.0)\r\n",
      "Requirement already satisfied: python-dateutil>=2.1 in /opt/hostedtoolcache/Python/3.6.10/x64/lib/python3.6/site-packages (from matplotlib>=2.1.2->seaborn) (2.8.1)\r\n",
      "Requirement already satisfied: pytz>=2017.2 in /opt/hostedtoolcache/Python/3.6.10/x64/lib/python3.6/site-packages (from pandas>=0.22.0->seaborn) (2019.3)\r\n",
      "Requirement already satisfied: six in /opt/hostedtoolcache/Python/3.6.10/x64/lib/python3.6/site-packages (from cycler>=0.10->matplotlib>=2.1.2->seaborn) (1.14.0)\r\n"
     ]
    }
   ],
   "source": [
    "#hide\n",
    "!pip install seaborn"
   ]
  },
  {
   "cell_type": "code",
   "execution_count": 10,
   "metadata": {
    "execution": {
     "iopub.execute_input": "2020-04-21T23:04:49.116367Z",
     "iopub.status.busy": "2020-04-21T23:04:49.115689Z",
     "iopub.status.idle": "2020-04-21T23:04:49.328145Z",
     "shell.execute_reply": "2020-04-21T23:04:49.327003Z"
    },
    "papermill": {
     "duration": 0.238925,
     "end_time": "2020-04-21T23:04:49.328265",
     "exception": false,
     "start_time": "2020-04-21T23:04:49.089340",
     "status": "completed"
    },
    "tags": []
   },
   "outputs": [],
   "source": [
    "import pandas as pd\n",
    "import datetime\n",
    "base_url=\"https://github.com/CSSEGISandData/COVID-19/raw/master/csse_covid_19_data/csse_covid_19_time_series/time_series_covid19_confirmed_global.csv\"\n",
    "df = pd.read_csv(base_url)"
   ]
  },
  {
   "cell_type": "code",
   "execution_count": 11,
   "metadata": {
    "execution": {
     "iopub.execute_input": "2020-04-21T23:04:49.378441Z",
     "iopub.status.busy": "2020-04-21T23:04:49.377741Z",
     "iopub.status.idle": "2020-04-21T23:04:49.379139Z",
     "shell.execute_reply": "2020-04-21T23:04:49.379755Z"
    },
    "papermill": {
     "duration": 0.029575,
     "end_time": "2020-04-21T23:04:49.379894",
     "exception": false,
     "start_time": "2020-04-21T23:04:49.350319",
     "status": "completed"
    },
    "tags": []
   },
   "outputs": [],
   "source": [
    "df = df.drop(['Lat', 'Long'], axis=1)"
   ]
  },
  {
   "cell_type": "code",
   "execution_count": 12,
   "metadata": {
    "execution": {
     "iopub.execute_input": "2020-04-21T23:04:49.431509Z",
     "iopub.status.busy": "2020-04-21T23:04:49.430885Z",
     "iopub.status.idle": "2020-04-21T23:04:49.433726Z",
     "shell.execute_reply": "2020-04-21T23:04:49.432965Z"
    },
    "papermill": {
     "duration": 0.031202,
     "end_time": "2020-04-21T23:04:49.433836",
     "exception": false,
     "start_time": "2020-04-21T23:04:49.402634",
     "status": "completed"
    },
    "tags": []
   },
   "outputs": [],
   "source": [
    "ncountries = sorted(df['Country/Region'].unique().tolist())"
   ]
  },
  {
   "cell_type": "code",
   "execution_count": 13,
   "metadata": {
    "execution": {
     "iopub.execute_input": "2020-04-21T23:04:49.484090Z",
     "iopub.status.busy": "2020-04-21T23:04:49.483560Z",
     "iopub.status.idle": "2020-04-21T23:04:49.485452Z",
     "shell.execute_reply": "2020-04-21T23:04:49.485919Z"
    },
    "papermill": {
     "duration": 0.029007,
     "end_time": "2020-04-21T23:04:49.486041",
     "exception": false,
     "start_time": "2020-04-21T23:04:49.457034",
     "status": "completed"
    },
    "tags": []
   },
   "outputs": [],
   "source": [
    "#ncountries"
   ]
  },
  {
   "cell_type": "code",
   "execution_count": 14,
   "metadata": {
    "execution": {
     "iopub.execute_input": "2020-04-21T23:04:49.555786Z",
     "iopub.status.busy": "2020-04-21T23:04:49.551933Z",
     "iopub.status.idle": "2020-04-21T23:04:50.661328Z",
     "shell.execute_reply": "2020-04-21T23:04:50.660738Z"
    },
    "papermill": {
     "duration": 1.152695,
     "end_time": "2020-04-21T23:04:50.661441",
     "exception": false,
     "start_time": "2020-04-21T23:04:49.508746",
     "status": "completed"
    },
    "tags": []
   },
   "outputs": [],
   "source": [
    "dfa = pd.DataFrame()\n",
    "for i, country in enumerate(ncountries):\n",
    "    dfc = df[df['Country/Region'] == country].copy()\n",
    "    if len(dfc) > 1:\n",
    "        dfc = dfc.drop(['Province/State'], axis=1).groupby('Country/Region').sum().reset_index()\n",
    "    else:\n",
    "        dfc = dfc.drop(['Province/State'], axis=1)\n",
    "    dfc2 = dfc.melt(id_vars=[\"Country/Region\"], \n",
    "                        var_name=\"Date\",\n",
    "                        value_name=\"cases\")\n",
    "    dfc2 = dfc2.rename({'Country/Region': 'country'}, axis=1)\n",
    "    dfa = dfa.append(dfc2)"
   ]
  },
  {
   "cell_type": "code",
   "execution_count": 15,
   "metadata": {
    "execution": {
     "iopub.execute_input": "2020-04-21T23:04:50.716792Z",
     "iopub.status.busy": "2020-04-21T23:04:50.716176Z",
     "iopub.status.idle": "2020-04-21T23:04:50.721344Z",
     "shell.execute_reply": "2020-04-21T23:04:50.720821Z"
    },
    "papermill": {
     "duration": 0.038257,
     "end_time": "2020-04-21T23:04:50.721445",
     "exception": false,
     "start_time": "2020-04-21T23:04:50.683188",
     "status": "completed"
    },
    "tags": []
   },
   "outputs": [
    {
     "data": {
      "text/html": [
       "<div>\n",
       "<style scoped>\n",
       "    .dataframe tbody tr th:only-of-type {\n",
       "        vertical-align: middle;\n",
       "    }\n",
       "\n",
       "    .dataframe tbody tr th {\n",
       "        vertical-align: top;\n",
       "    }\n",
       "\n",
       "    .dataframe thead th {\n",
       "        text-align: right;\n",
       "    }\n",
       "</style>\n",
       "<table border=\"1\" class=\"dataframe\">\n",
       "  <thead>\n",
       "    <tr style=\"text-align: right;\">\n",
       "      <th></th>\n",
       "      <th>country</th>\n",
       "      <th>Date</th>\n",
       "      <th>cases</th>\n",
       "    </tr>\n",
       "  </thead>\n",
       "  <tbody>\n",
       "    <tr>\n",
       "      <th>70</th>\n",
       "      <td>France</td>\n",
       "      <td>4/1/20</td>\n",
       "      <td>57749</td>\n",
       "    </tr>\n",
       "    <tr>\n",
       "      <th>71</th>\n",
       "      <td>France</td>\n",
       "      <td>4/2/20</td>\n",
       "      <td>59929</td>\n",
       "    </tr>\n",
       "    <tr>\n",
       "      <th>72</th>\n",
       "      <td>France</td>\n",
       "      <td>4/3/20</td>\n",
       "      <td>65202</td>\n",
       "    </tr>\n",
       "    <tr>\n",
       "      <th>73</th>\n",
       "      <td>France</td>\n",
       "      <td>4/4/20</td>\n",
       "      <td>69500</td>\n",
       "    </tr>\n",
       "    <tr>\n",
       "      <th>74</th>\n",
       "      <td>France</td>\n",
       "      <td>4/5/20</td>\n",
       "      <td>71412</td>\n",
       "    </tr>\n",
       "    <tr>\n",
       "      <th>75</th>\n",
       "      <td>France</td>\n",
       "      <td>4/6/20</td>\n",
       "      <td>75343</td>\n",
       "    </tr>\n",
       "    <tr>\n",
       "      <th>76</th>\n",
       "      <td>France</td>\n",
       "      <td>4/7/20</td>\n",
       "      <td>79163</td>\n",
       "    </tr>\n",
       "    <tr>\n",
       "      <th>77</th>\n",
       "      <td>France</td>\n",
       "      <td>4/8/20</td>\n",
       "      <td>83057</td>\n",
       "    </tr>\n",
       "    <tr>\n",
       "      <th>78</th>\n",
       "      <td>France</td>\n",
       "      <td>4/9/20</td>\n",
       "      <td>87366</td>\n",
       "    </tr>\n",
       "    <tr>\n",
       "      <th>79</th>\n",
       "      <td>France</td>\n",
       "      <td>4/10/20</td>\n",
       "      <td>91738</td>\n",
       "    </tr>\n",
       "    <tr>\n",
       "      <th>80</th>\n",
       "      <td>France</td>\n",
       "      <td>4/11/20</td>\n",
       "      <td>94863</td>\n",
       "    </tr>\n",
       "    <tr>\n",
       "      <th>81</th>\n",
       "      <td>France</td>\n",
       "      <td>4/12/20</td>\n",
       "      <td>121712</td>\n",
       "    </tr>\n",
       "    <tr>\n",
       "      <th>82</th>\n",
       "      <td>France</td>\n",
       "      <td>4/13/20</td>\n",
       "      <td>125394</td>\n",
       "    </tr>\n",
       "    <tr>\n",
       "      <th>83</th>\n",
       "      <td>France</td>\n",
       "      <td>4/14/20</td>\n",
       "      <td>131361</td>\n",
       "    </tr>\n",
       "    <tr>\n",
       "      <th>84</th>\n",
       "      <td>France</td>\n",
       "      <td>4/15/20</td>\n",
       "      <td>134582</td>\n",
       "    </tr>\n",
       "    <tr>\n",
       "      <th>85</th>\n",
       "      <td>France</td>\n",
       "      <td>4/16/20</td>\n",
       "      <td>147091</td>\n",
       "    </tr>\n",
       "    <tr>\n",
       "      <th>86</th>\n",
       "      <td>France</td>\n",
       "      <td>4/17/20</td>\n",
       "      <td>149130</td>\n",
       "    </tr>\n",
       "    <tr>\n",
       "      <th>87</th>\n",
       "      <td>France</td>\n",
       "      <td>4/18/20</td>\n",
       "      <td>149149</td>\n",
       "    </tr>\n",
       "    <tr>\n",
       "      <th>88</th>\n",
       "      <td>France</td>\n",
       "      <td>4/19/20</td>\n",
       "      <td>154097</td>\n",
       "    </tr>\n",
       "    <tr>\n",
       "      <th>89</th>\n",
       "      <td>France</td>\n",
       "      <td>4/20/20</td>\n",
       "      <td>156480</td>\n",
       "    </tr>\n",
       "  </tbody>\n",
       "</table>\n",
       "</div>"
      ],
      "text/plain": [
       "   country     Date   cases\n",
       "70  France   4/1/20   57749\n",
       "71  France   4/2/20   59929\n",
       "72  France   4/3/20   65202\n",
       "73  France   4/4/20   69500\n",
       "74  France   4/5/20   71412\n",
       "75  France   4/6/20   75343\n",
       "76  France   4/7/20   79163\n",
       "77  France   4/8/20   83057\n",
       "78  France   4/9/20   87366\n",
       "79  France  4/10/20   91738\n",
       "80  France  4/11/20   94863\n",
       "81  France  4/12/20  121712\n",
       "82  France  4/13/20  125394\n",
       "83  France  4/14/20  131361\n",
       "84  France  4/15/20  134582\n",
       "85  France  4/16/20  147091\n",
       "86  France  4/17/20  149130\n",
       "87  France  4/18/20  149149\n",
       "88  France  4/19/20  154097\n",
       "89  France  4/20/20  156480"
      ]
     },
     "execution_count": 15,
     "metadata": {},
     "output_type": "execute_result"
    }
   ],
   "source": [
    "dfa[dfa.country==\"France\"].tail(20)"
   ]
  },
  {
   "cell_type": "code",
   "execution_count": 16,
   "metadata": {
    "execution": {
     "iopub.execute_input": "2020-04-21T23:04:50.769644Z",
     "iopub.status.busy": "2020-04-21T23:04:50.769119Z",
     "iopub.status.idle": "2020-04-21T23:04:50.774977Z",
     "shell.execute_reply": "2020-04-21T23:04:50.774427Z"
    },
    "papermill": {
     "duration": 0.030758,
     "end_time": "2020-04-21T23:04:50.775073",
     "exception": false,
     "start_time": "2020-04-21T23:04:50.744315",
     "status": "completed"
    },
    "tags": []
   },
   "outputs": [
    {
     "data": {
      "text/plain": [
       "185"
      ]
     },
     "execution_count": 16,
     "metadata": {},
     "output_type": "execute_result"
    }
   ],
   "source": [
    "dfa.country.nunique()"
   ]
  },
  {
   "cell_type": "code",
   "execution_count": 17,
   "metadata": {
    "execution": {
     "iopub.execute_input": "2020-04-21T23:04:50.831483Z",
     "iopub.status.busy": "2020-04-21T23:04:50.830637Z",
     "iopub.status.idle": "2020-04-21T23:04:50.836087Z",
     "shell.execute_reply": "2020-04-21T23:04:50.835506Z"
    },
    "papermill": {
     "duration": 0.038533,
     "end_time": "2020-04-21T23:04:50.836205",
     "exception": false,
     "start_time": "2020-04-21T23:04:50.797672",
     "status": "completed"
    },
    "tags": []
   },
   "outputs": [],
   "source": [
    "df = df.drop(['Province/State'], axis=1).groupby('Country/Region').sum().reset_index()"
   ]
  },
  {
   "cell_type": "code",
   "execution_count": 18,
   "metadata": {
    "execution": {
     "iopub.execute_input": "2020-04-21T23:04:50.900421Z",
     "iopub.status.busy": "2020-04-21T23:04:50.899851Z",
     "iopub.status.idle": "2020-04-21T23:04:50.902077Z",
     "shell.execute_reply": "2020-04-21T23:04:50.902625Z"
    },
    "papermill": {
     "duration": 0.043722,
     "end_time": "2020-04-21T23:04:50.902742",
     "exception": false,
     "start_time": "2020-04-21T23:04:50.859020",
     "status": "completed"
    },
    "tags": []
   },
   "outputs": [
    {
     "data": {
      "text/html": [
       "<div>\n",
       "<style scoped>\n",
       "    .dataframe tbody tr th:only-of-type {\n",
       "        vertical-align: middle;\n",
       "    }\n",
       "\n",
       "    .dataframe tbody tr th {\n",
       "        vertical-align: top;\n",
       "    }\n",
       "\n",
       "    .dataframe thead th {\n",
       "        text-align: right;\n",
       "    }\n",
       "</style>\n",
       "<table border=\"1\" class=\"dataframe\">\n",
       "  <thead>\n",
       "    <tr style=\"text-align: right;\">\n",
       "      <th></th>\n",
       "      <th>Country/Region</th>\n",
       "      <th>1/22/20</th>\n",
       "      <th>1/23/20</th>\n",
       "      <th>1/24/20</th>\n",
       "      <th>1/25/20</th>\n",
       "      <th>1/26/20</th>\n",
       "      <th>1/27/20</th>\n",
       "      <th>1/28/20</th>\n",
       "      <th>1/29/20</th>\n",
       "      <th>1/30/20</th>\n",
       "      <th>...</th>\n",
       "      <th>4/11/20</th>\n",
       "      <th>4/12/20</th>\n",
       "      <th>4/13/20</th>\n",
       "      <th>4/14/20</th>\n",
       "      <th>4/15/20</th>\n",
       "      <th>4/16/20</th>\n",
       "      <th>4/17/20</th>\n",
       "      <th>4/18/20</th>\n",
       "      <th>4/19/20</th>\n",
       "      <th>4/20/20</th>\n",
       "    </tr>\n",
       "  </thead>\n",
       "  <tbody>\n",
       "    <tr>\n",
       "      <th>0</th>\n",
       "      <td>Afghanistan</td>\n",
       "      <td>0</td>\n",
       "      <td>0</td>\n",
       "      <td>0</td>\n",
       "      <td>0</td>\n",
       "      <td>0</td>\n",
       "      <td>0</td>\n",
       "      <td>0</td>\n",
       "      <td>0</td>\n",
       "      <td>0</td>\n",
       "      <td>...</td>\n",
       "      <td>555</td>\n",
       "      <td>607</td>\n",
       "      <td>665</td>\n",
       "      <td>714</td>\n",
       "      <td>784</td>\n",
       "      <td>840</td>\n",
       "      <td>906</td>\n",
       "      <td>933</td>\n",
       "      <td>996</td>\n",
       "      <td>1026</td>\n",
       "    </tr>\n",
       "    <tr>\n",
       "      <th>1</th>\n",
       "      <td>Albania</td>\n",
       "      <td>0</td>\n",
       "      <td>0</td>\n",
       "      <td>0</td>\n",
       "      <td>0</td>\n",
       "      <td>0</td>\n",
       "      <td>0</td>\n",
       "      <td>0</td>\n",
       "      <td>0</td>\n",
       "      <td>0</td>\n",
       "      <td>...</td>\n",
       "      <td>433</td>\n",
       "      <td>446</td>\n",
       "      <td>467</td>\n",
       "      <td>475</td>\n",
       "      <td>494</td>\n",
       "      <td>518</td>\n",
       "      <td>539</td>\n",
       "      <td>548</td>\n",
       "      <td>562</td>\n",
       "      <td>584</td>\n",
       "    </tr>\n",
       "    <tr>\n",
       "      <th>2</th>\n",
       "      <td>Algeria</td>\n",
       "      <td>0</td>\n",
       "      <td>0</td>\n",
       "      <td>0</td>\n",
       "      <td>0</td>\n",
       "      <td>0</td>\n",
       "      <td>0</td>\n",
       "      <td>0</td>\n",
       "      <td>0</td>\n",
       "      <td>0</td>\n",
       "      <td>...</td>\n",
       "      <td>1825</td>\n",
       "      <td>1914</td>\n",
       "      <td>1983</td>\n",
       "      <td>2070</td>\n",
       "      <td>2160</td>\n",
       "      <td>2268</td>\n",
       "      <td>2418</td>\n",
       "      <td>2534</td>\n",
       "      <td>2629</td>\n",
       "      <td>2718</td>\n",
       "    </tr>\n",
       "    <tr>\n",
       "      <th>3</th>\n",
       "      <td>Andorra</td>\n",
       "      <td>0</td>\n",
       "      <td>0</td>\n",
       "      <td>0</td>\n",
       "      <td>0</td>\n",
       "      <td>0</td>\n",
       "      <td>0</td>\n",
       "      <td>0</td>\n",
       "      <td>0</td>\n",
       "      <td>0</td>\n",
       "      <td>...</td>\n",
       "      <td>601</td>\n",
       "      <td>638</td>\n",
       "      <td>646</td>\n",
       "      <td>659</td>\n",
       "      <td>673</td>\n",
       "      <td>673</td>\n",
       "      <td>696</td>\n",
       "      <td>704</td>\n",
       "      <td>713</td>\n",
       "      <td>717</td>\n",
       "    </tr>\n",
       "    <tr>\n",
       "      <th>4</th>\n",
       "      <td>Angola</td>\n",
       "      <td>0</td>\n",
       "      <td>0</td>\n",
       "      <td>0</td>\n",
       "      <td>0</td>\n",
       "      <td>0</td>\n",
       "      <td>0</td>\n",
       "      <td>0</td>\n",
       "      <td>0</td>\n",
       "      <td>0</td>\n",
       "      <td>...</td>\n",
       "      <td>19</td>\n",
       "      <td>19</td>\n",
       "      <td>19</td>\n",
       "      <td>19</td>\n",
       "      <td>19</td>\n",
       "      <td>19</td>\n",
       "      <td>19</td>\n",
       "      <td>24</td>\n",
       "      <td>24</td>\n",
       "      <td>24</td>\n",
       "    </tr>\n",
       "  </tbody>\n",
       "</table>\n",
       "<p>5 rows × 91 columns</p>\n",
       "</div>"
      ],
      "text/plain": [
       "  Country/Region  1/22/20  1/23/20  1/24/20  1/25/20  1/26/20  1/27/20  \\\n",
       "0    Afghanistan        0        0        0        0        0        0   \n",
       "1        Albania        0        0        0        0        0        0   \n",
       "2        Algeria        0        0        0        0        0        0   \n",
       "3        Andorra        0        0        0        0        0        0   \n",
       "4         Angola        0        0        0        0        0        0   \n",
       "\n",
       "   1/28/20  1/29/20  1/30/20  ...  4/11/20  4/12/20  4/13/20  4/14/20  \\\n",
       "0        0        0        0  ...      555      607      665      714   \n",
       "1        0        0        0  ...      433      446      467      475   \n",
       "2        0        0        0  ...     1825     1914     1983     2070   \n",
       "3        0        0        0  ...      601      638      646      659   \n",
       "4        0        0        0  ...       19       19       19       19   \n",
       "\n",
       "   4/15/20  4/16/20  4/17/20  4/18/20  4/19/20  4/20/20  \n",
       "0      784      840      906      933      996     1026  \n",
       "1      494      518      539      548      562      584  \n",
       "2     2160     2268     2418     2534     2629     2718  \n",
       "3      673      673      696      704      713      717  \n",
       "4       19       19       19       24       24       24  \n",
       "\n",
       "[5 rows x 91 columns]"
      ]
     },
     "execution_count": 18,
     "metadata": {},
     "output_type": "execute_result"
    }
   ],
   "source": [
    "df.head()"
   ]
  },
  {
   "cell_type": "code",
   "execution_count": 19,
   "metadata": {
    "execution": {
     "iopub.execute_input": "2020-04-21T23:04:50.953851Z",
     "iopub.status.busy": "2020-04-21T23:04:50.953294Z",
     "iopub.status.idle": "2020-04-21T23:04:50.968309Z",
     "shell.execute_reply": "2020-04-21T23:04:50.967816Z"
    },
    "papermill": {
     "duration": 0.041746,
     "end_time": "2020-04-21T23:04:50.968406",
     "exception": false,
     "start_time": "2020-04-21T23:04:50.926660",
     "status": "completed"
    },
    "tags": []
   },
   "outputs": [],
   "source": [
    "df3 = df.T"
   ]
  },
  {
   "cell_type": "code",
   "execution_count": 20,
   "metadata": {
    "execution": {
     "iopub.execute_input": "2020-04-21T23:04:51.029737Z",
     "iopub.status.busy": "2020-04-21T23:04:51.029208Z",
     "iopub.status.idle": "2020-04-21T23:04:51.041757Z",
     "shell.execute_reply": "2020-04-21T23:04:51.042260Z"
    },
    "papermill": {
     "duration": 0.050292,
     "end_time": "2020-04-21T23:04:51.042384",
     "exception": false,
     "start_time": "2020-04-21T23:04:50.992092",
     "status": "completed"
    },
    "tags": []
   },
   "outputs": [
    {
     "data": {
      "text/html": [
       "<div>\n",
       "<style scoped>\n",
       "    .dataframe tbody tr th:only-of-type {\n",
       "        vertical-align: middle;\n",
       "    }\n",
       "\n",
       "    .dataframe tbody tr th {\n",
       "        vertical-align: top;\n",
       "    }\n",
       "\n",
       "    .dataframe thead th {\n",
       "        text-align: right;\n",
       "    }\n",
       "</style>\n",
       "<table border=\"1\" class=\"dataframe\">\n",
       "  <thead>\n",
       "    <tr style=\"text-align: right;\">\n",
       "      <th></th>\n",
       "      <th>0</th>\n",
       "      <th>1</th>\n",
       "      <th>2</th>\n",
       "      <th>3</th>\n",
       "      <th>4</th>\n",
       "      <th>5</th>\n",
       "      <th>6</th>\n",
       "      <th>7</th>\n",
       "      <th>8</th>\n",
       "      <th>9</th>\n",
       "      <th>...</th>\n",
       "      <th>175</th>\n",
       "      <th>176</th>\n",
       "      <th>177</th>\n",
       "      <th>178</th>\n",
       "      <th>179</th>\n",
       "      <th>180</th>\n",
       "      <th>181</th>\n",
       "      <th>182</th>\n",
       "      <th>183</th>\n",
       "      <th>184</th>\n",
       "    </tr>\n",
       "  </thead>\n",
       "  <tbody>\n",
       "    <tr>\n",
       "      <th>Country/Region</th>\n",
       "      <td>Afghanistan</td>\n",
       "      <td>Albania</td>\n",
       "      <td>Algeria</td>\n",
       "      <td>Andorra</td>\n",
       "      <td>Angola</td>\n",
       "      <td>Antigua and Barbuda</td>\n",
       "      <td>Argentina</td>\n",
       "      <td>Armenia</td>\n",
       "      <td>Australia</td>\n",
       "      <td>Austria</td>\n",
       "      <td>...</td>\n",
       "      <td>United Kingdom</td>\n",
       "      <td>Uruguay</td>\n",
       "      <td>Uzbekistan</td>\n",
       "      <td>Venezuela</td>\n",
       "      <td>Vietnam</td>\n",
       "      <td>West Bank and Gaza</td>\n",
       "      <td>Western Sahara</td>\n",
       "      <td>Yemen</td>\n",
       "      <td>Zambia</td>\n",
       "      <td>Zimbabwe</td>\n",
       "    </tr>\n",
       "    <tr>\n",
       "      <th>1/22/20</th>\n",
       "      <td>0</td>\n",
       "      <td>0</td>\n",
       "      <td>0</td>\n",
       "      <td>0</td>\n",
       "      <td>0</td>\n",
       "      <td>0</td>\n",
       "      <td>0</td>\n",
       "      <td>0</td>\n",
       "      <td>0</td>\n",
       "      <td>0</td>\n",
       "      <td>...</td>\n",
       "      <td>0</td>\n",
       "      <td>0</td>\n",
       "      <td>0</td>\n",
       "      <td>0</td>\n",
       "      <td>0</td>\n",
       "      <td>0</td>\n",
       "      <td>0</td>\n",
       "      <td>0</td>\n",
       "      <td>0</td>\n",
       "      <td>0</td>\n",
       "    </tr>\n",
       "    <tr>\n",
       "      <th>1/23/20</th>\n",
       "      <td>0</td>\n",
       "      <td>0</td>\n",
       "      <td>0</td>\n",
       "      <td>0</td>\n",
       "      <td>0</td>\n",
       "      <td>0</td>\n",
       "      <td>0</td>\n",
       "      <td>0</td>\n",
       "      <td>0</td>\n",
       "      <td>0</td>\n",
       "      <td>...</td>\n",
       "      <td>0</td>\n",
       "      <td>0</td>\n",
       "      <td>0</td>\n",
       "      <td>0</td>\n",
       "      <td>2</td>\n",
       "      <td>0</td>\n",
       "      <td>0</td>\n",
       "      <td>0</td>\n",
       "      <td>0</td>\n",
       "      <td>0</td>\n",
       "    </tr>\n",
       "    <tr>\n",
       "      <th>1/24/20</th>\n",
       "      <td>0</td>\n",
       "      <td>0</td>\n",
       "      <td>0</td>\n",
       "      <td>0</td>\n",
       "      <td>0</td>\n",
       "      <td>0</td>\n",
       "      <td>0</td>\n",
       "      <td>0</td>\n",
       "      <td>0</td>\n",
       "      <td>0</td>\n",
       "      <td>...</td>\n",
       "      <td>0</td>\n",
       "      <td>0</td>\n",
       "      <td>0</td>\n",
       "      <td>0</td>\n",
       "      <td>2</td>\n",
       "      <td>0</td>\n",
       "      <td>0</td>\n",
       "      <td>0</td>\n",
       "      <td>0</td>\n",
       "      <td>0</td>\n",
       "    </tr>\n",
       "    <tr>\n",
       "      <th>1/25/20</th>\n",
       "      <td>0</td>\n",
       "      <td>0</td>\n",
       "      <td>0</td>\n",
       "      <td>0</td>\n",
       "      <td>0</td>\n",
       "      <td>0</td>\n",
       "      <td>0</td>\n",
       "      <td>0</td>\n",
       "      <td>0</td>\n",
       "      <td>0</td>\n",
       "      <td>...</td>\n",
       "      <td>0</td>\n",
       "      <td>0</td>\n",
       "      <td>0</td>\n",
       "      <td>0</td>\n",
       "      <td>2</td>\n",
       "      <td>0</td>\n",
       "      <td>0</td>\n",
       "      <td>0</td>\n",
       "      <td>0</td>\n",
       "      <td>0</td>\n",
       "    </tr>\n",
       "  </tbody>\n",
       "</table>\n",
       "<p>5 rows × 185 columns</p>\n",
       "</div>"
      ],
      "text/plain": [
       "                        0        1        2        3       4    \\\n",
       "Country/Region  Afghanistan  Albania  Algeria  Andorra  Angola   \n",
       "1/22/20                   0        0        0        0       0   \n",
       "1/23/20                   0        0        0        0       0   \n",
       "1/24/20                   0        0        0        0       0   \n",
       "1/25/20                   0        0        0        0       0   \n",
       "\n",
       "                                5          6        7          8        9    \\\n",
       "Country/Region  Antigua and Barbuda  Argentina  Armenia  Australia  Austria   \n",
       "1/22/20                           0          0        0          0        0   \n",
       "1/23/20                           0          0        0          0        0   \n",
       "1/24/20                           0          0        0          0        0   \n",
       "1/25/20                           0          0        0          0        0   \n",
       "\n",
       "                ...             175      176         177        178      179  \\\n",
       "Country/Region  ...  United Kingdom  Uruguay  Uzbekistan  Venezuela  Vietnam   \n",
       "1/22/20         ...               0        0           0          0        0   \n",
       "1/23/20         ...               0        0           0          0        2   \n",
       "1/24/20         ...               0        0           0          0        2   \n",
       "1/25/20         ...               0        0           0          0        2   \n",
       "\n",
       "                               180             181    182     183       184  \n",
       "Country/Region  West Bank and Gaza  Western Sahara  Yemen  Zambia  Zimbabwe  \n",
       "1/22/20                          0               0      0       0         0  \n",
       "1/23/20                          0               0      0       0         0  \n",
       "1/24/20                          0               0      0       0         0  \n",
       "1/25/20                          0               0      0       0         0  \n",
       "\n",
       "[5 rows x 185 columns]"
      ]
     },
     "execution_count": 20,
     "metadata": {},
     "output_type": "execute_result"
    }
   ],
   "source": [
    "df3.head()"
   ]
  },
  {
   "cell_type": "code",
   "execution_count": 21,
   "metadata": {
    "execution": {
     "iopub.execute_input": "2020-04-21T23:04:51.099018Z",
     "iopub.status.busy": "2020-04-21T23:04:51.098449Z",
     "iopub.status.idle": "2020-04-21T23:04:51.106912Z",
     "shell.execute_reply": "2020-04-21T23:04:51.106444Z"
    },
    "papermill": {
     "duration": 0.038347,
     "end_time": "2020-04-21T23:04:51.107020",
     "exception": false,
     "start_time": "2020-04-21T23:04:51.068673",
     "status": "completed"
    },
    "tags": []
   },
   "outputs": [],
   "source": [
    "df2 = df.melt(id_vars=[\"Country/Region\"], \n",
    "        var_name=\"Date\",\n",
    "        value_name=\"cases\")\n",
    "df2 = df2.rename({'Country/Region': 'country'}, axis=1)"
   ]
  },
  {
   "cell_type": "code",
   "execution_count": null,
   "metadata": {
    "papermill": {
     "duration": 0.023517,
     "end_time": "2020-04-21T23:04:51.154485",
     "exception": false,
     "start_time": "2020-04-21T23:04:51.130968",
     "status": "completed"
    },
    "tags": []
   },
   "outputs": [],
   "source": []
  },
  {
   "cell_type": "code",
   "execution_count": 22,
   "metadata": {
    "execution": {
     "iopub.execute_input": "2020-04-21T23:04:51.205133Z",
     "iopub.status.busy": "2020-04-21T23:04:51.204561Z",
     "iopub.status.idle": "2020-04-21T23:04:51.215216Z",
     "shell.execute_reply": "2020-04-21T23:04:51.214759Z"
    },
    "papermill": {
     "duration": 0.037224,
     "end_time": "2020-04-21T23:04:51.215308",
     "exception": false,
     "start_time": "2020-04-21T23:04:51.178084",
     "status": "completed"
    },
    "tags": []
   },
   "outputs": [
    {
     "data": {
      "text/html": [
       "<div>\n",
       "<style scoped>\n",
       "    .dataframe tbody tr th:only-of-type {\n",
       "        vertical-align: middle;\n",
       "    }\n",
       "\n",
       "    .dataframe tbody tr th {\n",
       "        vertical-align: top;\n",
       "    }\n",
       "\n",
       "    .dataframe thead th {\n",
       "        text-align: right;\n",
       "    }\n",
       "</style>\n",
       "<table border=\"1\" class=\"dataframe\">\n",
       "  <thead>\n",
       "    <tr style=\"text-align: right;\">\n",
       "      <th></th>\n",
       "      <th>country</th>\n",
       "      <th>Date</th>\n",
       "      <th>cases</th>\n",
       "    </tr>\n",
       "  </thead>\n",
       "  <tbody>\n",
       "    <tr>\n",
       "      <th>36</th>\n",
       "      <td>China</td>\n",
       "      <td>1/22/20</td>\n",
       "      <td>548</td>\n",
       "    </tr>\n",
       "    <tr>\n",
       "      <th>221</th>\n",
       "      <td>China</td>\n",
       "      <td>1/23/20</td>\n",
       "      <td>643</td>\n",
       "    </tr>\n",
       "    <tr>\n",
       "      <th>406</th>\n",
       "      <td>China</td>\n",
       "      <td>1/24/20</td>\n",
       "      <td>920</td>\n",
       "    </tr>\n",
       "    <tr>\n",
       "      <th>591</th>\n",
       "      <td>China</td>\n",
       "      <td>1/25/20</td>\n",
       "      <td>1406</td>\n",
       "    </tr>\n",
       "    <tr>\n",
       "      <th>776</th>\n",
       "      <td>China</td>\n",
       "      <td>1/26/20</td>\n",
       "      <td>2075</td>\n",
       "    </tr>\n",
       "    <tr>\n",
       "      <th>...</th>\n",
       "      <td>...</td>\n",
       "      <td>...</td>\n",
       "      <td>...</td>\n",
       "    </tr>\n",
       "    <tr>\n",
       "      <th>15761</th>\n",
       "      <td>China</td>\n",
       "      <td>4/16/20</td>\n",
       "      <td>83403</td>\n",
       "    </tr>\n",
       "    <tr>\n",
       "      <th>15946</th>\n",
       "      <td>China</td>\n",
       "      <td>4/17/20</td>\n",
       "      <td>83760</td>\n",
       "    </tr>\n",
       "    <tr>\n",
       "      <th>16131</th>\n",
       "      <td>China</td>\n",
       "      <td>4/18/20</td>\n",
       "      <td>83787</td>\n",
       "    </tr>\n",
       "    <tr>\n",
       "      <th>16316</th>\n",
       "      <td>China</td>\n",
       "      <td>4/19/20</td>\n",
       "      <td>83805</td>\n",
       "    </tr>\n",
       "    <tr>\n",
       "      <th>16501</th>\n",
       "      <td>China</td>\n",
       "      <td>4/20/20</td>\n",
       "      <td>83817</td>\n",
       "    </tr>\n",
       "  </tbody>\n",
       "</table>\n",
       "<p>90 rows × 3 columns</p>\n",
       "</div>"
      ],
      "text/plain": [
       "      country     Date  cases\n",
       "36      China  1/22/20    548\n",
       "221     China  1/23/20    643\n",
       "406     China  1/24/20    920\n",
       "591     China  1/25/20   1406\n",
       "776     China  1/26/20   2075\n",
       "...       ...      ...    ...\n",
       "15761   China  4/16/20  83403\n",
       "15946   China  4/17/20  83760\n",
       "16131   China  4/18/20  83787\n",
       "16316   China  4/19/20  83805\n",
       "16501   China  4/20/20  83817\n",
       "\n",
       "[90 rows x 3 columns]"
      ]
     },
     "execution_count": 22,
     "metadata": {},
     "output_type": "execute_result"
    }
   ],
   "source": [
    "df2[df2.country==\"China\"]"
   ]
  },
  {
   "cell_type": "code",
   "execution_count": 23,
   "metadata": {
    "execution": {
     "iopub.execute_input": "2020-04-21T23:04:51.266020Z",
     "iopub.status.busy": "2020-04-21T23:04:51.265476Z",
     "iopub.status.idle": "2020-04-21T23:04:51.642570Z",
     "shell.execute_reply": "2020-04-21T23:04:51.641981Z"
    },
    "papermill": {
     "duration": 0.403792,
     "end_time": "2020-04-21T23:04:51.642687",
     "exception": false,
     "start_time": "2020-04-21T23:04:51.238895",
     "status": "completed"
    },
    "tags": []
   },
   "outputs": [],
   "source": [
    "import pandas as pd\n",
    "url=\"https://github.com/CSSEGISandData/COVID-19/raw/master/csse_covid_19_data/csse_covid_19_time_series/time_series_covid19_confirmed_global.csv\"\n",
    "df = pd.read_csv(url)"
   ]
  },
  {
   "cell_type": "code",
   "execution_count": 24,
   "metadata": {
    "execution": {
     "iopub.execute_input": "2020-04-21T23:04:51.696896Z",
     "iopub.status.busy": "2020-04-21T23:04:51.696074Z",
     "iopub.status.idle": "2020-04-21T23:04:51.697484Z",
     "shell.execute_reply": "2020-04-21T23:04:51.698023Z"
    },
    "papermill": {
     "duration": 0.031027,
     "end_time": "2020-04-21T23:04:51.698140",
     "exception": false,
     "start_time": "2020-04-21T23:04:51.667113",
     "status": "completed"
    },
    "tags": []
   },
   "outputs": [],
   "source": [
    "#df = df.drop(['Lat', 'Long'], axis=1)\n",
    "ncountries = df['Country/Region'].unique().tolist()"
   ]
  },
  {
   "cell_type": "code",
   "execution_count": 25,
   "metadata": {
    "execution": {
     "iopub.execute_input": "2020-04-21T23:04:51.770693Z",
     "iopub.status.busy": "2020-04-21T23:04:51.770120Z",
     "iopub.status.idle": "2020-04-21T23:04:56.215168Z",
     "shell.execute_reply": "2020-04-21T23:04:56.214550Z"
    },
    "papermill": {
     "duration": 4.492841,
     "end_time": "2020-04-21T23:04:56.215320",
     "exception": false,
     "start_time": "2020-04-21T23:04:51.722479",
     "status": "completed"
    },
    "tags": []
   },
   "outputs": [],
   "source": [
    "dfb = pd.DataFrame()\n",
    "for i, country in enumerate(ncountries):\n",
    "    dfc = df[df['Country/Region'] == country].copy()\n",
    "    if len(dfc) > 1:\n",
    "        dfc = dfc.drop(['Province/State', 'Lat', 'Long'], axis=1).groupby('Country/Region').sum().reset_index()\n",
    "    else:\n",
    "        dfc = dfc.drop(['Province/State', 'Lat', 'Long'], axis=1)\n",
    "    dfc = dfc.rename({'Country/Region': 'country', 'Date': 'date'}, axis=1)\n",
    "    dfc = dfc.T\n",
    "    #dfc['date'] = pd.to_datetime(dfc['date'])\n",
    "    dfb = dfb.append(dfc)"
   ]
  },
  {
   "cell_type": "code",
   "execution_count": 26,
   "metadata": {
    "execution": {
     "iopub.execute_input": "2020-04-21T23:04:56.281101Z",
     "iopub.status.busy": "2020-04-21T23:04:56.280451Z",
     "iopub.status.idle": "2020-04-21T23:04:56.282975Z",
     "shell.execute_reply": "2020-04-21T23:04:56.282480Z"
    },
    "papermill": {
     "duration": 0.041876,
     "end_time": "2020-04-21T23:04:56.283083",
     "exception": false,
     "start_time": "2020-04-21T23:04:56.241207",
     "status": "completed"
    },
    "tags": []
   },
   "outputs": [],
   "source": [
    "dfc = df[df['Country/Region'] == \"China\"].copy()\n",
    "if len(dfc) > 1:\n",
    "    dfc = dfc.drop(['Province/State', 'Lat', 'Long'], axis=1).groupby('Country/Region').sum().reset_index()\n",
    "else:\n",
    "    dfc = dfc.drop(['Province/State', 'Lat', 'Long'], axis=1)\n",
    "dfc = dfc.rename({'Country/Region': 'country', 'Date': 'date'}, axis=1)\n",
    "dfc = dfc.T"
   ]
  },
  {
   "cell_type": "code",
   "execution_count": 27,
   "metadata": {
    "execution": {
     "iopub.execute_input": "2020-04-21T23:04:56.345032Z",
     "iopub.status.busy": "2020-04-21T23:04:56.344356Z",
     "iopub.status.idle": "2020-04-21T23:04:56.349060Z",
     "shell.execute_reply": "2020-04-21T23:04:56.348553Z"
    },
    "papermill": {
     "duration": 0.039746,
     "end_time": "2020-04-21T23:04:56.349169",
     "exception": false,
     "start_time": "2020-04-21T23:04:56.309423",
     "status": "completed"
    },
    "tags": []
   },
   "outputs": [
    {
     "data": {
      "text/html": [
       "<div>\n",
       "<style scoped>\n",
       "    .dataframe tbody tr th:only-of-type {\n",
       "        vertical-align: middle;\n",
       "    }\n",
       "\n",
       "    .dataframe tbody tr th {\n",
       "        vertical-align: top;\n",
       "    }\n",
       "\n",
       "    .dataframe thead th {\n",
       "        text-align: right;\n",
       "    }\n",
       "</style>\n",
       "<table border=\"1\" class=\"dataframe\">\n",
       "  <thead>\n",
       "    <tr style=\"text-align: right;\">\n",
       "      <th></th>\n",
       "      <th>0</th>\n",
       "    </tr>\n",
       "  </thead>\n",
       "  <tbody>\n",
       "    <tr>\n",
       "      <th>country</th>\n",
       "      <td>China</td>\n",
       "    </tr>\n",
       "    <tr>\n",
       "      <th>1/22/20</th>\n",
       "      <td>548</td>\n",
       "    </tr>\n",
       "    <tr>\n",
       "      <th>1/23/20</th>\n",
       "      <td>643</td>\n",
       "    </tr>\n",
       "    <tr>\n",
       "      <th>1/24/20</th>\n",
       "      <td>920</td>\n",
       "    </tr>\n",
       "    <tr>\n",
       "      <th>1/25/20</th>\n",
       "      <td>1406</td>\n",
       "    </tr>\n",
       "  </tbody>\n",
       "</table>\n",
       "</div>"
      ],
      "text/plain": [
       "             0\n",
       "country  China\n",
       "1/22/20    548\n",
       "1/23/20    643\n",
       "1/24/20    920\n",
       "1/25/20   1406"
      ]
     },
     "execution_count": 27,
     "metadata": {},
     "output_type": "execute_result"
    }
   ],
   "source": [
    "dfc.head()"
   ]
  },
  {
   "cell_type": "code",
   "execution_count": null,
   "metadata": {
    "papermill": {
     "duration": 0.030724,
     "end_time": "2020-04-21T23:04:56.407335",
     "exception": false,
     "start_time": "2020-04-21T23:04:56.376611",
     "status": "completed"
    },
    "tags": []
   },
   "outputs": [],
   "source": []
  }
 ],
 "metadata": {
  "kernelspec": {
   "display_name": "Python 3",
   "language": "python",
   "name": "python3"
  },
  "language_info": {
   "codemirror_mode": {
    "name": "ipython",
    "version": 3
   },
   "file_extension": ".py",
   "mimetype": "text/x-python",
   "name": "python",
   "nbconvert_exporter": "python",
   "pygments_lexer": "ipython3",
   "version": "3.6.10"
  },
  "papermill": {
   "duration": 13.085466,
   "end_time": "2020-04-21T23:04:57.460910",
   "environment_variables": {},
   "exception": null,
   "input_path": "covid_tracking.ipynb",
   "output_path": "covid_tracking.ipynb",
   "parameters": {},
   "start_time": "2020-04-21T23:04:44.375444",
   "version": "2.1.0"
  }
 },
 "nbformat": 4,
 "nbformat_minor": 4
}