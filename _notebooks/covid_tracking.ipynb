{
 "cells": [
  {
   "cell_type": "markdown",
   "metadata": {
    "papermill": {
     "duration": 0.023129,
     "end_time": "2020-04-23T04:22:17.048105",
     "exception": false,
     "start_time": "2020-04-23T04:22:17.024976",
     "status": "completed"
    },
    "tags": []
   },
   "source": [
    "# \"Covid Tracking Starter Test\"\n",
    "> \"Notebook to get started\"\n",
    "\n",
    "- toc: true\n",
    "- branch: master\n",
    "- badges: true\n",
    "- comments: true\n",
    "- author: Ashutosh Sanzgiri\n",
    "- categories: [covid]"
   ]
  },
  {
   "cell_type": "code",
   "execution_count": 1,
   "metadata": {
    "execution": {
     "iopub.execute_input": "2020-04-23T04:22:17.095237Z",
     "iopub.status.busy": "2020-04-23T04:22:17.094600Z",
     "iopub.status.idle": "2020-04-23T04:22:17.972325Z",
     "shell.execute_reply": "2020-04-23T04:22:17.969402Z"
    },
    "papermill": {
     "duration": 0.902725,
     "end_time": "2020-04-23T04:22:17.972511",
     "exception": false,
     "start_time": "2020-04-23T04:22:17.069786",
     "status": "completed"
    },
    "tags": []
   },
   "outputs": [],
   "source": [
    "#hide\n",
    "import pandas as pd\n",
    "import seaborn as sns\n",
    "import matplotlib.pyplot as plt"
   ]
  },
  {
   "cell_type": "code",
   "execution_count": 2,
   "metadata": {
    "execution": {
     "iopub.execute_input": "2020-04-23T04:22:18.021993Z",
     "iopub.status.busy": "2020-04-23T04:22:18.020781Z",
     "iopub.status.idle": "2020-04-23T04:22:18.683164Z",
     "shell.execute_reply": "2020-04-23T04:22:18.682451Z"
    },
    "papermill": {
     "duration": 0.69114,
     "end_time": "2020-04-23T04:22:18.683286",
     "exception": false,
     "start_time": "2020-04-23T04:22:17.992146",
     "status": "completed"
    },
    "tags": []
   },
   "outputs": [],
   "source": [
    "#hide\n",
    "df = pd.read_csv('http://covidtracking.com/api/states/daily.csv')\n",
    "states = df.state.unique()\n",
    "\n",
    "dfk = pd.DataFrame()\n",
    "for s in states:\n",
    "    dfs = df[df.state==s].copy()\n",
    "    dfs['tested'] = dfs['positive'] + dfs['negative']\n",
    "    dfs['daily_positive_increase'] = dfs['positive'].diff(periods=-1)\n",
    "    dfs['daily_death_increase'] = dfs['death'].diff(periods=-1)\n",
    "    dfs['daily_tested_increase'] = dfs['tested'].diff(periods=-1)\n",
    "    dfk = dfk.append(dfs)\n",
    "    \n",
    "dfk = dfk.fillna(0)\n",
    "df_la = dfk[dfk.state==\"LA\"]"
   ]
  },
  {
   "cell_type": "code",
   "execution_count": 3,
   "metadata": {
    "execution": {
     "iopub.execute_input": "2020-04-23T04:22:18.746566Z",
     "iopub.status.busy": "2020-04-23T04:22:18.741192Z",
     "iopub.status.idle": "2020-04-23T04:22:18.763378Z",
     "shell.execute_reply": "2020-04-23T04:22:18.762850Z"
    },
    "papermill": {
     "duration": 0.059872,
     "end_time": "2020-04-23T04:22:18.763502",
     "exception": false,
     "start_time": "2020-04-23T04:22:18.703630",
     "status": "completed"
    },
    "tags": []
   },
   "outputs": [
    {
     "data": {
      "text/html": [
       "<div>\n",
       "<style scoped>\n",
       "    .dataframe tbody tr th:only-of-type {\n",
       "        vertical-align: middle;\n",
       "    }\n",
       "\n",
       "    .dataframe tbody tr th {\n",
       "        vertical-align: top;\n",
       "    }\n",
       "\n",
       "    .dataframe thead th {\n",
       "        text-align: right;\n",
       "    }\n",
       "</style>\n",
       "<table border=\"1\" class=\"dataframe\">\n",
       "  <thead>\n",
       "    <tr style=\"text-align: right;\">\n",
       "      <th></th>\n",
       "      <th>date</th>\n",
       "      <th>state</th>\n",
       "      <th>positive</th>\n",
       "      <th>negative</th>\n",
       "      <th>pending</th>\n",
       "      <th>hospitalizedCurrently</th>\n",
       "      <th>hospitalizedCumulative</th>\n",
       "      <th>inIcuCurrently</th>\n",
       "      <th>inIcuCumulative</th>\n",
       "      <th>onVentilatorCurrently</th>\n",
       "      <th>...</th>\n",
       "      <th>fips</th>\n",
       "      <th>deathIncrease</th>\n",
       "      <th>hospitalizedIncrease</th>\n",
       "      <th>negativeIncrease</th>\n",
       "      <th>positiveIncrease</th>\n",
       "      <th>totalTestResultsIncrease</th>\n",
       "      <th>tested</th>\n",
       "      <th>daily_positive_increase</th>\n",
       "      <th>daily_death_increase</th>\n",
       "      <th>daily_tested_increase</th>\n",
       "    </tr>\n",
       "  </thead>\n",
       "  <tbody>\n",
       "    <tr>\n",
       "      <th>20</th>\n",
       "      <td>20200422</td>\n",
       "      <td>LA</td>\n",
       "      <td>25258.0</td>\n",
       "      <td>117576.0</td>\n",
       "      <td>0.0</td>\n",
       "      <td>1747.0</td>\n",
       "      <td>0.0</td>\n",
       "      <td>0.0</td>\n",
       "      <td>0.0</td>\n",
       "      <td>287.0</td>\n",
       "      <td>...</td>\n",
       "      <td>22</td>\n",
       "      <td>68.0</td>\n",
       "      <td>0.0</td>\n",
       "      <td>0.0</td>\n",
       "      <td>404.0</td>\n",
       "      <td>404.0</td>\n",
       "      <td>142834.0</td>\n",
       "      <td>404.0</td>\n",
       "      <td>68.0</td>\n",
       "      <td>404.0</td>\n",
       "    </tr>\n",
       "    <tr>\n",
       "      <th>76</th>\n",
       "      <td>20200421</td>\n",
       "      <td>LA</td>\n",
       "      <td>24854.0</td>\n",
       "      <td>117576.0</td>\n",
       "      <td>0.0</td>\n",
       "      <td>1798.0</td>\n",
       "      <td>0.0</td>\n",
       "      <td>0.0</td>\n",
       "      <td>0.0</td>\n",
       "      <td>297.0</td>\n",
       "      <td>...</td>\n",
       "      <td>22</td>\n",
       "      <td>77.0</td>\n",
       "      <td>0.0</td>\n",
       "      <td>0.0</td>\n",
       "      <td>331.0</td>\n",
       "      <td>331.0</td>\n",
       "      <td>142430.0</td>\n",
       "      <td>331.0</td>\n",
       "      <td>77.0</td>\n",
       "      <td>331.0</td>\n",
       "    </tr>\n",
       "    <tr>\n",
       "      <th>132</th>\n",
       "      <td>20200420</td>\n",
       "      <td>LA</td>\n",
       "      <td>24523.0</td>\n",
       "      <td>117576.0</td>\n",
       "      <td>0.0</td>\n",
       "      <td>1794.0</td>\n",
       "      <td>0.0</td>\n",
       "      <td>0.0</td>\n",
       "      <td>0.0</td>\n",
       "      <td>332.0</td>\n",
       "      <td>...</td>\n",
       "      <td>22</td>\n",
       "      <td>32.0</td>\n",
       "      <td>0.0</td>\n",
       "      <td>0.0</td>\n",
       "      <td>595.0</td>\n",
       "      <td>595.0</td>\n",
       "      <td>142099.0</td>\n",
       "      <td>595.0</td>\n",
       "      <td>32.0</td>\n",
       "      <td>595.0</td>\n",
       "    </tr>\n",
       "    <tr>\n",
       "      <th>188</th>\n",
       "      <td>20200419</td>\n",
       "      <td>LA</td>\n",
       "      <td>23928.0</td>\n",
       "      <td>117576.0</td>\n",
       "      <td>0.0</td>\n",
       "      <td>1748.0</td>\n",
       "      <td>0.0</td>\n",
       "      <td>0.0</td>\n",
       "      <td>0.0</td>\n",
       "      <td>349.0</td>\n",
       "      <td>...</td>\n",
       "      <td>22</td>\n",
       "      <td>29.0</td>\n",
       "      <td>0.0</td>\n",
       "      <td>3157.0</td>\n",
       "      <td>348.0</td>\n",
       "      <td>3505.0</td>\n",
       "      <td>141504.0</td>\n",
       "      <td>348.0</td>\n",
       "      <td>29.0</td>\n",
       "      <td>3505.0</td>\n",
       "    </tr>\n",
       "    <tr>\n",
       "      <th>244</th>\n",
       "      <td>20200418</td>\n",
       "      <td>LA</td>\n",
       "      <td>23580.0</td>\n",
       "      <td>114419.0</td>\n",
       "      <td>0.0</td>\n",
       "      <td>1761.0</td>\n",
       "      <td>0.0</td>\n",
       "      <td>0.0</td>\n",
       "      <td>0.0</td>\n",
       "      <td>347.0</td>\n",
       "      <td>...</td>\n",
       "      <td>22</td>\n",
       "      <td>54.0</td>\n",
       "      <td>0.0</td>\n",
       "      <td>5550.0</td>\n",
       "      <td>462.0</td>\n",
       "      <td>6012.0</td>\n",
       "      <td>137999.0</td>\n",
       "      <td>462.0</td>\n",
       "      <td>54.0</td>\n",
       "      <td>6012.0</td>\n",
       "    </tr>\n",
       "  </tbody>\n",
       "</table>\n",
       "<p>5 rows × 29 columns</p>\n",
       "</div>"
      ],
      "text/plain": [
       "         date state  positive  negative  pending  hospitalizedCurrently  \\\n",
       "20   20200422    LA   25258.0  117576.0      0.0                 1747.0   \n",
       "76   20200421    LA   24854.0  117576.0      0.0                 1798.0   \n",
       "132  20200420    LA   24523.0  117576.0      0.0                 1794.0   \n",
       "188  20200419    LA   23928.0  117576.0      0.0                 1748.0   \n",
       "244  20200418    LA   23580.0  114419.0      0.0                 1761.0   \n",
       "\n",
       "     hospitalizedCumulative  inIcuCurrently  inIcuCumulative  \\\n",
       "20                      0.0             0.0              0.0   \n",
       "76                      0.0             0.0              0.0   \n",
       "132                     0.0             0.0              0.0   \n",
       "188                     0.0             0.0              0.0   \n",
       "244                     0.0             0.0              0.0   \n",
       "\n",
       "     onVentilatorCurrently  ...  fips  deathIncrease hospitalizedIncrease  \\\n",
       "20                   287.0  ...    22           68.0                  0.0   \n",
       "76                   297.0  ...    22           77.0                  0.0   \n",
       "132                  332.0  ...    22           32.0                  0.0   \n",
       "188                  349.0  ...    22           29.0                  0.0   \n",
       "244                  347.0  ...    22           54.0                  0.0   \n",
       "\n",
       "    negativeIncrease  positiveIncrease  totalTestResultsIncrease    tested  \\\n",
       "20               0.0             404.0                     404.0  142834.0   \n",
       "76               0.0             331.0                     331.0  142430.0   \n",
       "132              0.0             595.0                     595.0  142099.0   \n",
       "188           3157.0             348.0                    3505.0  141504.0   \n",
       "244           5550.0             462.0                    6012.0  137999.0   \n",
       "\n",
       "     daily_positive_increase  daily_death_increase  daily_tested_increase  \n",
       "20                     404.0                  68.0                  404.0  \n",
       "76                     331.0                  77.0                  331.0  \n",
       "132                    595.0                  32.0                  595.0  \n",
       "188                    348.0                  29.0                 3505.0  \n",
       "244                    462.0                  54.0                 6012.0  \n",
       "\n",
       "[5 rows x 29 columns]"
      ]
     },
     "execution_count": 3,
     "metadata": {},
     "output_type": "execute_result"
    }
   ],
   "source": [
    "#hide_input\n",
    "df_la.head()"
   ]
  },
  {
   "cell_type": "code",
   "execution_count": 4,
   "metadata": {
    "execution": {
     "iopub.execute_input": "2020-04-23T04:22:18.882031Z",
     "iopub.status.busy": "2020-04-23T04:22:18.877007Z",
     "iopub.status.idle": "2020-04-23T04:22:19.797830Z",
     "shell.execute_reply": "2020-04-23T04:22:19.796841Z"
    },
    "papermill": {
     "duration": 1.01106,
     "end_time": "2020-04-23T04:22:19.797953",
     "exception": false,
     "start_time": "2020-04-23T04:22:18.786893",
     "status": "completed"
    },
    "tags": []
   },
   "outputs": [
    {
     "data": {
      "image/png": "[encoded data removed]",
      "text/plain": [
       "<Figure size 842.4x595.44 with 1 Axes>"
      ]
     },
     "metadata": {},
     "output_type": "display_data"
    }
   ],
   "source": [
    "#hide_input\n",
    "sns.set(rc={'figure.figsize':(11.7,8.27)})\n",
    "ax = sns.barplot(x='date', y= 'daily_positive_increase', data=df_la)\n",
    "ax.set_xticklabels(ax.get_xticklabels(), rotation=40, ha=\"right\")\n",
    "plt.tight_layout()\n",
    "plt.show()"
   ]
  },
  {
   "cell_type": "code",
   "execution_count": 5,
   "metadata": {
    "execution": {
     "iopub.execute_input": "2020-04-23T04:22:19.857414Z",
     "iopub.status.busy": "2020-04-23T04:22:19.856571Z",
     "iopub.status.idle": "2020-04-23T04:22:19.859643Z",
     "shell.execute_reply": "2020-04-23T04:22:19.860113Z"
    },
    "papermill": {
     "duration": 0.038946,
     "end_time": "2020-04-23T04:22:19.860251",
     "exception": false,
     "start_time": "2020-04-23T04:22:19.821305",
     "status": "completed"
    },
    "tags": []
   },
   "outputs": [
    {
     "data": {
      "text/plain": [
       "date                                                        20200422\n",
       "state                                                             OR\n",
       "positive                                                        2059\n",
       "negative                                                       39126\n",
       "pending                                                            0\n",
       "hospitalizedCurrently                                            302\n",
       "hospitalizedCumulative                                           488\n",
       "inIcuCurrently                                                    67\n",
       "inIcuCumulative                                                    0\n",
       "onVentilatorCurrently                                             35\n",
       "onVentilatorCumulative                                             0\n",
       "recovered                                                          0\n",
       "hash                        204c027327e97ea0cd4d1647f6ae8dc4169eeff0\n",
       "dateChecked                                     2020-04-22T20:00:00Z\n",
       "death                                                             78\n",
       "hospitalized                                                     488\n",
       "total                                                          41185\n",
       "totalTestResults                                               41185\n",
       "posNeg                                                         41185\n",
       "fips                                                              41\n",
       "deathIncrease                                                      0\n",
       "hospitalizedIncrease                                              17\n",
       "negativeIncrease                                                   0\n",
       "positiveIncrease                                                  57\n",
       "totalTestResultsIncrease                                          57\n",
       "tested                                                         41185\n",
       "daily_positive_increase                                           57\n",
       "daily_death_increase                                               0\n",
       "daily_tested_increase                                             57\n",
       "Name: 40, dtype: object"
      ]
     },
     "execution_count": 5,
     "metadata": {},
     "output_type": "execute_result"
    }
   ],
   "source": [
    "#hide\n",
    "dfk[dfk.state==\"OR\"].iloc[0]"
   ]
  },
  {
   "cell_type": "code",
   "execution_count": 6,
   "metadata": {
    "execution": {
     "iopub.execute_input": "2020-04-23T04:22:19.909388Z",
     "iopub.status.busy": "2020-04-23T04:22:19.908724Z",
     "iopub.status.idle": "2020-04-23T04:22:20.030900Z",
     "shell.execute_reply": "2020-04-23T04:22:20.030350Z"
    },
    "papermill": {
     "duration": 0.149088,
     "end_time": "2020-04-23T04:22:20.031507",
     "exception": false,
     "start_time": "2020-04-23T04:22:19.882419",
     "status": "completed"
    },
    "tags": []
   },
   "outputs": [],
   "source": [
    "#collapse-hide\n",
    "import pandas as pd\n",
    "import datetime\n",
    "base_url=\"https://raw.githubusercontent.com/CSSEGISandData/COVID-19/master/csse_covid_19_data/csse_covid_19_daily_reports/\"\n",
    "yesterday = f\"{datetime.datetime.now() - datetime.timedelta(days=1):%m-%d-%Y}\"\n",
    "full_url = f\"{base_url}{yesterday}.csv\"\n",
    "df = pd.read_csv(full_url)"
   ]
  },
  {
   "cell_type": "code",
   "execution_count": 7,
   "metadata": {
    "execution": {
     "iopub.execute_input": "2020-04-23T04:22:20.104162Z",
     "iopub.status.busy": "2020-04-23T04:22:20.102622Z",
     "iopub.status.idle": "2020-04-23T04:22:20.108508Z",
     "shell.execute_reply": "2020-04-23T04:22:20.109038Z"
    },
    "papermill": {
     "duration": 0.050432,
     "end_time": "2020-04-23T04:22:20.109181",
     "exception": false,
     "start_time": "2020-04-23T04:22:20.058749",
     "status": "completed"
    },
    "tags": []
   },
   "outputs": [
    {
     "data": {
      "text/html": [
       "<div>\n",
       "<style scoped>\n",
       "    .dataframe tbody tr th:only-of-type {\n",
       "        vertical-align: middle;\n",
       "    }\n",
       "\n",
       "    .dataframe tbody tr th {\n",
       "        vertical-align: top;\n",
       "    }\n",
       "\n",
       "    .dataframe thead th {\n",
       "        text-align: right;\n",
       "    }\n",
       "</style>\n",
       "<table border=\"1\" class=\"dataframe\">\n",
       "  <thead>\n",
       "    <tr style=\"text-align: right;\">\n",
       "      <th></th>\n",
       "      <th>FIPS</th>\n",
       "      <th>Admin2</th>\n",
       "      <th>Province_State</th>\n",
       "      <th>Country_Region</th>\n",
       "      <th>Last_Update</th>\n",
       "      <th>Lat</th>\n",
       "      <th>Long_</th>\n",
       "      <th>Confirmed</th>\n",
       "      <th>Deaths</th>\n",
       "      <th>Recovered</th>\n",
       "      <th>Active</th>\n",
       "      <th>Combined_Key</th>\n",
       "    </tr>\n",
       "  </thead>\n",
       "  <tbody>\n",
       "    <tr>\n",
       "      <th>0</th>\n",
       "      <td>45001.0</td>\n",
       "      <td>Abbeville</td>\n",
       "      <td>South Carolina</td>\n",
       "      <td>US</td>\n",
       "      <td>2020-04-22 23:30:53</td>\n",
       "      <td>34.223334</td>\n",
       "      <td>-82.461707</td>\n",
       "      <td>22</td>\n",
       "      <td>0</td>\n",
       "      <td>0</td>\n",
       "      <td>22</td>\n",
       "      <td>Abbeville, South Carolina, US</td>\n",
       "    </tr>\n",
       "    <tr>\n",
       "      <th>1</th>\n",
       "      <td>22001.0</td>\n",
       "      <td>Acadia</td>\n",
       "      <td>Louisiana</td>\n",
       "      <td>US</td>\n",
       "      <td>2020-04-22 23:30:53</td>\n",
       "      <td>30.295065</td>\n",
       "      <td>-92.414197</td>\n",
       "      <td>117</td>\n",
       "      <td>7</td>\n",
       "      <td>0</td>\n",
       "      <td>110</td>\n",
       "      <td>Acadia, Louisiana, US</td>\n",
       "    </tr>\n",
       "    <tr>\n",
       "      <th>2</th>\n",
       "      <td>51001.0</td>\n",
       "      <td>Accomack</td>\n",
       "      <td>Virginia</td>\n",
       "      <td>US</td>\n",
       "      <td>2020-04-22 23:30:53</td>\n",
       "      <td>37.767072</td>\n",
       "      <td>-75.632346</td>\n",
       "      <td>59</td>\n",
       "      <td>1</td>\n",
       "      <td>0</td>\n",
       "      <td>58</td>\n",
       "      <td>Accomack, Virginia, US</td>\n",
       "    </tr>\n",
       "    <tr>\n",
       "      <th>3</th>\n",
       "      <td>16001.0</td>\n",
       "      <td>Ada</td>\n",
       "      <td>Idaho</td>\n",
       "      <td>US</td>\n",
       "      <td>2020-04-22 23:30:53</td>\n",
       "      <td>43.452658</td>\n",
       "      <td>-116.241552</td>\n",
       "      <td>622</td>\n",
       "      <td>12</td>\n",
       "      <td>0</td>\n",
       "      <td>610</td>\n",
       "      <td>Ada, Idaho, US</td>\n",
       "    </tr>\n",
       "    <tr>\n",
       "      <th>4</th>\n",
       "      <td>19001.0</td>\n",
       "      <td>Adair</td>\n",
       "      <td>Iowa</td>\n",
       "      <td>US</td>\n",
       "      <td>2020-04-22 23:30:53</td>\n",
       "      <td>41.330756</td>\n",
       "      <td>-94.471059</td>\n",
       "      <td>1</td>\n",
       "      <td>0</td>\n",
       "      <td>0</td>\n",
       "      <td>1</td>\n",
       "      <td>Adair, Iowa, US</td>\n",
       "    </tr>\n",
       "  </tbody>\n",
       "</table>\n",
       "</div>"
      ],
      "text/plain": [
       "      FIPS     Admin2  Province_State Country_Region          Last_Update  \\\n",
       "0  45001.0  Abbeville  South Carolina             US  2020-04-22 23:30:53   \n",
       "1  22001.0     Acadia       Louisiana             US  2020-04-22 23:30:53   \n",
       "2  51001.0   Accomack        Virginia             US  2020-04-22 23:30:53   \n",
       "3  16001.0        Ada           Idaho             US  2020-04-22 23:30:53   \n",
       "4  19001.0      Adair            Iowa             US  2020-04-22 23:30:53   \n",
       "\n",
       "         Lat       Long_  Confirmed  Deaths  Recovered  Active  \\\n",
       "0  34.223334  -82.461707         22       0          0      22   \n",
       "1  30.295065  -92.414197        117       7          0     110   \n",
       "2  37.767072  -75.632346         59       1          0      58   \n",
       "3  43.452658 -116.241552        622      12          0     610   \n",
       "4  41.330756  -94.471059          1       0          0       1   \n",
       "\n",
       "                    Combined_Key  \n",
       "0  Abbeville, South Carolina, US  \n",
       "1          Acadia, Louisiana, US  \n",
       "2         Accomack, Virginia, US  \n",
       "3                 Ada, Idaho, US  \n",
       "4                Adair, Iowa, US  "
      ]
     },
     "execution_count": 7,
     "metadata": {},
     "output_type": "execute_result"
    }
   ],
   "source": [
    "#hide_input\n",
    "df.head()"
   ]
  },
  {
   "cell_type": "code",
   "execution_count": 8,
   "metadata": {
    "execution": {
     "iopub.execute_input": "2020-04-23T04:22:20.162416Z",
     "iopub.status.busy": "2020-04-23T04:22:20.161044Z",
     "iopub.status.idle": "2020-04-23T04:22:20.164240Z",
     "shell.execute_reply": "2020-04-23T04:22:20.164706Z"
    },
    "papermill": {
     "duration": 0.033596,
     "end_time": "2020-04-23T04:22:20.165042",
     "exception": false,
     "start_time": "2020-04-23T04:22:20.131446",
     "status": "completed"
    },
    "tags": []
   },
   "outputs": [
    {
     "data": {
      "text/plain": [
       "2059"
      ]
     },
     "execution_count": 8,
     "metadata": {},
     "output_type": "execute_result"
    }
   ],
   "source": [
    "df[df.Province_State==\"Oregon\"]['Confirmed'].sum()"
   ]
  },
  {
   "cell_type": "code",
   "execution_count": 9,
   "metadata": {
    "execution": {
     "iopub.execute_input": "2020-04-23T04:22:20.226040Z",
     "iopub.status.busy": "2020-04-23T04:22:20.225171Z",
     "iopub.status.idle": "2020-04-23T04:22:21.516031Z",
     "shell.execute_reply": "2020-04-23T04:22:21.515007Z"
    },
    "papermill": {
     "duration": 1.325644,
     "end_time": "2020-04-23T04:22:21.516159",
     "exception": false,
     "start_time": "2020-04-23T04:22:20.190515",
     "status": "completed"
    },
    "tags": []
   },
   "outputs": [
    {
     "name": "stdout",
     "output_type": "stream",
     "text": [
      "Requirement already satisfied: seaborn in /opt/hostedtoolcache/Python/3.6.10/x64/lib/python3.6/site-packages (0.10.0)\r\n",
      "Requirement already satisfied: pandas>=0.22.0 in /opt/hostedtoolcache/Python/3.6.10/x64/lib/python3.6/site-packages (from seaborn) (1.0.3)\r\n",
      "Requirement already satisfied: numpy>=1.13.3 in /opt/hostedtoolcache/Python/3.6.10/x64/lib/python3.6/site-packages (from seaborn) (1.18.3)\r\n",
      "Requirement already satisfied: scipy>=1.0.1 in /opt/hostedtoolcache/Python/3.6.10/x64/lib/python3.6/site-packages (from seaborn) (1.4.1)\r\n",
      "Requirement already satisfied: matplotlib>=2.1.2 in /opt/hostedtoolcache/Python/3.6.10/x64/lib/python3.6/site-packages (from seaborn) (3.2.1)\r\n",
      "Requirement already satisfied: pytz>=2017.2 in /opt/hostedtoolcache/Python/3.6.10/x64/lib/python3.6/site-packages (from pandas>=0.22.0->seaborn) (2019.3)\r\n",
      "Requirement already satisfied: python-dateutil>=2.6.1 in /opt/hostedtoolcache/Python/3.6.10/x64/lib/python3.6/site-packages (from pandas>=0.22.0->seaborn) (2.8.1)\r\n"
     ]
    },
    {
     "name": "stdout",
     "output_type": "stream",
     "text": [
      "Requirement already satisfied: cycler>=0.10 in /opt/hostedtoolcache/Python/3.6.10/x64/lib/python3.6/site-packages (from matplotlib>=2.1.2->seaborn) (0.10.0)\r\n",
      "Requirement already satisfied: kiwisolver>=1.0.1 in /opt/hostedtoolcache/Python/3.6.10/x64/lib/python3.6/site-packages (from matplotlib>=2.1.2->seaborn) (1.2.0)\r\n",
      "Requirement already satisfied: pyparsing!=2.0.4,!=2.1.2,!=2.1.6,>=2.0.1 in /opt/hostedtoolcache/Python/3.6.10/x64/lib/python3.6/site-packages (from matplotlib>=2.1.2->seaborn) (2.4.7)\r\n",
      "Requirement already satisfied: six>=1.5 in /opt/hostedtoolcache/Python/3.6.10/x64/lib/python3.6/site-packages (from python-dateutil>=2.6.1->pandas>=0.22.0->seaborn) (1.14.0)\r\n"
     ]
    }
   ],
   "source": [
    "#hide\n",
    "!pip install seaborn"
   ]
  },
  {
   "cell_type": "code",
   "execution_count": 10,
   "metadata": {
    "execution": {
     "iopub.execute_input": "2020-04-23T04:22:21.569807Z",
     "iopub.status.busy": "2020-04-23T04:22:21.569047Z",
     "iopub.status.idle": "2020-04-23T04:22:21.659985Z",
     "shell.execute_reply": "2020-04-23T04:22:21.659325Z"
    },
    "papermill": {
     "duration": 0.119943,
     "end_time": "2020-04-23T04:22:21.660111",
     "exception": false,
     "start_time": "2020-04-23T04:22:21.540168",
     "status": "completed"
    },
    "tags": []
   },
   "outputs": [],
   "source": [
    "import pandas as pd\n",
    "import datetime\n",
    "base_url=\"https://github.com/CSSEGISandData/COVID-19/raw/master/csse_covid_19_data/csse_covid_19_time_series/time_series_covid19_confirmed_global.csv\"\n",
    "df = pd.read_csv(base_url)"
   ]
  },
  {
   "cell_type": "code",
   "execution_count": 11,
   "metadata": {
    "execution": {
     "iopub.execute_input": "2020-04-23T04:22:21.715206Z",
     "iopub.status.busy": "2020-04-23T04:22:21.714530Z",
     "iopub.status.idle": "2020-04-23T04:22:21.727486Z",
     "shell.execute_reply": "2020-04-23T04:22:21.727963Z"
    },
    "papermill": {
     "duration": 0.044931,
     "end_time": "2020-04-23T04:22:21.728117",
     "exception": false,
     "start_time": "2020-04-23T04:22:21.683186",
     "status": "completed"
    },
    "tags": []
   },
   "outputs": [],
   "source": [
    "df = df.drop(['Lat', 'Long'], axis=1)"
   ]
  },
  {
   "cell_type": "code",
   "execution_count": 12,
   "metadata": {
    "execution": {
     "iopub.execute_input": "2020-04-23T04:22:21.786883Z",
     "iopub.status.busy": "2020-04-23T04:22:21.786254Z",
     "iopub.status.idle": "2020-04-23T04:22:21.787760Z",
     "shell.execute_reply": "2020-04-23T04:22:21.788225Z"
    },
    "papermill": {
     "duration": 0.033792,
     "end_time": "2020-04-23T04:22:21.788371",
     "exception": false,
     "start_time": "2020-04-23T04:22:21.754579",
     "status": "completed"
    },
    "tags": []
   },
   "outputs": [],
   "source": [
    "ncountries = sorted(df['Country/Region'].unique().tolist())"
   ]
  },
  {
   "cell_type": "code",
   "execution_count": 13,
   "metadata": {
    "execution": {
     "iopub.execute_input": "2020-04-23T04:22:21.852581Z",
     "iopub.status.busy": "2020-04-23T04:22:21.852010Z",
     "iopub.status.idle": "2020-04-23T04:22:21.854604Z",
     "shell.execute_reply": "2020-04-23T04:22:21.855049Z"
    },
    "papermill": {
     "duration": 0.039627,
     "end_time": "2020-04-23T04:22:21.855194",
     "exception": false,
     "start_time": "2020-04-23T04:22:21.815567",
     "status": "completed"
    },
    "tags": []
   },
   "outputs": [],
   "source": [
    "#ncountries"
   ]
  },
  {
   "cell_type": "code",
   "execution_count": 14,
   "metadata": {
    "execution": {
     "iopub.execute_input": "2020-04-23T04:22:21.935993Z",
     "iopub.status.busy": "2020-04-23T04:22:21.918688Z",
     "iopub.status.idle": "2020-04-23T04:22:23.199724Z",
     "shell.execute_reply": "2020-04-23T04:22:23.199196Z"
    },
    "papermill": {
     "duration": 1.318217,
     "end_time": "2020-04-23T04:22:23.199851",
     "exception": false,
     "start_time": "2020-04-23T04:22:21.881634",
     "status": "completed"
    },
    "tags": []
   },
   "outputs": [],
   "source": [
    "dfa = pd.DataFrame()\n",
    "for i, country in enumerate(ncountries):\n",
    "    dfc = df[df['Country/Region'] == country].copy()\n",
    "    if len(dfc) > 1:\n",
    "        dfc = dfc.drop(['Province/State'], axis=1).groupby('Country/Region').sum().reset_index()\n",
    "    else:\n",
    "        dfc = dfc.drop(['Province/State'], axis=1)\n",
    "    dfc2 = dfc.melt(id_vars=[\"Country/Region\"], \n",
    "                        var_name=\"Date\",\n",
    "                        value_name=\"cases\")\n",
    "    dfc2 = dfc2.rename({'Country/Region': 'country'}, axis=1)\n",
    "    dfa = dfa.append(dfc2)"
   ]
  },
  {
   "cell_type": "code",
   "execution_count": 15,
   "metadata": {
    "execution": {
     "iopub.execute_input": "2020-04-23T04:22:23.268314Z",
     "iopub.status.busy": "2020-04-23T04:22:23.267698Z",
     "iopub.status.idle": "2020-04-23T04:22:23.274123Z",
     "shell.execute_reply": "2020-04-23T04:22:23.273515Z"
    },
    "papermill": {
     "duration": 0.049494,
     "end_time": "2020-04-23T04:22:23.274254",
     "exception": false,
     "start_time": "2020-04-23T04:22:23.224760",
     "status": "completed"
    },
    "tags": []
   },
   "outputs": [
    {
     "data": {
      "text/html": [
       "<div>\n",
       "<style scoped>\n",
       "    .dataframe tbody tr th:only-of-type {\n",
       "        vertical-align: middle;\n",
       "    }\n",
       "\n",
       "    .dataframe tbody tr th {\n",
       "        vertical-align: top;\n",
       "    }\n",
       "\n",
       "    .dataframe thead th {\n",
       "        text-align: right;\n",
       "    }\n",
       "</style>\n",
       "<table border=\"1\" class=\"dataframe\">\n",
       "  <thead>\n",
       "    <tr style=\"text-align: right;\">\n",
       "      <th></th>\n",
       "      <th>country</th>\n",
       "      <th>Date</th>\n",
       "      <th>cases</th>\n",
       "    </tr>\n",
       "  </thead>\n",
       "  <tbody>\n",
       "    <tr>\n",
       "      <th>72</th>\n",
       "      <td>France</td>\n",
       "      <td>4/3/20</td>\n",
       "      <td>65202</td>\n",
       "    </tr>\n",
       "    <tr>\n",
       "      <th>73</th>\n",
       "      <td>France</td>\n",
       "      <td>4/4/20</td>\n",
       "      <td>69500</td>\n",
       "    </tr>\n",
       "    <tr>\n",
       "      <th>74</th>\n",
       "      <td>France</td>\n",
       "      <td>4/5/20</td>\n",
       "      <td>71412</td>\n",
       "    </tr>\n",
       "    <tr>\n",
       "      <th>75</th>\n",
       "      <td>France</td>\n",
       "      <td>4/6/20</td>\n",
       "      <td>75343</td>\n",
       "    </tr>\n",
       "    <tr>\n",
       "      <th>76</th>\n",
       "      <td>France</td>\n",
       "      <td>4/7/20</td>\n",
       "      <td>79163</td>\n",
       "    </tr>\n",
       "    <tr>\n",
       "      <th>77</th>\n",
       "      <td>France</td>\n",
       "      <td>4/8/20</td>\n",
       "      <td>83057</td>\n",
       "    </tr>\n",
       "    <tr>\n",
       "      <th>78</th>\n",
       "      <td>France</td>\n",
       "      <td>4/9/20</td>\n",
       "      <td>87366</td>\n",
       "    </tr>\n",
       "    <tr>\n",
       "      <th>79</th>\n",
       "      <td>France</td>\n",
       "      <td>4/10/20</td>\n",
       "      <td>91738</td>\n",
       "    </tr>\n",
       "    <tr>\n",
       "      <th>80</th>\n",
       "      <td>France</td>\n",
       "      <td>4/11/20</td>\n",
       "      <td>94863</td>\n",
       "    </tr>\n",
       "    <tr>\n",
       "      <th>81</th>\n",
       "      <td>France</td>\n",
       "      <td>4/12/20</td>\n",
       "      <td>121712</td>\n",
       "    </tr>\n",
       "    <tr>\n",
       "      <th>82</th>\n",
       "      <td>France</td>\n",
       "      <td>4/13/20</td>\n",
       "      <td>125394</td>\n",
       "    </tr>\n",
       "    <tr>\n",
       "      <th>83</th>\n",
       "      <td>France</td>\n",
       "      <td>4/14/20</td>\n",
       "      <td>131361</td>\n",
       "    </tr>\n",
       "    <tr>\n",
       "      <th>84</th>\n",
       "      <td>France</td>\n",
       "      <td>4/15/20</td>\n",
       "      <td>134582</td>\n",
       "    </tr>\n",
       "    <tr>\n",
       "      <th>85</th>\n",
       "      <td>France</td>\n",
       "      <td>4/16/20</td>\n",
       "      <td>147091</td>\n",
       "    </tr>\n",
       "    <tr>\n",
       "      <th>86</th>\n",
       "      <td>France</td>\n",
       "      <td>4/17/20</td>\n",
       "      <td>149130</td>\n",
       "    </tr>\n",
       "    <tr>\n",
       "      <th>87</th>\n",
       "      <td>France</td>\n",
       "      <td>4/18/20</td>\n",
       "      <td>149149</td>\n",
       "    </tr>\n",
       "    <tr>\n",
       "      <th>88</th>\n",
       "      <td>France</td>\n",
       "      <td>4/19/20</td>\n",
       "      <td>154097</td>\n",
       "    </tr>\n",
       "    <tr>\n",
       "      <th>89</th>\n",
       "      <td>France</td>\n",
       "      <td>4/20/20</td>\n",
       "      <td>156480</td>\n",
       "    </tr>\n",
       "    <tr>\n",
       "      <th>90</th>\n",
       "      <td>France</td>\n",
       "      <td>4/21/20</td>\n",
       "      <td>159297</td>\n",
       "    </tr>\n",
       "    <tr>\n",
       "      <th>91</th>\n",
       "      <td>France</td>\n",
       "      <td>4/22/20</td>\n",
       "      <td>157125</td>\n",
       "    </tr>\n",
       "  </tbody>\n",
       "</table>\n",
       "</div>"
      ],
      "text/plain": [
       "   country     Date   cases\n",
       "72  France   4/3/20   65202\n",
       "73  France   4/4/20   69500\n",
       "74  France   4/5/20   71412\n",
       "75  France   4/6/20   75343\n",
       "76  France   4/7/20   79163\n",
       "77  France   4/8/20   83057\n",
       "78  France   4/9/20   87366\n",
       "79  France  4/10/20   91738\n",
       "80  France  4/11/20   94863\n",
       "81  France  4/12/20  121712\n",
       "82  France  4/13/20  125394\n",
       "83  France  4/14/20  131361\n",
       "84  France  4/15/20  134582\n",
       "85  France  4/16/20  147091\n",
       "86  France  4/17/20  149130\n",
       "87  France  4/18/20  149149\n",
       "88  France  4/19/20  154097\n",
       "89  France  4/20/20  156480\n",
       "90  France  4/21/20  159297\n",
       "91  France  4/22/20  157125"
      ]
     },
     "execution_count": 15,
     "metadata": {},
     "output_type": "execute_result"
    }
   ],
   "source": [
    "dfa[dfa.country==\"France\"].tail(20)"
   ]
  },
  {
   "cell_type": "code",
   "execution_count": 16,
   "metadata": {
    "execution": {
     "iopub.execute_input": "2020-04-23T04:22:23.328018Z",
     "iopub.status.busy": "2020-04-23T04:22:23.326706Z",
     "iopub.status.idle": "2020-04-23T04:22:23.330203Z",
     "shell.execute_reply": "2020-04-23T04:22:23.330681Z"
    },
    "papermill": {
     "duration": 0.032185,
     "end_time": "2020-04-23T04:22:23.330813",
     "exception": false,
     "start_time": "2020-04-23T04:22:23.298628",
     "status": "completed"
    },
    "tags": []
   },
   "outputs": [
    {
     "data": {
      "text/plain": [
       "185"
      ]
     },
     "execution_count": 16,
     "metadata": {},
     "output_type": "execute_result"
    }
   ],
   "source": [
    "dfa.country.nunique()"
   ]
  },
  {
   "cell_type": "code",
   "execution_count": 17,
   "metadata": {
    "execution": {
     "iopub.execute_input": "2020-04-23T04:22:23.389646Z",
     "iopub.status.busy": "2020-04-23T04:22:23.388983Z",
     "iopub.status.idle": "2020-04-23T04:22:23.395163Z",
     "shell.execute_reply": "2020-04-23T04:22:23.394609Z"
    },
    "papermill": {
     "duration": 0.039484,
     "end_time": "2020-04-23T04:22:23.395293",
     "exception": false,
     "start_time": "2020-04-23T04:22:23.355809",
     "status": "completed"
    },
    "tags": []
   },
   "outputs": [],
   "source": [
    "df = df.drop(['Province/State'], axis=1).groupby('Country/Region').sum().reset_index()"
   ]
  },
  {
   "cell_type": "code",
   "execution_count": 18,
   "metadata": {
    "execution": {
     "iopub.execute_input": "2020-04-23T04:22:23.465662Z",
     "iopub.status.busy": "2020-04-23T04:22:23.450327Z",
     "iopub.status.idle": "2020-04-23T04:22:23.474095Z",
     "shell.execute_reply": "2020-04-23T04:22:23.472864Z"
    },
    "papermill": {
     "duration": 0.054212,
     "end_time": "2020-04-23T04:22:23.474217",
     "exception": false,
     "start_time": "2020-04-23T04:22:23.420005",
     "status": "completed"
    },
    "tags": []
   },
   "outputs": [
    {
     "data": {
      "text/html": [
       "<div>\n",
       "<style scoped>\n",
       "    .dataframe tbody tr th:only-of-type {\n",
       "        vertical-align: middle;\n",
       "    }\n",
       "\n",
       "    .dataframe tbody tr th {\n",
       "        vertical-align: top;\n",
       "    }\n",
       "\n",
       "    .dataframe thead th {\n",
       "        text-align: right;\n",
       "    }\n",
       "</style>\n",
       "<table border=\"1\" class=\"dataframe\">\n",
       "  <thead>\n",
       "    <tr style=\"text-align: right;\">\n",
       "      <th></th>\n",
       "      <th>Country/Region</th>\n",
       "      <th>1/22/20</th>\n",
       "      <th>1/23/20</th>\n",
       "      <th>1/24/20</th>\n",
       "      <th>1/25/20</th>\n",
       "      <th>1/26/20</th>\n",
       "      <th>1/27/20</th>\n",
       "      <th>1/28/20</th>\n",
       "      <th>1/29/20</th>\n",
       "      <th>1/30/20</th>\n",
       "      <th>...</th>\n",
       "      <th>4/13/20</th>\n",
       "      <th>4/14/20</th>\n",
       "      <th>4/15/20</th>\n",
       "      <th>4/16/20</th>\n",
       "      <th>4/17/20</th>\n",
       "      <th>4/18/20</th>\n",
       "      <th>4/19/20</th>\n",
       "      <th>4/20/20</th>\n",
       "      <th>4/21/20</th>\n",
       "      <th>4/22/20</th>\n",
       "    </tr>\n",
       "  </thead>\n",
       "  <tbody>\n",
       "    <tr>\n",
       "      <th>0</th>\n",
       "      <td>Afghanistan</td>\n",
       "      <td>0</td>\n",
       "      <td>0</td>\n",
       "      <td>0</td>\n",
       "      <td>0</td>\n",
       "      <td>0</td>\n",
       "      <td>0</td>\n",
       "      <td>0</td>\n",
       "      <td>0</td>\n",
       "      <td>0</td>\n",
       "      <td>...</td>\n",
       "      <td>665</td>\n",
       "      <td>714</td>\n",
       "      <td>784</td>\n",
       "      <td>840</td>\n",
       "      <td>906</td>\n",
       "      <td>933</td>\n",
       "      <td>996</td>\n",
       "      <td>1026</td>\n",
       "      <td>1092</td>\n",
       "      <td>1176</td>\n",
       "    </tr>\n",
       "    <tr>\n",
       "      <th>1</th>\n",
       "      <td>Albania</td>\n",
       "      <td>0</td>\n",
       "      <td>0</td>\n",
       "      <td>0</td>\n",
       "      <td>0</td>\n",
       "      <td>0</td>\n",
       "      <td>0</td>\n",
       "      <td>0</td>\n",
       "      <td>0</td>\n",
       "      <td>0</td>\n",
       "      <td>...</td>\n",
       "      <td>467</td>\n",
       "      <td>475</td>\n",
       "      <td>494</td>\n",
       "      <td>518</td>\n",
       "      <td>539</td>\n",
       "      <td>548</td>\n",
       "      <td>562</td>\n",
       "      <td>584</td>\n",
       "      <td>609</td>\n",
       "      <td>634</td>\n",
       "    </tr>\n",
       "    <tr>\n",
       "      <th>2</th>\n",
       "      <td>Algeria</td>\n",
       "      <td>0</td>\n",
       "      <td>0</td>\n",
       "      <td>0</td>\n",
       "      <td>0</td>\n",
       "      <td>0</td>\n",
       "      <td>0</td>\n",
       "      <td>0</td>\n",
       "      <td>0</td>\n",
       "      <td>0</td>\n",
       "      <td>...</td>\n",
       "      <td>1983</td>\n",
       "      <td>2070</td>\n",
       "      <td>2160</td>\n",
       "      <td>2268</td>\n",
       "      <td>2418</td>\n",
       "      <td>2534</td>\n",
       "      <td>2629</td>\n",
       "      <td>2718</td>\n",
       "      <td>2811</td>\n",
       "      <td>2910</td>\n",
       "    </tr>\n",
       "    <tr>\n",
       "      <th>3</th>\n",
       "      <td>Andorra</td>\n",
       "      <td>0</td>\n",
       "      <td>0</td>\n",
       "      <td>0</td>\n",
       "      <td>0</td>\n",
       "      <td>0</td>\n",
       "      <td>0</td>\n",
       "      <td>0</td>\n",
       "      <td>0</td>\n",
       "      <td>0</td>\n",
       "      <td>...</td>\n",
       "      <td>646</td>\n",
       "      <td>659</td>\n",
       "      <td>673</td>\n",
       "      <td>673</td>\n",
       "      <td>696</td>\n",
       "      <td>704</td>\n",
       "      <td>713</td>\n",
       "      <td>717</td>\n",
       "      <td>717</td>\n",
       "      <td>723</td>\n",
       "    </tr>\n",
       "    <tr>\n",
       "      <th>4</th>\n",
       "      <td>Angola</td>\n",
       "      <td>0</td>\n",
       "      <td>0</td>\n",
       "      <td>0</td>\n",
       "      <td>0</td>\n",
       "      <td>0</td>\n",
       "      <td>0</td>\n",
       "      <td>0</td>\n",
       "      <td>0</td>\n",
       "      <td>0</td>\n",
       "      <td>...</td>\n",
       "      <td>19</td>\n",
       "      <td>19</td>\n",
       "      <td>19</td>\n",
       "      <td>19</td>\n",
       "      <td>19</td>\n",
       "      <td>24</td>\n",
       "      <td>24</td>\n",
       "      <td>24</td>\n",
       "      <td>24</td>\n",
       "      <td>25</td>\n",
       "    </tr>\n",
       "  </tbody>\n",
       "</table>\n",
       "<p>5 rows × 93 columns</p>\n",
       "</div>"
      ],
      "text/plain": [
       "  Country/Region  1/22/20  1/23/20  1/24/20  1/25/20  1/26/20  1/27/20  \\\n",
       "0    Afghanistan        0        0        0        0        0        0   \n",
       "1        Albania        0        0        0        0        0        0   \n",
       "2        Algeria        0        0        0        0        0        0   \n",
       "3        Andorra        0        0        0        0        0        0   \n",
       "4         Angola        0        0        0        0        0        0   \n",
       "\n",
       "   1/28/20  1/29/20  1/30/20  ...  4/13/20  4/14/20  4/15/20  4/16/20  \\\n",
       "0        0        0        0  ...      665      714      784      840   \n",
       "1        0        0        0  ...      467      475      494      518   \n",
       "2        0        0        0  ...     1983     2070     2160     2268   \n",
       "3        0        0        0  ...      646      659      673      673   \n",
       "4        0        0        0  ...       19       19       19       19   \n",
       "\n",
       "   4/17/20  4/18/20  4/19/20  4/20/20  4/21/20  4/22/20  \n",
       "0      906      933      996     1026     1092     1176  \n",
       "1      539      548      562      584      609      634  \n",
       "2     2418     2534     2629     2718     2811     2910  \n",
       "3      696      704      713      717      717      723  \n",
       "4       19       24       24       24       24       25  \n",
       "\n",
       "[5 rows x 93 columns]"
      ]
     },
     "execution_count": 18,
     "metadata": {},
     "output_type": "execute_result"
    }
   ],
   "source": [
    "df.head()"
   ]
  },
  {
   "cell_type": "code",
   "execution_count": 19,
   "metadata": {
    "execution": {
     "iopub.execute_input": "2020-04-23T04:22:23.530880Z",
     "iopub.status.busy": "2020-04-23T04:22:23.530253Z",
     "iopub.status.idle": "2020-04-23T04:22:23.549324Z",
     "shell.execute_reply": "2020-04-23T04:22:23.548633Z"
    },
    "papermill": {
     "duration": 0.04968,
     "end_time": "2020-04-23T04:22:23.549445",
     "exception": false,
     "start_time": "2020-04-23T04:22:23.499765",
     "status": "completed"
    },
    "tags": []
   },
   "outputs": [],
   "source": [
    "df3 = df.T"
   ]
  },
  {
   "cell_type": "code",
   "execution_count": 20,
   "metadata": {
    "execution": {
     "iopub.execute_input": "2020-04-23T04:22:23.624601Z",
     "iopub.status.busy": "2020-04-23T04:22:23.623974Z",
     "iopub.status.idle": "2020-04-23T04:22:23.627659Z",
     "shell.execute_reply": "2020-04-23T04:22:23.627066Z"
    },
    "papermill": {
     "duration": 0.050788,
     "end_time": "2020-04-23T04:22:23.627775",
     "exception": false,
     "start_time": "2020-04-23T04:22:23.576987",
     "status": "completed"
    },
    "tags": []
   },
   "outputs": [
    {
     "data": {
      "text/html": [
       "<div>\n",
       "<style scoped>\n",
       "    .dataframe tbody tr th:only-of-type {\n",
       "        vertical-align: middle;\n",
       "    }\n",
       "\n",
       "    .dataframe tbody tr th {\n",
       "        vertical-align: top;\n",
       "    }\n",
       "\n",
       "    .dataframe thead th {\n",
       "        text-align: right;\n",
       "    }\n",
       "</style>\n",
       "<table border=\"1\" class=\"dataframe\">\n",
       "  <thead>\n",
       "    <tr style=\"text-align: right;\">\n",
       "      <th></th>\n",
       "      <th>0</th>\n",
       "      <th>1</th>\n",
       "      <th>2</th>\n",
       "      <th>3</th>\n",
       "      <th>4</th>\n",
       "      <th>5</th>\n",
       "      <th>6</th>\n",
       "      <th>7</th>\n",
       "      <th>8</th>\n",
       "      <th>9</th>\n",
       "      <th>...</th>\n",
       "      <th>175</th>\n",
       "      <th>176</th>\n",
       "      <th>177</th>\n",
       "      <th>178</th>\n",
       "      <th>179</th>\n",
       "      <th>180</th>\n",
       "      <th>181</th>\n",
       "      <th>182</th>\n",
       "      <th>183</th>\n",
       "      <th>184</th>\n",
       "    </tr>\n",
       "  </thead>\n",
       "  <tbody>\n",
       "    <tr>\n",
       "      <th>Country/Region</th>\n",
       "      <td>Afghanistan</td>\n",
       "      <td>Albania</td>\n",
       "      <td>Algeria</td>\n",
       "      <td>Andorra</td>\n",
       "      <td>Angola</td>\n",
       "      <td>Antigua and Barbuda</td>\n",
       "      <td>Argentina</td>\n",
       "      <td>Armenia</td>\n",
       "      <td>Australia</td>\n",
       "      <td>Austria</td>\n",
       "      <td>...</td>\n",
       "      <td>United Kingdom</td>\n",
       "      <td>Uruguay</td>\n",
       "      <td>Uzbekistan</td>\n",
       "      <td>Venezuela</td>\n",
       "      <td>Vietnam</td>\n",
       "      <td>West Bank and Gaza</td>\n",
       "      <td>Western Sahara</td>\n",
       "      <td>Yemen</td>\n",
       "      <td>Zambia</td>\n",
       "      <td>Zimbabwe</td>\n",
       "    </tr>\n",
       "    <tr>\n",
       "      <th>1/22/20</th>\n",
       "      <td>0</td>\n",
       "      <td>0</td>\n",
       "      <td>0</td>\n",
       "      <td>0</td>\n",
       "      <td>0</td>\n",
       "      <td>0</td>\n",
       "      <td>0</td>\n",
       "      <td>0</td>\n",
       "      <td>0</td>\n",
       "      <td>0</td>\n",
       "      <td>...</td>\n",
       "      <td>0</td>\n",
       "      <td>0</td>\n",
       "      <td>0</td>\n",
       "      <td>0</td>\n",
       "      <td>0</td>\n",
       "      <td>0</td>\n",
       "      <td>0</td>\n",
       "      <td>0</td>\n",
       "      <td>0</td>\n",
       "      <td>0</td>\n",
       "    </tr>\n",
       "    <tr>\n",
       "      <th>1/23/20</th>\n",
       "      <td>0</td>\n",
       "      <td>0</td>\n",
       "      <td>0</td>\n",
       "      <td>0</td>\n",
       "      <td>0</td>\n",
       "      <td>0</td>\n",
       "      <td>0</td>\n",
       "      <td>0</td>\n",
       "      <td>0</td>\n",
       "      <td>0</td>\n",
       "      <td>...</td>\n",
       "      <td>0</td>\n",
       "      <td>0</td>\n",
       "      <td>0</td>\n",
       "      <td>0</td>\n",
       "      <td>2</td>\n",
       "      <td>0</td>\n",
       "      <td>0</td>\n",
       "      <td>0</td>\n",
       "      <td>0</td>\n",
       "      <td>0</td>\n",
       "    </tr>\n",
       "    <tr>\n",
       "      <th>1/24/20</th>\n",
       "      <td>0</td>\n",
       "      <td>0</td>\n",
       "      <td>0</td>\n",
       "      <td>0</td>\n",
       "      <td>0</td>\n",
       "      <td>0</td>\n",
       "      <td>0</td>\n",
       "      <td>0</td>\n",
       "      <td>0</td>\n",
       "      <td>0</td>\n",
       "      <td>...</td>\n",
       "      <td>0</td>\n",
       "      <td>0</td>\n",
       "      <td>0</td>\n",
       "      <td>0</td>\n",
       "      <td>2</td>\n",
       "      <td>0</td>\n",
       "      <td>0</td>\n",
       "      <td>0</td>\n",
       "      <td>0</td>\n",
       "      <td>0</td>\n",
       "    </tr>\n",
       "    <tr>\n",
       "      <th>1/25/20</th>\n",
       "      <td>0</td>\n",
       "      <td>0</td>\n",
       "      <td>0</td>\n",
       "      <td>0</td>\n",
       "      <td>0</td>\n",
       "      <td>0</td>\n",
       "      <td>0</td>\n",
       "      <td>0</td>\n",
       "      <td>0</td>\n",
       "      <td>0</td>\n",
       "      <td>...</td>\n",
       "      <td>0</td>\n",
       "      <td>0</td>\n",
       "      <td>0</td>\n",
       "      <td>0</td>\n",
       "      <td>2</td>\n",
       "      <td>0</td>\n",
       "      <td>0</td>\n",
       "      <td>0</td>\n",
       "      <td>0</td>\n",
       "      <td>0</td>\n",
       "    </tr>\n",
       "  </tbody>\n",
       "</table>\n",
       "<p>5 rows × 185 columns</p>\n",
       "</div>"
      ],
      "text/plain": [
       "                        0        1        2        3       4    \\\n",
       "Country/Region  Afghanistan  Albania  Algeria  Andorra  Angola   \n",
       "1/22/20                   0        0        0        0       0   \n",
       "1/23/20                   0        0        0        0       0   \n",
       "1/24/20                   0        0        0        0       0   \n",
       "1/25/20                   0        0        0        0       0   \n",
       "\n",
       "                                5          6        7          8        9    \\\n",
       "Country/Region  Antigua and Barbuda  Argentina  Armenia  Australia  Austria   \n",
       "1/22/20                           0          0        0          0        0   \n",
       "1/23/20                           0          0        0          0        0   \n",
       "1/24/20                           0          0        0          0        0   \n",
       "1/25/20                           0          0        0          0        0   \n",
       "\n",
       "                ...             175      176         177        178      179  \\\n",
       "Country/Region  ...  United Kingdom  Uruguay  Uzbekistan  Venezuela  Vietnam   \n",
       "1/22/20         ...               0        0           0          0        0   \n",
       "1/23/20         ...               0        0           0          0        2   \n",
       "1/24/20         ...               0        0           0          0        2   \n",
       "1/25/20         ...               0        0           0          0        2   \n",
       "\n",
       "                               180             181    182     183       184  \n",
       "Country/Region  West Bank and Gaza  Western Sahara  Yemen  Zambia  Zimbabwe  \n",
       "1/22/20                          0               0      0       0         0  \n",
       "1/23/20                          0               0      0       0         0  \n",
       "1/24/20                          0               0      0       0         0  \n",
       "1/25/20                          0               0      0       0         0  \n",
       "\n",
       "[5 rows x 185 columns]"
      ]
     },
     "execution_count": 20,
     "metadata": {},
     "output_type": "execute_result"
    }
   ],
   "source": [
    "df3.head()"
   ]
  },
  {
   "cell_type": "code",
   "execution_count": 21,
   "metadata": {
    "execution": {
     "iopub.execute_input": "2020-04-23T04:22:23.695355Z",
     "iopub.status.busy": "2020-04-23T04:22:23.687472Z",
     "iopub.status.idle": "2020-04-23T04:22:23.703029Z",
     "shell.execute_reply": "2020-04-23T04:22:23.701513Z"
    },
    "papermill": {
     "duration": 0.049114,
     "end_time": "2020-04-23T04:22:23.703242",
     "exception": false,
     "start_time": "2020-04-23T04:22:23.654128",
     "status": "completed"
    },
    "tags": []
   },
   "outputs": [],
   "source": [
    "df2 = df.melt(id_vars=[\"Country/Region\"], \n",
    "        var_name=\"Date\",\n",
    "        value_name=\"cases\")\n",
    "df2 = df2.rename({'Country/Region': 'country'}, axis=1)"
   ]
  },
  {
   "cell_type": "code",
   "execution_count": null,
   "metadata": {
    "papermill": {
     "duration": 0.028262,
     "end_time": "2020-04-23T04:22:23.757431",
     "exception": false,
     "start_time": "2020-04-23T04:22:23.729169",
     "status": "completed"
    },
    "tags": []
   },
   "outputs": [],
   "source": []
  },
  {
   "cell_type": "code",
   "execution_count": 22,
   "metadata": {
    "execution": {
     "iopub.execute_input": "2020-04-23T04:22:23.826775Z",
     "iopub.status.busy": "2020-04-23T04:22:23.826166Z",
     "iopub.status.idle": "2020-04-23T04:22:23.839287Z",
     "shell.execute_reply": "2020-04-23T04:22:23.838689Z"
    },
    "papermill": {
     "duration": 0.052029,
     "end_time": "2020-04-23T04:22:23.839398",
     "exception": false,
     "start_time": "2020-04-23T04:22:23.787369",
     "status": "completed"
    },
    "tags": []
   },
   "outputs": [
    {
     "data": {
      "text/html": [
       "<div>\n",
       "<style scoped>\n",
       "    .dataframe tbody tr th:only-of-type {\n",
       "        vertical-align: middle;\n",
       "    }\n",
       "\n",
       "    .dataframe tbody tr th {\n",
       "        vertical-align: top;\n",
       "    }\n",
       "\n",
       "    .dataframe thead th {\n",
       "        text-align: right;\n",
       "    }\n",
       "</style>\n",
       "<table border=\"1\" class=\"dataframe\">\n",
       "  <thead>\n",
       "    <tr style=\"text-align: right;\">\n",
       "      <th></th>\n",
       "      <th>country</th>\n",
       "      <th>Date</th>\n",
       "      <th>cases</th>\n",
       "    </tr>\n",
       "  </thead>\n",
       "  <tbody>\n",
       "    <tr>\n",
       "      <th>36</th>\n",
       "      <td>China</td>\n",
       "      <td>1/22/20</td>\n",
       "      <td>548</td>\n",
       "    </tr>\n",
       "    <tr>\n",
       "      <th>221</th>\n",
       "      <td>China</td>\n",
       "      <td>1/23/20</td>\n",
       "      <td>643</td>\n",
       "    </tr>\n",
       "    <tr>\n",
       "      <th>406</th>\n",
       "      <td>China</td>\n",
       "      <td>1/24/20</td>\n",
       "      <td>920</td>\n",
       "    </tr>\n",
       "    <tr>\n",
       "      <th>591</th>\n",
       "      <td>China</td>\n",
       "      <td>1/25/20</td>\n",
       "      <td>1406</td>\n",
       "    </tr>\n",
       "    <tr>\n",
       "      <th>776</th>\n",
       "      <td>China</td>\n",
       "      <td>1/26/20</td>\n",
       "      <td>2075</td>\n",
       "    </tr>\n",
       "    <tr>\n",
       "      <th>...</th>\n",
       "      <td>...</td>\n",
       "      <td>...</td>\n",
       "      <td>...</td>\n",
       "    </tr>\n",
       "    <tr>\n",
       "      <th>16131</th>\n",
       "      <td>China</td>\n",
       "      <td>4/18/20</td>\n",
       "      <td>83787</td>\n",
       "    </tr>\n",
       "    <tr>\n",
       "      <th>16316</th>\n",
       "      <td>China</td>\n",
       "      <td>4/19/20</td>\n",
       "      <td>83805</td>\n",
       "    </tr>\n",
       "    <tr>\n",
       "      <th>16501</th>\n",
       "      <td>China</td>\n",
       "      <td>4/20/20</td>\n",
       "      <td>83817</td>\n",
       "    </tr>\n",
       "    <tr>\n",
       "      <th>16686</th>\n",
       "      <td>China</td>\n",
       "      <td>4/21/20</td>\n",
       "      <td>83853</td>\n",
       "    </tr>\n",
       "    <tr>\n",
       "      <th>16871</th>\n",
       "      <td>China</td>\n",
       "      <td>4/22/20</td>\n",
       "      <td>83868</td>\n",
       "    </tr>\n",
       "  </tbody>\n",
       "</table>\n",
       "<p>92 rows × 3 columns</p>\n",
       "</div>"
      ],
      "text/plain": [
       "      country     Date  cases\n",
       "36      China  1/22/20    548\n",
       "221     China  1/23/20    643\n",
       "406     China  1/24/20    920\n",
       "591     China  1/25/20   1406\n",
       "776     China  1/26/20   2075\n",
       "...       ...      ...    ...\n",
       "16131   China  4/18/20  83787\n",
       "16316   China  4/19/20  83805\n",
       "16501   China  4/20/20  83817\n",
       "16686   China  4/21/20  83853\n",
       "16871   China  4/22/20  83868\n",
       "\n",
       "[92 rows x 3 columns]"
      ]
     },
     "execution_count": 22,
     "metadata": {},
     "output_type": "execute_result"
    }
   ],
   "source": [
    "df2[df2.country==\"China\"]"
   ]
  },
  {
   "cell_type": "code",
   "execution_count": 23,
   "metadata": {
    "execution": {
     "iopub.execute_input": "2020-04-23T04:22:23.899027Z",
     "iopub.status.busy": "2020-04-23T04:22:23.898421Z",
     "iopub.status.idle": "2020-04-23T04:22:23.979111Z",
     "shell.execute_reply": "2020-04-23T04:22:23.979592Z"
    },
    "papermill": {
     "duration": 0.114396,
     "end_time": "2020-04-23T04:22:23.979735",
     "exception": false,
     "start_time": "2020-04-23T04:22:23.865339",
     "status": "completed"
    },
    "tags": []
   },
   "outputs": [],
   "source": [
    "import pandas as pd\n",
    "url=\"https://github.com/CSSEGISandData/COVID-19/raw/master/csse_covid_19_data/csse_covid_19_time_series/time_series_covid19_confirmed_global.csv\"\n",
    "df = pd.read_csv(url)"
   ]
  },
  {
   "cell_type": "code",
   "execution_count": 24,
   "metadata": {
    "execution": {
     "iopub.execute_input": "2020-04-23T04:22:24.056171Z",
     "iopub.status.busy": "2020-04-23T04:22:24.055617Z",
     "iopub.status.idle": "2020-04-23T04:22:24.059003Z",
     "shell.execute_reply": "2020-04-23T04:22:24.058440Z"
    },
    "papermill": {
     "duration": 0.047347,
     "end_time": "2020-04-23T04:22:24.059126",
     "exception": false,
     "start_time": "2020-04-23T04:22:24.011779",
     "status": "completed"
    },
    "tags": []
   },
   "outputs": [],
   "source": [
    "#df = df.drop(['Lat', 'Long'], axis=1)\n",
    "ncountries = df['Country/Region'].unique().tolist()"
   ]
  },
  {
   "cell_type": "code",
   "execution_count": 25,
   "metadata": {
    "execution": {
     "iopub.execute_input": "2020-04-23T04:22:24.119669Z",
     "iopub.status.busy": "2020-04-23T04:22:24.119024Z",
     "iopub.status.idle": "2020-04-23T04:22:29.462765Z",
     "shell.execute_reply": "2020-04-23T04:22:29.462246Z"
    },
    "papermill": {
     "duration": 5.377836,
     "end_time": "2020-04-23T04:22:29.462885",
     "exception": false,
     "start_time": "2020-04-23T04:22:24.085049",
     "status": "completed"
    },
    "tags": []
   },
   "outputs": [],
   "source": [
    "dfb = pd.DataFrame()\n",
    "for i, country in enumerate(ncountries):\n",
    "    dfc = df[df['Country/Region'] == country].copy()\n",
    "    if len(dfc) > 1:\n",
    "        dfc = dfc.drop(['Province/State', 'Lat', 'Long'], axis=1).groupby('Country/Region').sum().reset_index()\n",
    "    else:\n",
    "        dfc = dfc.drop(['Province/State', 'Lat', 'Long'], axis=1)\n",
    "    dfc = dfc.rename({'Country/Region': 'country', 'Date': 'date'}, axis=1)\n",
    "    dfc = dfc.T\n",
    "    #dfc['date'] = pd.to_datetime(dfc['date'])\n",
    "    dfb = dfb.append(dfc)"
   ]
  },
  {
   "cell_type": "code",
   "execution_count": 26,
   "metadata": {
    "execution": {
     "iopub.execute_input": "2020-04-23T04:22:29.529323Z",
     "iopub.status.busy": "2020-04-23T04:22:29.528648Z",
     "iopub.status.idle": "2020-04-23T04:22:29.531578Z",
     "shell.execute_reply": "2020-04-23T04:22:29.532370Z"
    },
    "papermill": {
     "duration": 0.044152,
     "end_time": "2020-04-23T04:22:29.532513",
     "exception": false,
     "start_time": "2020-04-23T04:22:29.488361",
     "status": "completed"
    },
    "tags": []
   },
   "outputs": [],
   "source": [
    "dfc = df[df['Country/Region'] == \"China\"].copy()\n",
    "if len(dfc) > 1:\n",
    "    dfc = dfc.drop(['Province/State', 'Lat', 'Long'], axis=1).groupby('Country/Region').sum().reset_index()\n",
    "else:\n",
    "    dfc = dfc.drop(['Province/State', 'Lat', 'Long'], axis=1)\n",
    "dfc = dfc.rename({'Country/Region': 'country', 'Date': 'date'}, axis=1)\n",
    "dfc = dfc.T"
   ]
  },
  {
   "cell_type": "code",
   "execution_count": 27,
   "metadata": {
    "execution": {
     "iopub.execute_input": "2020-04-23T04:22:29.592036Z",
     "iopub.status.busy": "2020-04-23T04:22:29.591400Z",
     "iopub.status.idle": "2020-04-23T04:22:29.593770Z",
     "shell.execute_reply": "2020-04-23T04:22:29.594277Z"
    },
    "papermill": {
     "duration": 0.035991,
     "end_time": "2020-04-23T04:22:29.594409",
     "exception": false,
     "start_time": "2020-04-23T04:22:29.558418",
     "status": "completed"
    },
    "tags": []
   },
   "outputs": [
    {
     "data": {
      "text/html": [
       "<div>\n",
       "<style scoped>\n",
       "    .dataframe tbody tr th:only-of-type {\n",
       "        vertical-align: middle;\n",
       "    }\n",
       "\n",
       "    .dataframe tbody tr th {\n",
       "        vertical-align: top;\n",
       "    }\n",
       "\n",
       "    .dataframe thead th {\n",
       "        text-align: right;\n",
       "    }\n",
       "</style>\n",
       "<table border=\"1\" class=\"dataframe\">\n",
       "  <thead>\n",
       "    <tr style=\"text-align: right;\">\n",
       "      <th></th>\n",
       "      <th>0</th>\n",
       "    </tr>\n",
       "  </thead>\n",
       "  <tbody>\n",
       "    <tr>\n",
       "      <th>country</th>\n",
       "      <td>China</td>\n",
       "    </tr>\n",
       "    <tr>\n",
       "      <th>1/22/20</th>\n",
       "      <td>548</td>\n",
       "    </tr>\n",
       "    <tr>\n",
       "      <th>1/23/20</th>\n",
       "      <td>643</td>\n",
       "    </tr>\n",
       "    <tr>\n",
       "      <th>1/24/20</th>\n",
       "      <td>920</td>\n",
       "    </tr>\n",
       "    <tr>\n",
       "      <th>1/25/20</th>\n",
       "      <td>1406</td>\n",
       "    </tr>\n",
       "  </tbody>\n",
       "</table>\n",
       "</div>"
      ],
      "text/plain": [
       "             0\n",
       "country  China\n",
       "1/22/20    548\n",
       "1/23/20    643\n",
       "1/24/20    920\n",
       "1/25/20   1406"
      ]
     },
     "execution_count": 27,
     "metadata": {},
     "output_type": "execute_result"
    }
   ],
   "source": [
    "dfc.head()"
   ]
  },
  {
   "cell_type": "code",
   "execution_count": null,
   "metadata": {
    "papermill": {
     "duration": 0.025999,
     "end_time": "2020-04-23T04:22:29.646335",
     "exception": false,
     "start_time": "2020-04-23T04:22:29.620336",
     "status": "completed"
    },
    "tags": []
   },
   "outputs": [],
   "source": []
  }
 ],
 "metadata": {
  "kernelspec": {
   "display_name": "Python 3",
   "language": "python",
   "name": "python3"
  },
  "language_info": {
   "codemirror_mode": {
    "name": "ipython",
    "version": 3
   },
   "file_extension": ".py",
   "mimetype": "text/x-python",
   "name": "python",
   "nbconvert_exporter": "python",
   "pygments_lexer": "ipython3",
   "version": "3.6.10"
  },
  "papermill": {
   "duration": 13.605726,
   "end_time": "2020-04-23T04:22:29.778868",
   "environment_variables": {},
   "exception": null,
   "input_path": "covid_tracking.ipynb",
   "output_path": "covid_tracking.ipynb",
   "parameters": {},
   "start_time": "2020-04-23T04:22:16.173142",
   "version": "2.1.0"
  }
 },
 "nbformat": 4,
 "nbformat_minor": 4
}